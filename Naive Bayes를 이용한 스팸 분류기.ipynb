{
 "cells": [
  {
   "cell_type": "markdown",
   "metadata": {},
   "source": [
    "# Naive Bayes를 이용한 스팸 분류기\n",
    "### (2014603043 최재익)"
   ]
  },
  {
   "cell_type": "markdown",
   "metadata": {},
   "source": [
    "#### 전체적인 내용의 흐름은 다음과 같습니다.\n",
    "\n",
    "* 주어진 Dataset을 다루기 쉬운 형태로 변환한다.\n",
    "* 주어진 Dateset을 분류하는 Bernoulli Naive Bayes 모델을 제작한다.\n",
    "* 제작한 모델과 sklearn의 모듈(BernoulliNB)의 결과를 비교한다.\n",
    "* 주어진 Dataset을 분류하는 Multinomial Naive Bayes 모델을 제작한다.\n",
    "* 제작한 모델과 sklearn의 모듈(MultinomialNB)의 결과를 비교한다."
   ]
  },
  {
   "cell_type": "markdown",
   "metadata": {},
   "source": [
    "#### 사용된 이론 및 방법들은 다음과 같습니다.\n",
    "* Bayes' theorem\n",
    "* Bag-of-words model\n",
    "* Bernoulli document model\n",
    "* Bernoulli NB smoothing\n",
    "* Multinomial document model\n",
    "* Multinomail NB smoothing (+log 변환)"
   ]
  },
  {
   "cell_type": "markdown",
   "metadata": {},
   "source": [
    "#### 주어진 Dataset에 대한 가정은 다음과 같습니다.\n",
    "* 입력 벡터를 구성하는 각각의 요소가 입력 벡터에 나타날 확률은 서로 '독립적'이다."
   ]
  },
  {
   "cell_type": "markdown",
   "metadata": {},
   "source": [
    "## 1. Dataset 다루기"
   ]
  },
  {
   "cell_type": "markdown",
   "metadata": {},
   "source": [
    "* 사용된 Dataset은 과제와 함께 첨부하여 제출하였습니다.\n",
    "* 올바른 작업경로에 Dataset을 저장한다면, 이후의 과정들을 직접 확인해볼 수 있습니다."
   ]
  },
  {
   "cell_type": "code",
   "execution_count": 1,
   "metadata": {},
   "outputs": [],
   "source": [
    "## Dataset from - https://archive.ics.uci.edu/ml/datasets/SMS+Spam+Collection\n",
    "## Dataset을 다운로드한 후, \"smsspamcollection.csv\" 파일로 변환하였습니다.\n",
    "## 작업경로를 현재 사용하는 경로로 지정하였습니다. (이 경로에 파일을 저장함.)\n",
    "## 작업경로의 문제로 인한 오류 해결 방법 - https://codedragon.tistory.com/9343\n",
    "\n",
    "import os\n",
    "\n",
    "currentPath = os.getcwd()\n",
    "\n",
    "os.chdir(currentPath + \"\\\\.ipynb_checkpoints\")"
   ]
  },
  {
   "cell_type": "code",
   "execution_count": 2,
   "metadata": {},
   "outputs": [
    {
     "data": {
      "text/html": [
       "<div>\n",
       "<style scoped>\n",
       "    .dataframe tbody tr th:only-of-type {\n",
       "        vertical-align: middle;\n",
       "    }\n",
       "\n",
       "    .dataframe tbody tr th {\n",
       "        vertical-align: top;\n",
       "    }\n",
       "\n",
       "    .dataframe thead th {\n",
       "        text-align: right;\n",
       "    }\n",
       "</style>\n",
       "<table border=\"1\" class=\"dataframe\">\n",
       "  <thead>\n",
       "    <tr style=\"text-align: right;\">\n",
       "      <th></th>\n",
       "      <th>v1</th>\n",
       "      <th>v2</th>\n",
       "      <th>Unnamed: 2</th>\n",
       "      <th>Unnamed: 3</th>\n",
       "      <th>Unnamed: 4</th>\n",
       "    </tr>\n",
       "  </thead>\n",
       "  <tbody>\n",
       "    <tr>\n",
       "      <th>0</th>\n",
       "      <td>ham</td>\n",
       "      <td>Go until jurong point, crazy.. Available only ...</td>\n",
       "      <td>NaN</td>\n",
       "      <td>NaN</td>\n",
       "      <td>NaN</td>\n",
       "    </tr>\n",
       "    <tr>\n",
       "      <th>1</th>\n",
       "      <td>ham</td>\n",
       "      <td>Ok lar... Joking wif u oni...</td>\n",
       "      <td>NaN</td>\n",
       "      <td>NaN</td>\n",
       "      <td>NaN</td>\n",
       "    </tr>\n",
       "    <tr>\n",
       "      <th>2</th>\n",
       "      <td>spam</td>\n",
       "      <td>Free entry in 2 a wkly comp to win FA Cup fina...</td>\n",
       "      <td>NaN</td>\n",
       "      <td>NaN</td>\n",
       "      <td>NaN</td>\n",
       "    </tr>\n",
       "    <tr>\n",
       "      <th>3</th>\n",
       "      <td>ham</td>\n",
       "      <td>U dun say so early hor... U c already then say...</td>\n",
       "      <td>NaN</td>\n",
       "      <td>NaN</td>\n",
       "      <td>NaN</td>\n",
       "    </tr>\n",
       "    <tr>\n",
       "      <th>4</th>\n",
       "      <td>ham</td>\n",
       "      <td>Nah I don't think he goes to usf, he lives aro...</td>\n",
       "      <td>NaN</td>\n",
       "      <td>NaN</td>\n",
       "      <td>NaN</td>\n",
       "    </tr>\n",
       "  </tbody>\n",
       "</table>\n",
       "</div>"
      ],
      "text/plain": [
       "     v1                                                 v2 Unnamed: 2  \\\n",
       "0   ham  Go until jurong point, crazy.. Available only ...        NaN   \n",
       "1   ham                      Ok lar... Joking wif u oni...        NaN   \n",
       "2  spam  Free entry in 2 a wkly comp to win FA Cup fina...        NaN   \n",
       "3   ham  U dun say so early hor... U c already then say...        NaN   \n",
       "4   ham  Nah I don't think he goes to usf, he lives aro...        NaN   \n",
       "\n",
       "  Unnamed: 3 Unnamed: 4  \n",
       "0        NaN        NaN  \n",
       "1        NaN        NaN  \n",
       "2        NaN        NaN  \n",
       "3        NaN        NaN  \n",
       "4        NaN        NaN  "
      ]
     },
     "execution_count": 2,
     "metadata": {},
     "output_type": "execute_result"
    }
   ],
   "source": [
    "import pandas as pd\n",
    "\n",
    "sms_collection = pd.read_csv('smsspamcollection.csv', encoding='latin1')\n",
    "sms_collection.head()"
   ]
  },
  {
   "cell_type": "markdown",
   "metadata": {},
   "source": [
    "#### 불필요한 열을 삭제합니다."
   ]
  },
  {
   "cell_type": "code",
   "execution_count": 3,
   "metadata": {},
   "outputs": [
    {
     "data": {
      "text/html": [
       "<div>\n",
       "<style scoped>\n",
       "    .dataframe tbody tr th:only-of-type {\n",
       "        vertical-align: middle;\n",
       "    }\n",
       "\n",
       "    .dataframe tbody tr th {\n",
       "        vertical-align: top;\n",
       "    }\n",
       "\n",
       "    .dataframe thead th {\n",
       "        text-align: right;\n",
       "    }\n",
       "</style>\n",
       "<table border=\"1\" class=\"dataframe\">\n",
       "  <thead>\n",
       "    <tr style=\"text-align: right;\">\n",
       "      <th></th>\n",
       "      <th>v1</th>\n",
       "      <th>v2</th>\n",
       "    </tr>\n",
       "  </thead>\n",
       "  <tbody>\n",
       "    <tr>\n",
       "      <th>0</th>\n",
       "      <td>ham</td>\n",
       "      <td>Go until jurong point, crazy.. Available only ...</td>\n",
       "    </tr>\n",
       "    <tr>\n",
       "      <th>1</th>\n",
       "      <td>ham</td>\n",
       "      <td>Ok lar... Joking wif u oni...</td>\n",
       "    </tr>\n",
       "    <tr>\n",
       "      <th>2</th>\n",
       "      <td>spam</td>\n",
       "      <td>Free entry in 2 a wkly comp to win FA Cup fina...</td>\n",
       "    </tr>\n",
       "    <tr>\n",
       "      <th>3</th>\n",
       "      <td>ham</td>\n",
       "      <td>U dun say so early hor... U c already then say...</td>\n",
       "    </tr>\n",
       "    <tr>\n",
       "      <th>4</th>\n",
       "      <td>ham</td>\n",
       "      <td>Nah I don't think he goes to usf, he lives aro...</td>\n",
       "    </tr>\n",
       "  </tbody>\n",
       "</table>\n",
       "</div>"
      ],
      "text/plain": [
       "     v1                                                 v2\n",
       "0   ham  Go until jurong point, crazy.. Available only ...\n",
       "1   ham                      Ok lar... Joking wif u oni...\n",
       "2  spam  Free entry in 2 a wkly comp to win FA Cup fina...\n",
       "3   ham  U dun say so early hor... U c already then say...\n",
       "4   ham  Nah I don't think he goes to usf, he lives aro..."
      ]
     },
     "execution_count": 3,
     "metadata": {},
     "output_type": "execute_result"
    }
   ],
   "source": [
    "del sms_collection['Unnamed: 2']\n",
    "del sms_collection['Unnamed: 3']\n",
    "del sms_collection['Unnamed: 4']\n",
    "\n",
    "sms_collection.head()"
   ]
  },
  {
   "cell_type": "markdown",
   "metadata": {},
   "source": [
    "#### 열에 대한 이름을 다시 붙여줍니다."
   ]
  },
  {
   "cell_type": "code",
   "execution_count": 4,
   "metadata": {},
   "outputs": [
    {
     "data": {
      "text/html": [
       "<div>\n",
       "<style scoped>\n",
       "    .dataframe tbody tr th:only-of-type {\n",
       "        vertical-align: middle;\n",
       "    }\n",
       "\n",
       "    .dataframe tbody tr th {\n",
       "        vertical-align: top;\n",
       "    }\n",
       "\n",
       "    .dataframe thead th {\n",
       "        text-align: right;\n",
       "    }\n",
       "</style>\n",
       "<table border=\"1\" class=\"dataframe\">\n",
       "  <thead>\n",
       "    <tr style=\"text-align: right;\">\n",
       "      <th></th>\n",
       "      <th>label</th>\n",
       "      <th>sms_message</th>\n",
       "    </tr>\n",
       "  </thead>\n",
       "  <tbody>\n",
       "    <tr>\n",
       "      <th>0</th>\n",
       "      <td>0</td>\n",
       "      <td>Go until jurong point, crazy.. Available only ...</td>\n",
       "    </tr>\n",
       "    <tr>\n",
       "      <th>1</th>\n",
       "      <td>0</td>\n",
       "      <td>Ok lar... Joking wif u oni...</td>\n",
       "    </tr>\n",
       "    <tr>\n",
       "      <th>2</th>\n",
       "      <td>1</td>\n",
       "      <td>Free entry in 2 a wkly comp to win FA Cup fina...</td>\n",
       "    </tr>\n",
       "    <tr>\n",
       "      <th>3</th>\n",
       "      <td>0</td>\n",
       "      <td>U dun say so early hor... U c already then say...</td>\n",
       "    </tr>\n",
       "    <tr>\n",
       "      <th>4</th>\n",
       "      <td>0</td>\n",
       "      <td>Nah I don't think he goes to usf, he lives aro...</td>\n",
       "    </tr>\n",
       "  </tbody>\n",
       "</table>\n",
       "</div>"
      ],
      "text/plain": [
       "   label                                        sms_message\n",
       "0      0  Go until jurong point, crazy.. Available only ...\n",
       "1      0                      Ok lar... Joking wif u oni...\n",
       "2      1  Free entry in 2 a wkly comp to win FA Cup fina...\n",
       "3      0  U dun say so early hor... U c already then say...\n",
       "4      0  Nah I don't think he goes to usf, he lives aro..."
      ]
     },
     "execution_count": 4,
     "metadata": {},
     "output_type": "execute_result"
    }
   ],
   "source": [
    "# 'ham'을 '0'으로, 'spam'을 '1' 로 바꾸는 작업,'v1'을 'label', 'v2'를 'sms_message'로 바꾸는 작업을 진행\n",
    "\n",
    "sms_collection.columns = [\"label\", \"sms_message\"]\n",
    "sms_collection['label'] = sms_collection['label'].replace(['ham', 'spam'],[0,1])\n",
    "\n",
    "sms_collection.head()"
   ]
  },
  {
   "cell_type": "code",
   "execution_count": 5,
   "metadata": {},
   "outputs": [
    {
     "data": {
      "text/plain": [
       "\"Nah I don't think he goes to usf, he lives around here though\""
      ]
     },
     "execution_count": 5,
     "metadata": {},
     "output_type": "execute_result"
    }
   ],
   "source": [
    "# 특정한 Index(예:4)에 대한 sms_message를 출력하는 방법\n",
    "\n",
    "sms_collection.iloc[4]['sms_message']"
   ]
  },
  {
   "cell_type": "code",
   "execution_count": 6,
   "metadata": {},
   "outputs": [
    {
     "data": {
      "text/html": [
       "<div>\n",
       "<style scoped>\n",
       "    .dataframe tbody tr th:only-of-type {\n",
       "        vertical-align: middle;\n",
       "    }\n",
       "\n",
       "    .dataframe tbody tr th {\n",
       "        vertical-align: top;\n",
       "    }\n",
       "\n",
       "    .dataframe thead th {\n",
       "        text-align: right;\n",
       "    }\n",
       "</style>\n",
       "<table border=\"1\" class=\"dataframe\">\n",
       "  <thead>\n",
       "    <tr style=\"text-align: right;\">\n",
       "      <th></th>\n",
       "      <th>label</th>\n",
       "      <th>sms_message</th>\n",
       "    </tr>\n",
       "  </thead>\n",
       "  <tbody>\n",
       "    <tr>\n",
       "      <th>0</th>\n",
       "      <td>0</td>\n",
       "      <td>Go until jurong point, crazy.. Available only ...</td>\n",
       "    </tr>\n",
       "    <tr>\n",
       "      <th>1</th>\n",
       "      <td>0</td>\n",
       "      <td>Ok lar... Joking wif u oni...</td>\n",
       "    </tr>\n",
       "    <tr>\n",
       "      <th>2</th>\n",
       "      <td>1</td>\n",
       "      <td>Free entry in 2 a wkly comp to win FA Cup fina...</td>\n",
       "    </tr>\n",
       "    <tr>\n",
       "      <th>3</th>\n",
       "      <td>0</td>\n",
       "      <td>U dun say so early hor... U c already then say...</td>\n",
       "    </tr>\n",
       "    <tr>\n",
       "      <th>4</th>\n",
       "      <td>0</td>\n",
       "      <td>Nah I don't think he goes to usf, he lives aro...</td>\n",
       "    </tr>\n",
       "    <tr>\n",
       "      <th>...</th>\n",
       "      <td>...</td>\n",
       "      <td>...</td>\n",
       "    </tr>\n",
       "    <tr>\n",
       "      <th>5567</th>\n",
       "      <td>1</td>\n",
       "      <td>This is the 2nd time we have tried 2 contact u...</td>\n",
       "    </tr>\n",
       "    <tr>\n",
       "      <th>5568</th>\n",
       "      <td>0</td>\n",
       "      <td>Will ? b going to esplanade fr home?</td>\n",
       "    </tr>\n",
       "    <tr>\n",
       "      <th>5569</th>\n",
       "      <td>0</td>\n",
       "      <td>Pity, * was in mood for that. So...any other s...</td>\n",
       "    </tr>\n",
       "    <tr>\n",
       "      <th>5570</th>\n",
       "      <td>0</td>\n",
       "      <td>The guy did some bitching but I acted like i'd...</td>\n",
       "    </tr>\n",
       "    <tr>\n",
       "      <th>5571</th>\n",
       "      <td>0</td>\n",
       "      <td>Rofl. Its true to its name</td>\n",
       "    </tr>\n",
       "  </tbody>\n",
       "</table>\n",
       "<p>5572 rows × 2 columns</p>\n",
       "</div>"
      ],
      "text/plain": [
       "      label                                        sms_message\n",
       "0         0  Go until jurong point, crazy.. Available only ...\n",
       "1         0                      Ok lar... Joking wif u oni...\n",
       "2         1  Free entry in 2 a wkly comp to win FA Cup fina...\n",
       "3         0  U dun say so early hor... U c already then say...\n",
       "4         0  Nah I don't think he goes to usf, he lives aro...\n",
       "...     ...                                                ...\n",
       "5567      1  This is the 2nd time we have tried 2 contact u...\n",
       "5568      0               Will ? b going to esplanade fr home?\n",
       "5569      0  Pity, * was in mood for that. So...any other s...\n",
       "5570      0  The guy did some bitching but I acted like i'd...\n",
       "5571      0                         Rofl. Its true to its name\n",
       "\n",
       "[5572 rows x 2 columns]"
      ]
     },
     "execution_count": 6,
     "metadata": {},
     "output_type": "execute_result"
    }
   ],
   "source": [
    "sms_collection"
   ]
  },
  {
   "cell_type": "markdown",
   "metadata": {},
   "source": [
    "#### 중복된 Data를 제거합니다."
   ]
  },
  {
   "cell_type": "code",
   "execution_count": 7,
   "metadata": {},
   "outputs": [],
   "source": [
    "# sms_message column을 기준으로, 맨 처음 중복 값을 남기고 나머지 중복 값은 제거\n",
    "\n",
    "refined_sms_collection = sms_collection.drop_duplicates(\"sms_message\", keep='first')\n",
    "refined_sms_collection = refined_sms_collection.reset_index(drop=True)"
   ]
  },
  {
   "cell_type": "code",
   "execution_count": 8,
   "metadata": {},
   "outputs": [
    {
     "data": {
      "text/html": [
       "<div>\n",
       "<style scoped>\n",
       "    .dataframe tbody tr th:only-of-type {\n",
       "        vertical-align: middle;\n",
       "    }\n",
       "\n",
       "    .dataframe tbody tr th {\n",
       "        vertical-align: top;\n",
       "    }\n",
       "\n",
       "    .dataframe thead th {\n",
       "        text-align: right;\n",
       "    }\n",
       "</style>\n",
       "<table border=\"1\" class=\"dataframe\">\n",
       "  <thead>\n",
       "    <tr style=\"text-align: right;\">\n",
       "      <th></th>\n",
       "      <th>label</th>\n",
       "      <th>sms_message</th>\n",
       "    </tr>\n",
       "  </thead>\n",
       "  <tbody>\n",
       "    <tr>\n",
       "      <th>0</th>\n",
       "      <td>0</td>\n",
       "      <td>Go until jurong point, crazy.. Available only ...</td>\n",
       "    </tr>\n",
       "    <tr>\n",
       "      <th>1</th>\n",
       "      <td>0</td>\n",
       "      <td>Ok lar... Joking wif u oni...</td>\n",
       "    </tr>\n",
       "    <tr>\n",
       "      <th>2</th>\n",
       "      <td>1</td>\n",
       "      <td>Free entry in 2 a wkly comp to win FA Cup fina...</td>\n",
       "    </tr>\n",
       "    <tr>\n",
       "      <th>3</th>\n",
       "      <td>0</td>\n",
       "      <td>U dun say so early hor... U c already then say...</td>\n",
       "    </tr>\n",
       "    <tr>\n",
       "      <th>4</th>\n",
       "      <td>0</td>\n",
       "      <td>Nah I don't think he goes to usf, he lives aro...</td>\n",
       "    </tr>\n",
       "    <tr>\n",
       "      <th>...</th>\n",
       "      <td>...</td>\n",
       "      <td>...</td>\n",
       "    </tr>\n",
       "    <tr>\n",
       "      <th>5164</th>\n",
       "      <td>1</td>\n",
       "      <td>This is the 2nd time we have tried 2 contact u...</td>\n",
       "    </tr>\n",
       "    <tr>\n",
       "      <th>5165</th>\n",
       "      <td>0</td>\n",
       "      <td>Will ? b going to esplanade fr home?</td>\n",
       "    </tr>\n",
       "    <tr>\n",
       "      <th>5166</th>\n",
       "      <td>0</td>\n",
       "      <td>Pity, * was in mood for that. So...any other s...</td>\n",
       "    </tr>\n",
       "    <tr>\n",
       "      <th>5167</th>\n",
       "      <td>0</td>\n",
       "      <td>The guy did some bitching but I acted like i'd...</td>\n",
       "    </tr>\n",
       "    <tr>\n",
       "      <th>5168</th>\n",
       "      <td>0</td>\n",
       "      <td>Rofl. Its true to its name</td>\n",
       "    </tr>\n",
       "  </tbody>\n",
       "</table>\n",
       "<p>5169 rows × 2 columns</p>\n",
       "</div>"
      ],
      "text/plain": [
       "      label                                        sms_message\n",
       "0         0  Go until jurong point, crazy.. Available only ...\n",
       "1         0                      Ok lar... Joking wif u oni...\n",
       "2         1  Free entry in 2 a wkly comp to win FA Cup fina...\n",
       "3         0  U dun say so early hor... U c already then say...\n",
       "4         0  Nah I don't think he goes to usf, he lives aro...\n",
       "...     ...                                                ...\n",
       "5164      1  This is the 2nd time we have tried 2 contact u...\n",
       "5165      0               Will ? b going to esplanade fr home?\n",
       "5166      0  Pity, * was in mood for that. So...any other s...\n",
       "5167      0  The guy did some bitching but I acted like i'd...\n",
       "5168      0                         Rofl. Its true to its name\n",
       "\n",
       "[5169 rows x 2 columns]"
      ]
     },
     "execution_count": 8,
     "metadata": {},
     "output_type": "execute_result"
    }
   ],
   "source": [
    "refined_sms_collection"
   ]
  },
  {
   "cell_type": "markdown",
   "metadata": {},
   "source": [
    "#### 변환된 Dataset의 ham과 spam의 비율은 다음과 같습니다."
   ]
  },
  {
   "cell_type": "code",
   "execution_count": 9,
   "metadata": {},
   "outputs": [
    {
     "data": {
      "image/png": "[encoded data removed]",
      "text/plain": [
       "<Figure size 432x288 with 1 Axes>"
      ]
     },
     "metadata": {
      "needs_background": "light"
     },
     "output_type": "display_data"
    }
   ],
   "source": [
    "# 스팸 메일의 유무를 의미하는 label 값의 분포를 살펴보자. ('0'은 'ham', '1'은 'spam'을 의미)\n",
    "\n",
    "refined_sms_collection['label'].value_counts().plot(kind='bar');"
   ]
  },
  {
   "cell_type": "markdown",
   "metadata": {},
   "source": [
    "#### Dataset을 list의 형태로 변환합니다."
   ]
  },
  {
   "cell_type": "code",
   "execution_count": 10,
   "metadata": {},
   "outputs": [],
   "source": [
    "# sms_message를 모두 documents 리스트에 추가\n",
    "\n",
    "documents = []\n",
    "\n",
    "for i in range(len(refined_sms_collection)):\n",
    "    documents.append(refined_sms_collection.iloc[i]['sms_message'])"
   ]
  },
  {
   "cell_type": "code",
   "execution_count": 11,
   "metadata": {},
   "outputs": [
    {
     "data": {
      "text/plain": [
       "['Go until jurong point, crazy.. Available only in bugis n great world la e buffet... Cine there got amore wat...',\n",
       " 'Ok lar... Joking wif u oni...',\n",
       " \"Free entry in 2 a wkly comp to win FA Cup final tkts 21st May 2005. Text FA to 87121 to receive entry question(std txt rate)T&C's apply 08452810075over18's\",\n",
       " 'U dun say so early hor... U c already then say...',\n",
       " \"Nah I don't think he goes to usf, he lives around here though\"]"
      ]
     },
     "execution_count": 11,
     "metadata": {},
     "output_type": "execute_result"
    }
   ],
   "source": [
    "documents[:5]"
   ]
  },
  {
   "cell_type": "code",
   "execution_count": 12,
   "metadata": {},
   "outputs": [
    {
     "data": {
      "text/plain": [
       "5169"
      ]
     },
     "execution_count": 12,
     "metadata": {},
     "output_type": "execute_result"
    }
   ],
   "source": [
    "len(documents)"
   ]
  },
  {
   "cell_type": "markdown",
   "metadata": {},
   "source": [
    "#### 단어들을 숫자 벡터로 변환합니다."
   ]
  },
  {
   "cell_type": "code",
   "execution_count": 13,
   "metadata": {},
   "outputs": [
    {
     "data": {
      "text/plain": [
       "{'go': 3552,\n",
       " 'until': 8032,\n",
       " 'jurong': 4352,\n",
       " 'point': 5922,\n",
       " 'crazy': 2328,\n",
       " 'available': 1304,\n",
       " 'only': 5539,\n",
       " 'in': 4089,\n",
       " 'bugis': 1752,\n",
       " 'great': 3636,\n",
       " 'world': 8491,\n",
       " 'la': 4478,\n",
       " 'buffet': 1750,\n",
       " 'cine': 2049,\n",
       " 'there': 7647,\n",
       " 'got': 3596,\n",
       " 'amore': 1069,\n",
       " 'wat': 8269,\n",
       " 'ok': 5506,\n",
       " 'lar': 4514,\n",
       " 'joking': 4320,\n",
       " 'wif': 8394,\n",
       " 'oni': 5535,\n",
       " 'free': 3360,\n",
       " 'entry': 2951,\n",
       " 'wkly': 8449,\n",
       " 'comp': 2166,\n",
       " 'to': 7758,\n",
       " 'win': 8407,\n",
       " 'fa': 3089,\n",
       " 'cup': 2387,\n",
       " 'final': 3209,\n",
       " 'tkts': 7745,\n",
       " '21st': 411,\n",
       " 'may': 4932,\n",
       " '2005': 402,\n",
       " 'text': 7597,\n",
       " '87121': 784,\n",
       " 'receive': 6299,\n",
       " 'question': 6192,\n",
       " 'std': 7232,\n",
       " 'txt': 7935,\n",
       " 'rate': 6244,\n",
       " 'apply': 1156,\n",
       " '08452810075over18': 77,\n",
       " 'dun': 2803,\n",
       " 'say': 6635,\n",
       " 'so': 7026,\n",
       " 'early': 2824,\n",
       " 'hor': 3929,\n",
       " 'already': 1042,\n",
       " 'then': 7642,\n",
       " 'nah': 5240,\n",
       " 'don': 2713,\n",
       " 'think': 7662,\n",
       " 'he': 3783,\n",
       " 'goes': 3560,\n",
       " 'usf': 8077,\n",
       " 'lives': 4667,\n",
       " 'around': 1207,\n",
       " 'here': 3833,\n",
       " 'though': 7682,\n",
       " 'freemsg': 3367,\n",
       " 'hey': 3843,\n",
       " 'darling': 2444,\n",
       " 'it': 4220,\n",
       " 'been': 1461,\n",
       " 'week': 8315,\n",
       " 'now': 5422,\n",
       " 'and': 1084,\n",
       " 'no': 5369,\n",
       " 'word': 8482,\n",
       " 'back': 1352,\n",
       " 'like': 4617,\n",
       " 'some': 7041,\n",
       " 'fun': 3421,\n",
       " 'you': 8611,\n",
       " 'up': 8034,\n",
       " 'for': 3310,\n",
       " 'still': 7255,\n",
       " 'tb': 7531,\n",
       " 'xxx': 8557,\n",
       " 'chgs': 2003,\n",
       " 'send': 6725,\n",
       " '50': 607,\n",
       " 'rcv': 6257,\n",
       " 'even': 3000,\n",
       " 'my': 5225,\n",
       " 'brother': 1723,\n",
       " 'is': 4208,\n",
       " 'not': 5407,\n",
       " 'speak': 7114,\n",
       " 'with': 8435,\n",
       " 'me': 4941,\n",
       " 'they': 7655,\n",
       " 'treat': 7865,\n",
       " 'aids': 992,\n",
       " 'patent': 5724,\n",
       " 'as': 1225,\n",
       " 'per': 5766,\n",
       " 'your': 8617,\n",
       " 'request': 6408,\n",
       " 'melle': 4971,\n",
       " 'oru': 5595,\n",
       " 'minnaminunginte': 5038,\n",
       " 'nurungu': 5442,\n",
       " 'vettam': 8133,\n",
       " 'has': 3759,\n",
       " 'set': 6752,\n",
       " 'callertune': 1824,\n",
       " 'all': 1029,\n",
       " 'callers': 1823,\n",
       " 'press': 6043,\n",
       " 'copy': 2267,\n",
       " 'friends': 3383,\n",
       " 'winner': 8418,\n",
       " 'valued': 8102,\n",
       " 'network': 5319,\n",
       " 'customer': 2400,\n",
       " 'have': 3772,\n",
       " 'selected': 6711,\n",
       " 'receivea': 6300,\n",
       " '900': 816,\n",
       " 'prize': 6075,\n",
       " 'reward': 6463,\n",
       " 'claim': 2055,\n",
       " 'call': 1814,\n",
       " '09061701461': 224,\n",
       " 'code': 2121,\n",
       " 'kl341': 4441,\n",
       " 'valid': 8098,\n",
       " '12': 322,\n",
       " 'hours': 3949,\n",
       " 'had': 3701,\n",
       " 'mobile': 5091,\n",
       " '11': 312,\n",
       " 'months': 5131,\n",
       " 'or': 5572,\n",
       " 'more': 5135,\n",
       " 'entitled': 2948,\n",
       " 'update': 8039,\n",
       " 'the': 7629,\n",
       " 'latest': 4528,\n",
       " 'colour': 2142,\n",
       " 'mobiles': 5092,\n",
       " 'camera': 1836,\n",
       " 'co': 2110,\n",
       " 'on': 5527,\n",
       " '08002986030': 61,\n",
       " 'gonna': 3576,\n",
       " 'be': 1439,\n",
       " 'home': 3903,\n",
       " 'soon': 7068,\n",
       " 'want': 8247,\n",
       " 'talk': 7498,\n",
       " 'about': 859,\n",
       " 'this': 7671,\n",
       " 'stuff': 7322,\n",
       " 'anymore': 1123,\n",
       " 'tonight': 7794,\n",
       " 've': 8117,\n",
       " 'cried': 2345,\n",
       " 'enough': 2938,\n",
       " 'today': 7765,\n",
       " 'six': 6930,\n",
       " 'chances': 1944,\n",
       " 'cash': 1890,\n",
       " 'from': 3399,\n",
       " '100': 298,\n",
       " '20': 397,\n",
       " '000': 1,\n",
       " 'pounds': 5984,\n",
       " 'csh11': 2364,\n",
       " '87575': 789,\n",
       " 'cost': 2279,\n",
       " '150p': 351,\n",
       " 'day': 2459,\n",
       " '6days': 680,\n",
       " '16': 363,\n",
       " 'tsandcs': 7900,\n",
       " 'reply': 6401,\n",
       " 'hl': 3875,\n",
       " 'info': 4124,\n",
       " 'urgent': 8057,\n",
       " 'won': 8466,\n",
       " 'membership': 4977,\n",
       " 'our': 5608,\n",
       " 'jackpot': 4249,\n",
       " '81010': 737,\n",
       " 'www': 8539,\n",
       " 'dbuk': 2464,\n",
       " 'net': 5313,\n",
       " 'lccltd': 4545,\n",
       " 'pobox': 5901,\n",
       " '4403ldnw1a7rw18': 559,\n",
       " 'searching': 6680,\n",
       " 'right': 6475,\n",
       " 'words': 8483,\n",
       " 'thank': 7614,\n",
       " 'breather': 1692,\n",
       " 'promise': 6107,\n",
       " 'wont': 8473,\n",
       " 'take': 7490,\n",
       " 'help': 3819,\n",
       " 'granted': 3625,\n",
       " 'will': 8404,\n",
       " 'fulfil': 3417,\n",
       " 'wonderful': 8470,\n",
       " 'blessing': 1568,\n",
       " 'at': 1261,\n",
       " 'times': 7724,\n",
       " 'date': 2452,\n",
       " 'sunday': 7390,\n",
       " 'xxxmobilemovieclub': 8558,\n",
       " 'use': 8071,\n",
       " 'credit': 2335,\n",
       " 'click': 2078,\n",
       " 'wap': 8252,\n",
       " 'link': 4639,\n",
       " 'next': 5336,\n",
       " 'message': 4995,\n",
       " 'http': 3970,\n",
       " 'com': 2145,\n",
       " 'qjkgighjjgcbl': 6184,\n",
       " 'oh': 5501,\n",
       " 'watching': 8274,\n",
       " 'eh': 2871,\n",
       " 'remember': 6368,\n",
       " 'how': 3955,\n",
       " 'spell': 7129,\n",
       " 'his': 3866,\n",
       " 'name': 5246,\n",
       " 'yes': 8594,\n",
       " 'did': 2593,\n",
       " 'naughty': 5273,\n",
       " 'make': 4850,\n",
       " 'wet': 8352,\n",
       " 'fine': 3217,\n",
       " 'if': 4043,\n",
       " 'thatåõs': 7627,\n",
       " 'way': 8286,\n",
       " 'feel': 3160,\n",
       " 'its': 4227,\n",
       " 'gota': 3597,\n",
       " 'england': 2929,\n",
       " 'macedonia': 4812,\n",
       " 'dont': 2717,\n",
       " 'miss': 5054,\n",
       " 'goals': 3556,\n",
       " 'team': 7543,\n",
       " 'news': 5332,\n",
       " 'ur': 8053,\n",
       " 'national': 5267,\n",
       " '87077': 783,\n",
       " 'eg': 2866,\n",
       " 'try': 7896,\n",
       " 'wales': 8227,\n",
       " 'scotland': 6659,\n",
       " '4txt': 599,\n",
       " 'ì¼1': 8660,\n",
       " 'poboxox36504w45wq': 5913,\n",
       " 'that': 7623,\n",
       " 'seriously': 6745,\n",
       " 'going': 3565,\n",
       " 'ha': 3697,\n",
       " 'pay': 5736,\n",
       " 'first': 3234,\n",
       " 'when': 8364,\n",
       " 'da': 2417,\n",
       " 'stock': 7258,\n",
       " 'comin': 2156,\n",
       " 'aft': 962,\n",
       " 'finish': 3220,\n",
       " 'lunch': 4778,\n",
       " 'str': 7283,\n",
       " 'down': 2738,\n",
       " 'lor': 4721,\n",
       " 'ard': 1182,\n",
       " 'smth': 7009,\n",
       " 'ffffffffff': 3179,\n",
       " 'alright': 1043,\n",
       " 'can': 1840,\n",
       " 'meet': 4960,\n",
       " 'sooner': 7069,\n",
       " 'just': 4354,\n",
       " 'forced': 3312,\n",
       " 'myself': 5230,\n",
       " 'eat': 2836,\n",
       " 'slice': 6961,\n",
       " 'really': 6282,\n",
       " 'hungry': 3990,\n",
       " 'tho': 7678,\n",
       " 'sucks': 7359,\n",
       " 'mark': 4887,\n",
       " 'getting': 3513,\n",
       " 'worried': 8494,\n",
       " 'knows': 4452,\n",
       " 'sick': 6879,\n",
       " 'turn': 7919,\n",
       " 'pizza': 5856,\n",
       " 'lol': 4698,\n",
       " 'always': 1052,\n",
       " 'convincing': 2255,\n",
       " 'catch': 1900,\n",
       " 'bus': 1772,\n",
       " 'are': 1183,\n",
       " 'frying': 3405,\n",
       " 'an': 1079,\n",
       " 'egg': 2868,\n",
       " 'tea': 7537,\n",
       " 'eating': 2839,\n",
       " 'mom': 5112,\n",
       " 'left': 4568,\n",
       " 'over': 5629,\n",
       " 'dinner': 2625,\n",
       " 'do': 2676,\n",
       " 'love': 4742,\n",
       " 'amp': 1071,\n",
       " 'we': 8291,\n",
       " 're': 6261,\n",
       " 'packing': 5655,\n",
       " 'car': 1862,\n",
       " 'll': 4671,\n",
       " 'let': 4589,\n",
       " 'know': 4449,\n",
       " 'room': 6516,\n",
       " 'ahhh': 987,\n",
       " 'work': 8484,\n",
       " 'vaguely': 8094,\n",
       " 'what': 8357,\n",
       " 'does': 2688,\n",
       " 'wait': 8221,\n",
       " 'clear': 2072,\n",
       " 'were': 8341,\n",
       " 'sure': 7416,\n",
       " 'being': 1479,\n",
       " 'sarcastic': 6615,\n",
       " 'why': 8387,\n",
       " 'doesn': 2690,\n",
       " 'live': 4663,\n",
       " 'us': 8067,\n",
       " 'yeah': 8582,\n",
       " 'was': 8261,\n",
       " 'apologetic': 1143,\n",
       " 'fallen': 3114,\n",
       " 'out': 5611,\n",
       " 'she': 6797,\n",
       " 'actin': 904,\n",
       " 'spoilt': 7156,\n",
       " 'child': 2011,\n",
       " 'caught': 1904,\n",
       " 'till': 7721,\n",
       " 'but': 1779,\n",
       " 'doing': 2703,\n",
       " 'too': 7798,\n",
       " 'badly': 1357,\n",
       " 'cheers': 1987,\n",
       " 'tell': 7561,\n",
       " 'anything': 1129,\n",
       " 'fear': 3152,\n",
       " 'of': 5479,\n",
       " 'fainting': 3106,\n",
       " 'housework': 3953,\n",
       " 'quick': 6195,\n",
       " 'cuppa': 2389,\n",
       " 'thanks': 7615,\n",
       " 'subscription': 7347,\n",
       " 'ringtone': 6484,\n",
       " 'uk': 7965,\n",
       " 'charged': 1956,\n",
       " 'month': 5128,\n",
       " 'please': 5881,\n",
       " 'confirm': 2210,\n",
       " 'by': 1795,\n",
       " 'replying': 6402,\n",
       " 'yup': 8639,\n",
       " 'look': 4709,\n",
       " 'timings': 7728,\n",
       " 'msg': 5170,\n",
       " 'again': 970,\n",
       " 'xuhui': 8553,\n",
       " 'learn': 4558,\n",
       " '2nd': 461,\n",
       " 'her': 3832,\n",
       " 'lesson': 4587,\n",
       " '8am': 809,\n",
       " 'oops': 5550,\n",
       " 'roommate': 6518,\n",
       " 'done': 2715,\n",
       " 'see': 6697,\n",
       " 'letter': 4591,\n",
       " 'decide': 2482,\n",
       " 'hello': 3816,\n",
       " 'saturday': 6627,\n",
       " 'texting': 7605,\n",
       " 'decided': 2483,\n",
       " 'tomo': 7783,\n",
       " 'trying': 7898,\n",
       " 'invite': 4182,\n",
       " 'pls': 5889,\n",
       " 'ahead': 986,\n",
       " 'watts': 8282,\n",
       " 'wanted': 8249,\n",
       " 'weekend': 8317,\n",
       " 'abiola': 855,\n",
       " 'forget': 3318,\n",
       " 'need': 5293,\n",
       " 'crave': 2325,\n",
       " 'most': 5143,\n",
       " 'sweet': 7447,\n",
       " 'arabian': 1179,\n",
       " 'steed': 7239,\n",
       " 'mmmmmm': 5081,\n",
       " 'yummy': 8634,\n",
       " '07732584351': 30,\n",
       " 'rodger': 6506,\n",
       " 'burns': 1769,\n",
       " 'tried': 7874,\n",
       " 'sms': 7004,\n",
       " 'nokia': 5379,\n",
       " 'camcorder': 1834,\n",
       " '08000930705': 57,\n",
       " 'delivery': 2522,\n",
       " 'tomorrow': 7785,\n",
       " 'who': 8380,\n",
       " 'seeing': 6699,\n",
       " 'hope': 3921,\n",
       " 'man': 4860,\n",
       " 'well': 8332,\n",
       " 'endowed': 2919,\n",
       " 'am': 1054,\n",
       " 'lt': 4765,\n",
       " 'gt': 3665,\n",
       " 'inches': 4093,\n",
       " 'calls': 1829,\n",
       " 'messages': 4997,\n",
       " 'missed': 5056,\n",
       " 'didn': 2595,\n",
       " 'get': 3505,\n",
       " 'hep': 3831,\n",
       " 'immunisation': 4072,\n",
       " 'nigeria': 5346,\n",
       " 'fair': 3107,\n",
       " 'hopefully': 3924,\n",
       " 'tyler': 7948,\n",
       " 'could': 2290,\n",
       " 'maybe': 4934,\n",
       " 'ask': 1235,\n",
       " 'bit': 1545,\n",
       " 'stubborn': 7311,\n",
       " 'hospital': 3936,\n",
       " 'kept': 4398,\n",
       " 'telling': 7562,\n",
       " 'weak': 8292,\n",
       " 'sucker': 7357,\n",
       " 'hospitals': 3937,\n",
       " 'suckers': 7358,\n",
       " 'thinked': 7663,\n",
       " 'time': 7723,\n",
       " 'saw': 6634,\n",
       " 'class': 2064,\n",
       " 'gram': 3617,\n",
       " 'usually': 8083,\n",
       " 'runs': 6559,\n",
       " 'half': 3713,\n",
       " 'eighth': 2874,\n",
       " 'smarter': 6984,\n",
       " 'gets': 3509,\n",
       " 'almost': 1038,\n",
       " 'whole': 8381,\n",
       " 'second': 6684,\n",
       " 'fyi': 3437,\n",
       " 'ride': 6474,\n",
       " 'morning': 5139,\n",
       " 'crashing': 2324,\n",
       " 'place': 5858,\n",
       " 'wow': 8510,\n",
       " 'never': 5323,\n",
       " 'realized': 6280,\n",
       " 'embarassed': 2900,\n",
       " 'accomodations': 886,\n",
       " 'thought': 7683,\n",
       " 'liked': 4618,\n",
       " 'since': 6904,\n",
       " 'best': 1499,\n",
       " 'seemed': 6703,\n",
       " 'happy': 3748,\n",
       " 'cave': 1908,\n",
       " 'sorry': 7078,\n",
       " 'give': 3534,\n",
       " 'offered': 5486,\n",
       " 'embarassing': 2901,\n",
       " 'ac': 872,\n",
       " 'sptv': 7178,\n",
       " 'new': 5327,\n",
       " 'jersey': 4290,\n",
       " 'devils': 2574,\n",
       " 'detroit': 2568,\n",
       " 'red': 6322,\n",
       " 'wings': 8416,\n",
       " 'play': 5872,\n",
       " 'ice': 4024,\n",
       " 'hockey': 3888,\n",
       " 'correct': 2272,\n",
       " 'incorrect': 4104,\n",
       " 'end': 2915,\n",
       " 'mallika': 4859,\n",
       " 'sherawat': 6804,\n",
       " 'yesterday': 8596,\n",
       " 'find': 3214,\n",
       " 'url': 8063,\n",
       " 'congrats': 2216,\n",
       " 'year': 8583,\n",
       " 'special': 7116,\n",
       " 'cinema': 2050,\n",
       " 'pass': 5713,\n",
       " 'yours': 8621,\n",
       " '09061209465': 219,\n",
       " 'suprman': 7414,\n",
       " 'matrix3': 4920,\n",
       " 'starwars3': 7220,\n",
       " 'etc': 2988,\n",
       " 'bx420': 1793,\n",
       " 'ip4': 4191,\n",
       " '5we': 641,\n",
       " '150pm': 353,\n",
       " 'later': 4527,\n",
       " 'meeting': 4962,\n",
       " 'where': 8368,\n",
       " 'reached': 6264,\n",
       " 'gauti': 3471,\n",
       " 'sehwag': 6708,\n",
       " 'odi': 5478,\n",
       " 'series': 6743,\n",
       " 'pick': 5828,\n",
       " 'burger': 1764,\n",
       " 'yourself': 8622,\n",
       " 'move': 5156,\n",
       " 'pain': 5662,\n",
       " 'killing': 4423,\n",
       " 'good': 3578,\n",
       " 'joke': 4316,\n",
       " 'girls': 3531,\n",
       " 'situation': 6927,\n",
       " 'seekers': 6700,\n",
       " 'part': 5702,\n",
       " 'checking': 1981,\n",
       " 'iq': 4197,\n",
       " 'roommates': 6519,\n",
       " 'took': 7799,\n",
       " 'forever': 3315,\n",
       " 'come': 2151,\n",
       " 'double': 2731,\n",
       " 'check': 1977,\n",
       " 'hair': 3708,\n",
       " 'dresser': 2761,\n",
       " 'said': 6585,\n",
       " 'wun': 8538,\n",
       " 'cut': 2404,\n",
       " 'short': 6839,\n",
       " 'nice': 5340,\n",
       " 'pleased': 5882,\n",
       " 'advise': 945,\n",
       " 'following': 3293,\n",
       " 'recent': 6303,\n",
       " 'review': 6461,\n",
       " 'mob': 5089,\n",
       " 'awarded': 1321,\n",
       " '1500': 350,\n",
       " 'bonus': 1609,\n",
       " '09066364589': 267,\n",
       " 'song': 7063,\n",
       " 'dedicated': 2493,\n",
       " 'which': 8374,\n",
       " 'dedicate': 2492,\n",
       " 'valuable': 8100,\n",
       " 'frnds': 3391,\n",
       " 'rply': 6535,\n",
       " 'complimentary': 2185,\n",
       " 'trip': 7875,\n",
       " 'eurodisinc': 2994,\n",
       " 'trav': 7857,\n",
       " 'aco': 900,\n",
       " 'entry41': 2952,\n",
       " '1000': 299,\n",
       " 'dis': 2637,\n",
       " '18': 368,\n",
       " 'morefrmmob': 5136,\n",
       " 'shracomorsglsuplt': 6864,\n",
       " '10': 297,\n",
       " 'ls1': 4761,\n",
       " '3aj': 518,\n",
       " 'hear': 3795,\n",
       " 'divorce': 2666,\n",
       " 'barbie': 1388,\n",
       " 'comes': 2153,\n",
       " 'ken': 4396,\n",
       " 'plane': 5864,\n",
       " 'wah': 8214,\n",
       " 'lucky': 4772,\n",
       " 'save': 6630,\n",
       " 'money': 5119,\n",
       " 'hee': 3808,\n",
       " 'finished': 3222,\n",
       " 'hi': 3848,\n",
       " 'babe': 1343,\n",
       " 'im': 4060,\n",
       " 'wanna': 8245,\n",
       " 'something': 7051,\n",
       " 'xx': 8554,\n",
       " 'performed': 5773,\n",
       " 'waiting': 8224,\n",
       " 'machan': 4814,\n",
       " 'once': 5531,\n",
       " 'thats': 7626,\n",
       " 'cool': 2260,\n",
       " 'gentleman': 3496,\n",
       " 'dignity': 2615,\n",
       " 'respect': 6428,\n",
       " 'peoples': 5765,\n",
       " 'very': 8132,\n",
       " 'much': 5188,\n",
       " 'shy': 6874,\n",
       " 'pa': 5651,\n",
       " 'operate': 5557,\n",
       " 'after': 963,\n",
       " 'same': 6600,\n",
       " 'looking': 4713,\n",
       " 'job': 4305,\n",
       " 'ta': 7475,\n",
       " 'earn': 2825,\n",
       " 'ah': 984,\n",
       " 'stop': 7268,\n",
       " 'urgnt': 8060,\n",
       " 'real': 6273,\n",
       " 'yo': 8606,\n",
       " 'tickets': 7711,\n",
       " 'one': 5533,\n",
       " 'jacket': 4248,\n",
       " 'used': 8072,\n",
       " 'multis': 5197,\n",
       " 'started': 7215,\n",
       " 'requests': 6409,\n",
       " 'came': 1835,\n",
       " 'bed': 1456,\n",
       " 'coins': 2127,\n",
       " 'factory': 3096,\n",
       " 'gotta': 3602,\n",
       " 'nitros': 5364,\n",
       " 'ela': 2879,\n",
       " 'kano': 4377,\n",
       " 'il': 4055,\n",
       " 'download': 2739,\n",
       " 'wen': 8335,\n",
       " 'stand': 7203,\n",
       " 'close': 2085,\n",
       " 'another': 1106,\n",
       " 'night': 5348,\n",
       " 'spent': 7134,\n",
       " 'late': 4524,\n",
       " 'afternoon': 965,\n",
       " 'casualty': 1898,\n",
       " 'means': 4948,\n",
       " 'haven': 3773,\n",
       " 'any': 1120,\n",
       " 'stuff42moro': 7323,\n",
       " 'includes': 4097,\n",
       " 'sheets': 6799,\n",
       " 'smile': 6992,\n",
       " 'pleasure': 5884,\n",
       " 'trouble': 7882,\n",
       " 'pours': 5986,\n",
       " 'rain': 6218,\n",
       " 'sum1': 7381,\n",
       " 'hurts': 4000,\n",
       " 'becoz': 1454,\n",
       " 'someone': 7045,\n",
       " 'loves': 4750,\n",
       " 'smiling': 6996,\n",
       " 'service': 6748,\n",
       " 'representative': 6406,\n",
       " '0800': 53,\n",
       " '169': 366,\n",
       " '6031': 647,\n",
       " 'between': 1508,\n",
       " '10am': 307,\n",
       " '9pm': 835,\n",
       " 'guaranteed': 3668,\n",
       " '5000': 609,\n",
       " 'havent': 3774,\n",
       " 'planning': 5868,\n",
       " 'buy': 1784,\n",
       " 'lido': 4602,\n",
       " '530': 627,\n",
       " 'show': 6855,\n",
       " 'collected': 2136,\n",
       " 'simply': 6901,\n",
       " 'password': 5720,\n",
       " 'mix': 5072,\n",
       " '85069': 770,\n",
       " 'verify': 8128,\n",
       " 'usher': 8078,\n",
       " 'britney': 1713,\n",
       " 'fml': 3284,\n",
       " 'telugu': 7567,\n",
       " 'movie': 5159,\n",
       " 'abt': 867,\n",
       " 'loads': 4677,\n",
       " 'loans': 4679,\n",
       " 'wk': 8445,\n",
       " 'hols': 3901,\n",
       " 'run': 6557,\n",
       " 'forgot': 3323,\n",
       " 'hairdressers': 3710,\n",
       " 'appointment': 1159,\n",
       " 'four': 3341,\n",
       " 'shower': 6857,\n",
       " 'beforehand': 1468,\n",
       " 'cause': 1905,\n",
       " 'prob': 6080,\n",
       " 'ham': 3719,\n",
       " 'nothing': 5412,\n",
       " 'else': 2894,\n",
       " 'okay': 5507,\n",
       " 'price': 6056,\n",
       " 'long': 4705,\n",
       " 'legal': 4571,\n",
       " 'them': 7638,\n",
       " 'ave': 1308,\n",
       " 'ams': 1075,\n",
       " 'gone': 3574,\n",
       " '4the': 597,\n",
       " 'driving': 2770,\n",
       " 'test': 7591,\n",
       " 'yet': 8597,\n",
       " 'mean': 4944,\n",
       " 'guess': 3674,\n",
       " 'gave': 3472,\n",
       " 'boston': 1630,\n",
       " 'men': 4981,\n",
       " 'changed': 1946,\n",
       " 'search': 6679,\n",
       " 'location': 4682,\n",
       " 'nyc': 5453,\n",
       " 'cuz': 2411,\n",
       " 'signin': 6889,\n",
       " 'page': 5658,\n",
       " 'says': 6638,\n",
       " 'umma': 7972,\n",
       " 'life': 4605,\n",
       " 'vava': 8114,\n",
       " 'lot': 4729,\n",
       " 'dear': 2472,\n",
       " 'wishes': 8429,\n",
       " 'birthday': 1543,\n",
       " 'making': 4854,\n",
       " 'truly': 7891,\n",
       " 'memorable': 4978,\n",
       " 'aight': 994,\n",
       " 'hit': 3868,\n",
       " 'would': 8506,\n",
       " 'ip': 4190,\n",
       " 'address': 922,\n",
       " 'considering': 2228,\n",
       " 'computer': 2191,\n",
       " 'isn': 4215,\n",
       " 'minecraft': 5032,\n",
       " 'server': 6747,\n",
       " 'grumpy': 3662,\n",
       " 'old': 5519,\n",
       " 'people': 5764,\n",
       " 'better': 1505,\n",
       " 'lying': 4792,\n",
       " 'jokes': 4318,\n",
       " 'worry': 8496,\n",
       " 'busy': 1778,\n",
       " 'plural': 5893,\n",
       " 'noun': 5419,\n",
       " 'research': 6414,\n",
       " 'cos': 2277,\n",
       " 'things': 7661,\n",
       " 'scared': 6644,\n",
       " 'mah': 4837,\n",
       " 'loud': 4737,\n",
       " 'gent': 3494,\n",
       " 'contact': 2233,\n",
       " 'last': 4521,\n",
       " 'weekends': 8318,\n",
       " 'draw': 2753,\n",
       " 'shows': 6863,\n",
       " '09064012160': 243,\n",
       " 'k52': 4360,\n",
       " '12hrs': 333,\n",
       " '150ppm': 355,\n",
       " 'wa': 8209,\n",
       " 'openin': 5554,\n",
       " 'sentence': 6736,\n",
       " 'formal': 3327,\n",
       " 'anyway': 1132,\n",
       " 'juz': 4359,\n",
       " 'tt': 7906,\n",
       " 'eatin': 2838,\n",
       " 'puttin': 6173,\n",
       " 'weight': 8323,\n",
       " 'haha': 3704,\n",
       " 'anythin': 1128,\n",
       " 'happened': 3740,\n",
       " 'entered': 2941,\n",
       " 'cabin': 1802,\n",
       " 'boss': 1629,\n",
       " 'felt': 3169,\n",
       " 'askd': 1236,\n",
       " 'invited': 4183,\n",
       " 'apartment': 1137,\n",
       " 'went': 8338,\n",
       " 'specially': 7120,\n",
       " 'holiday': 3898,\n",
       " 'flights': 3260,\n",
       " 'inc': 4091,\n",
       " 'operator': 5558,\n",
       " '0871277810910p': 129,\n",
       " 'min': 5025,\n",
       " 'goodo': 3587,\n",
       " 'must': 5216,\n",
       " 'friday': 3378,\n",
       " 'potato': 5978,\n",
       " 'ratio': 6247,\n",
       " 'tortilla': 7816,\n",
       " 'needed': 5295,\n",
       " 'hmm': 3880,\n",
       " 'uncle': 7981,\n",
       " 'informed': 4127,\n",
       " 'paying': 5741,\n",
       " 'school': 6650,\n",
       " 'directly': 2631,\n",
       " 'food': 3300,\n",
       " 'private': 6072,\n",
       " '2004': 401,\n",
       " 'account': 889,\n",
       " 'statement': 7223,\n",
       " '07742676969': 32,\n",
       " '786': 709,\n",
       " 'unredeemed': 8025,\n",
       " 'points': 5923,\n",
       " '08719180248': 175,\n",
       " 'identifier': 4036,\n",
       " '45239': 570,\n",
       " 'expires': 3067,\n",
       " '2000': 399,\n",
       " 'caller': 1822,\n",
       " '03': 15,\n",
       " 'landline': 4501,\n",
       " '09064019788': 249,\n",
       " 'box42wr29c': 1656,\n",
       " 'apples': 1154,\n",
       " 'pairs': 5666,\n",
       " 'malarky': 4856,\n",
       " 'todays': 7766,\n",
       " 'voda': 8178,\n",
       " 'numbers': 5439,\n",
       " 'ending': 2917,\n",
       " '7548': 701,\n",
       " '350': 506,\n",
       " 'award': 1320,\n",
       " 'match': 4908,\n",
       " '08712300220': 111,\n",
       " 'quoting': 6206,\n",
       " '4041': 543,\n",
       " 'standard': 7204,\n",
       " 'rates': 6245,\n",
       " 'app': 1147,\n",
       " 'sao': 6609,\n",
       " 'mu': 5186,\n",
       " 'ìï': 8662,\n",
       " 'predict': 6018,\n",
       " 'buying': 1787,\n",
       " 'yetunde': 8599,\n",
       " 'hasn': 3761,\n",
       " 'sent': 6735,\n",
       " 'bother': 1633,\n",
       " 'sending': 6727,\n",
       " 'involve': 4187,\n",
       " 'shouldn': 6850,\n",
       " 'imposed': 4079,\n",
       " 'apologise': 1144,\n",
       " 'girl': 3528,\n",
       " 'del': 2512,\n",
       " 'bak': 1365,\n",
       " 'sum': 7380,\n",
       " 'lucyxx': 4775,\n",
       " 'tmorrow': 7751,\n",
       " 'accomodate': 885,\n",
       " 'answer': 1109,\n",
       " 'sunshine': 7397,\n",
       " 'quiz': 6202,\n",
       " 'top': 7807,\n",
       " 'sony': 7065,\n",
       " 'dvd': 2813,\n",
       " 'player': 5874,\n",
       " 'country': 2297,\n",
       " 'algarve': 1022,\n",
       " 'ansr': 1108,\n",
       " '82277': 744,\n",
       " 'sp': 7101,\n",
       " 'tyrone': 7952,\n",
       " 'laid': 4493,\n",
       " 'dogging': 2697,\n",
       " 'locations': 4683,\n",
       " 'direct': 2630,\n",
       " 'join': 4313,\n",
       " 'largest': 4518,\n",
       " 'bt': 1739,\n",
       " 'txting': 7941,\n",
       " 'gravel': 3630,\n",
       " '69888': 675,\n",
       " 'nt': 5429,\n",
       " 'ec2a': 2841,\n",
       " '31p': 498,\n",
       " 'haf': 3703,\n",
       " 'msn': 5177,\n",
       " 'yijue': 8603,\n",
       " 'hotmail': 3944,\n",
       " 'him': 3859,\n",
       " 'rooms': 6520,\n",
       " 'befor': 1466,\n",
       " 'activities': 910,\n",
       " 'msgs': 5176,\n",
       " 'chat': 1967,\n",
       " 'svc': 7432,\n",
       " 'hardcore': 3750,\n",
       " 'services': 6749,\n",
       " '69988': 679,\n",
       " 'age': 973,\n",
       " 'yr': 8629,\n",
       " 'lazy': 4544,\n",
       " 'type': 7949,\n",
       " 'lect': 4565,\n",
       " 'pouch': 5981,\n",
       " 'sir': 6916,\n",
       " 'mail': 4842,\n",
       " 'swt': 7461,\n",
       " 'nver': 5447,\n",
       " 'tired': 7731,\n",
       " 'little': 4662,\n",
       " 'lovable': 4741,\n",
       " 'persons': 5791,\n",
       " 'coz': 2310,\n",
       " 'somtimes': 7060,\n",
       " 'those': 7679,\n",
       " 'occupy': 5471,\n",
       " 'biggest': 1525,\n",
       " 'their': 7635,\n",
       " 'hearts': 3801,\n",
       " 'gud': 3670,\n",
       " 'ni8': 5338,\n",
       " 'open': 5551,\n",
       " 'ya': 8567,\n",
       " 'dot': 2730,\n",
       " 'whats': 8359,\n",
       " 'staff': 7195,\n",
       " 'taking': 7495,\n",
       " 'replied': 6399,\n",
       " 'randy': 6238,\n",
       " 'sexy': 6765,\n",
       " 'female': 3170,\n",
       " 'local': 4681,\n",
       " 'luv': 4783,\n",
       " 'netcollex': 5314,\n",
       " 'ltd': 4766,\n",
       " '08700621170150p': 81,\n",
       " 'ummma': 7974,\n",
       " 'begin': 1472,\n",
       " 'qatar': 6179,\n",
       " 'pray': 6013,\n",
       " 'hard': 3749,\n",
       " 'deleted': 2516,\n",
       " 'sindu': 6906,\n",
       " 'birla': 1539,\n",
       " 'soft': 7031,\n",
       " 'wine': 8414,\n",
       " 'flowing': 3275,\n",
       " 'nevering': 5324,\n",
       " 'thk': 7672,\n",
       " 'plaza': 5879,\n",
       " 'typical': 7951,\n",
       " 'everywhere': 3018,\n",
       " 'dirt': 2634,\n",
       " 'floor': 3269,\n",
       " 'windows': 8411,\n",
       " 'shirt': 6818,\n",
       " 'sometimes': 7053,\n",
       " 'mouth': 5155,\n",
       " 'dream': 2756,\n",
       " 'without': 8439,\n",
       " 'chores': 2038,\n",
       " 'joy': 4331,\n",
       " 'lots': 4731,\n",
       " 'tv': 7924,\n",
       " 'exist': 3052,\n",
       " 'hail': 3707,\n",
       " ...}"
      ]
     },
     "execution_count": 13,
     "metadata": {},
     "output_type": "execute_result"
    }
   ],
   "source": [
    "# sklearn의 CountVectorizer모듈을 사용\n",
    "\n",
    "from sklearn.feature_extraction.text import CountVectorizer\n",
    "count_vector = CountVectorizer()\n",
    "\n",
    "count_vector.fit(documents)\n",
    "cv = count_vector.vocabulary_\n",
    "cv"
   ]
  },
  {
   "cell_type": "code",
   "execution_count": 14,
   "metadata": {},
   "outputs": [
    {
     "data": {
      "text/plain": [
       "dict_keys(['go', 'until', 'jurong', 'point', 'crazy', 'available', 'only', 'in', 'bugis', 'great', 'world', 'la', 'buffet', 'cine', 'there', 'got', 'amore', 'wat', 'ok', 'lar', 'joking', 'wif', 'oni', 'free', 'entry', 'wkly', 'comp', 'to', 'win', 'fa', 'cup', 'final', 'tkts', '21st', 'may', '2005', 'text', '87121', 'receive', 'question', 'std', 'txt', 'rate', 'apply', '08452810075over18', 'dun', 'say', 'so', 'early', 'hor', 'already', 'then', 'nah', 'don', 'think', 'he', 'goes', 'usf', 'lives', 'around', 'here', 'though', 'freemsg', 'hey', 'darling', 'it', 'been', 'week', 'now', 'and', 'no', 'word', 'back', 'like', 'some', 'fun', 'you', 'up', 'for', 'still', 'tb', 'xxx', 'chgs', 'send', '50', 'rcv', 'even', 'my', 'brother', 'is', 'not', 'speak', 'with', 'me', 'they', 'treat', 'aids', 'patent', 'as', 'per', 'your', 'request', 'melle', 'oru', 'minnaminunginte', 'nurungu', 'vettam', 'has', 'set', 'callertune', 'all', 'callers', 'press', 'copy', 'friends', 'winner', 'valued', 'network', 'customer', 'have', 'selected', 'receivea', '900', 'prize', 'reward', 'claim', 'call', '09061701461', 'code', 'kl341', 'valid', '12', 'hours', 'had', 'mobile', '11', 'months', 'or', 'more', 'entitled', 'update', 'the', 'latest', 'colour', 'mobiles', 'camera', 'co', 'on', '08002986030', 'gonna', 'be', 'home', 'soon', 'want', 'talk', 'about', 'this', 'stuff', 'anymore', 'tonight', 've', 'cried', 'enough', 'today', 'six', 'chances', 'cash', 'from', '100', '20', '000', 'pounds', 'csh11', '87575', 'cost', '150p', 'day', '6days', '16', 'tsandcs', 'reply', 'hl', 'info', 'urgent', 'won', 'membership', 'our', 'jackpot', '81010', 'www', 'dbuk', 'net', 'lccltd', 'pobox', '4403ldnw1a7rw18', 'searching', 'right', 'words', 'thank', 'breather', 'promise', 'wont', 'take', 'help', 'granted', 'will', 'fulfil', 'wonderful', 'blessing', 'at', 'times', 'date', 'sunday', 'xxxmobilemovieclub', 'use', 'credit', 'click', 'wap', 'link', 'next', 'message', 'http', 'com', 'qjkgighjjgcbl', 'oh', 'watching', 'eh', 'remember', 'how', 'spell', 'his', 'name', 'yes', 'did', 'naughty', 'make', 'wet', 'fine', 'if', 'thatåõs', 'way', 'feel', 'its', 'gota', 'england', 'macedonia', 'dont', 'miss', 'goals', 'team', 'news', 'ur', 'national', '87077', 'eg', 'try', 'wales', 'scotland', '4txt', 'ì¼1', 'poboxox36504w45wq', 'that', 'seriously', 'going', 'ha', 'pay', 'first', 'when', 'da', 'stock', 'comin', 'aft', 'finish', 'lunch', 'str', 'down', 'lor', 'ard', 'smth', 'ffffffffff', 'alright', 'can', 'meet', 'sooner', 'just', 'forced', 'myself', 'eat', 'slice', 'really', 'hungry', 'tho', 'sucks', 'mark', 'getting', 'worried', 'knows', 'sick', 'turn', 'pizza', 'lol', 'always', 'convincing', 'catch', 'bus', 'are', 'frying', 'an', 'egg', 'tea', 'eating', 'mom', 'left', 'over', 'dinner', 'do', 'love', 'amp', 'we', 're', 'packing', 'car', 'll', 'let', 'know', 'room', 'ahhh', 'work', 'vaguely', 'what', 'does', 'wait', 'clear', 'were', 'sure', 'being', 'sarcastic', 'why', 'doesn', 'live', 'us', 'yeah', 'was', 'apologetic', 'fallen', 'out', 'she', 'actin', 'spoilt', 'child', 'caught', 'till', 'but', 'doing', 'too', 'badly', 'cheers', 'tell', 'anything', 'fear', 'of', 'fainting', 'housework', 'quick', 'cuppa', 'thanks', 'subscription', 'ringtone', 'uk', 'charged', 'month', 'please', 'confirm', 'by', 'replying', 'yup', 'look', 'timings', 'msg', 'again', 'xuhui', 'learn', '2nd', 'her', 'lesson', '8am', 'oops', 'roommate', 'done', 'see', 'letter', 'decide', 'hello', 'saturday', 'texting', 'decided', 'tomo', 'trying', 'invite', 'pls', 'ahead', 'watts', 'wanted', 'weekend', 'abiola', 'forget', 'need', 'crave', 'most', 'sweet', 'arabian', 'steed', 'mmmmmm', 'yummy', '07732584351', 'rodger', 'burns', 'tried', 'sms', 'nokia', 'camcorder', '08000930705', 'delivery', 'tomorrow', 'who', 'seeing', 'hope', 'man', 'well', 'endowed', 'am', 'lt', 'gt', 'inches', 'calls', 'messages', 'missed', 'didn', 'get', 'hep', 'immunisation', 'nigeria', 'fair', 'hopefully', 'tyler', 'could', 'maybe', 'ask', 'bit', 'stubborn', 'hospital', 'kept', 'telling', 'weak', 'sucker', 'hospitals', 'suckers', 'thinked', 'time', 'saw', 'class', 'gram', 'usually', 'runs', 'half', 'eighth', 'smarter', 'gets', 'almost', 'whole', 'second', 'fyi', 'ride', 'morning', 'crashing', 'place', 'wow', 'never', 'realized', 'embarassed', 'accomodations', 'thought', 'liked', 'since', 'best', 'seemed', 'happy', 'cave', 'sorry', 'give', 'offered', 'embarassing', 'ac', 'sptv', 'new', 'jersey', 'devils', 'detroit', 'red', 'wings', 'play', 'ice', 'hockey', 'correct', 'incorrect', 'end', 'mallika', 'sherawat', 'yesterday', 'find', 'url', 'congrats', 'year', 'special', 'cinema', 'pass', 'yours', '09061209465', 'suprman', 'matrix3', 'starwars3', 'etc', 'bx420', 'ip4', '5we', '150pm', 'later', 'meeting', 'where', 'reached', 'gauti', 'sehwag', 'odi', 'series', 'pick', 'burger', 'yourself', 'move', 'pain', 'killing', 'good', 'joke', 'girls', 'situation', 'seekers', 'part', 'checking', 'iq', 'roommates', 'took', 'forever', 'come', 'double', 'check', 'hair', 'dresser', 'said', 'wun', 'cut', 'short', 'nice', 'pleased', 'advise', 'following', 'recent', 'review', 'mob', 'awarded', '1500', 'bonus', '09066364589', 'song', 'dedicated', 'which', 'dedicate', 'valuable', 'frnds', 'rply', 'complimentary', 'trip', 'eurodisinc', 'trav', 'aco', 'entry41', '1000', 'dis', '18', 'morefrmmob', 'shracomorsglsuplt', '10', 'ls1', '3aj', 'hear', 'divorce', 'barbie', 'comes', 'ken', 'plane', 'wah', 'lucky', 'save', 'money', 'hee', 'finished', 'hi', 'babe', 'im', 'wanna', 'something', 'xx', 'performed', 'waiting', 'machan', 'once', 'thats', 'cool', 'gentleman', 'dignity', 'respect', 'peoples', 'very', 'much', 'shy', 'pa', 'operate', 'after', 'same', 'looking', 'job', 'ta', 'earn', 'ah', 'stop', 'urgnt', 'real', 'yo', 'tickets', 'one', 'jacket', 'used', 'multis', 'started', 'requests', 'came', 'bed', 'coins', 'factory', 'gotta', 'nitros', 'ela', 'kano', 'il', 'download', 'wen', 'stand', 'close', 'another', 'night', 'spent', 'late', 'afternoon', 'casualty', 'means', 'haven', 'any', 'stuff42moro', 'includes', 'sheets', 'smile', 'pleasure', 'trouble', 'pours', 'rain', 'sum1', 'hurts', 'becoz', 'someone', 'loves', 'smiling', 'service', 'representative', '0800', '169', '6031', 'between', '10am', '9pm', 'guaranteed', '5000', 'havent', 'planning', 'buy', 'lido', '530', 'show', 'collected', 'simply', 'password', 'mix', '85069', 'verify', 'usher', 'britney', 'fml', 'telugu', 'movie', 'abt', 'loads', 'loans', 'wk', 'hols', 'run', 'forgot', 'hairdressers', 'appointment', 'four', 'shower', 'beforehand', 'cause', 'prob', 'ham', 'nothing', 'else', 'okay', 'price', 'long', 'legal', 'them', 'ave', 'ams', 'gone', '4the', 'driving', 'test', 'yet', 'mean', 'guess', 'gave', 'boston', 'men', 'changed', 'search', 'location', 'nyc', 'cuz', 'signin', 'page', 'says', 'umma', 'life', 'vava', 'lot', 'dear', 'wishes', 'birthday', 'making', 'truly', 'memorable', 'aight', 'hit', 'would', 'ip', 'address', 'considering', 'computer', 'isn', 'minecraft', 'server', 'grumpy', 'old', 'people', 'better', 'lying', 'jokes', 'worry', 'busy', 'plural', 'noun', 'research', 'cos', 'things', 'scared', 'mah', 'loud', 'gent', 'contact', 'last', 'weekends', 'draw', 'shows', '09064012160', 'k52', '12hrs', '150ppm', 'wa', 'openin', 'sentence', 'formal', 'anyway', 'juz', 'tt', 'eatin', 'puttin', 'weight', 'haha', 'anythin', 'happened', 'entered', 'cabin', 'boss', 'felt', 'askd', 'invited', 'apartment', 'went', 'specially', 'holiday', 'flights', 'inc', 'operator', '0871277810910p', 'min', 'goodo', 'must', 'friday', 'potato', 'ratio', 'tortilla', 'needed', 'hmm', 'uncle', 'informed', 'paying', 'school', 'directly', 'food', 'private', '2004', 'account', 'statement', '07742676969', '786', 'unredeemed', 'points', '08719180248', 'identifier', '45239', 'expires', '2000', 'caller', '03', 'landline', '09064019788', 'box42wr29c', 'apples', 'pairs', 'malarky', 'todays', 'voda', 'numbers', 'ending', '7548', '350', 'award', 'match', '08712300220', 'quoting', '4041', 'standard', 'rates', 'app', 'sao', 'mu', 'ìï', 'predict', 'buying', 'yetunde', 'hasn', 'sent', 'bother', 'sending', 'involve', 'shouldn', 'imposed', 'apologise', 'girl', 'del', 'bak', 'sum', 'lucyxx', 'tmorrow', 'accomodate', 'answer', 'sunshine', 'quiz', 'top', 'sony', 'dvd', 'player', 'country', 'algarve', 'ansr', '82277', 'sp', 'tyrone', 'laid', 'dogging', 'locations', 'direct', 'join', 'largest', 'bt', 'txting', 'gravel', '69888', 'nt', 'ec2a', '31p', 'haf', 'msn', 'yijue', 'hotmail', 'him', 'rooms', 'befor', 'activities', 'msgs', 'chat', 'svc', 'hardcore', 'services', '69988', 'age', 'yr', 'lazy', 'type', 'lect', 'pouch', 'sir', 'mail', 'swt', 'nver', 'tired', 'little', 'lovable', 'persons', 'coz', 'somtimes', 'those', 'occupy', 'biggest', 'their', 'hearts', 'gud', 'ni8', 'open', 'ya', 'dot', 'whats', 'staff', 'taking', 'replied', 'randy', 'sexy', 'female', 'local', 'luv', 'netcollex', 'ltd', '08700621170150p', 'ummma', 'begin', 'qatar', 'pray', 'hard', 'deleted', 'sindu', 'birla', 'soft', 'wine', 'flowing', 'nevering', 'thk', 'plaza', 'typical', 'everywhere', 'dirt', 'floor', 'windows', 'shirt', 'sometimes', 'mouth', 'dream', 'without', 'chores', 'joy', 'lots', 'tv', 'exist', 'hail', 'mist', 'become', 'aaooooright', 'leaving', 'house', 'interview', 'boy', 'missing', 'annoncement', 'years', '07046744435', 'arrange', '0871277810810', 'keep', 'safe', 'because', 'envy', 'everyone', 'parents', 'hand', 'excited', 'each', 'spend', 'bootydelious', '32', 'inviting', 'friend', '434', 'frnd', '62468', 'bangbabes', 'order', 'should', 'content', 'goto', 'bangb', 'internet', 'menu', 'cultures', 'module', '09061701939', 's89', 'avoid', 'missunderstding', 'wit', 'beloved', 'escape', 'fancy', 'bridge', 'needs', 'lager', 'completely', 'form', 'clark', 'also', 'utter', 'waste', 'axis', 'bank', 'hmmm', 'hop', 'muz', 'discuss', 'liao', 'coming', 'bloody', 'hell', 'cant', 'believe', 'surname', 'mr', 'ill', 'clue', 'spanish', 'begins', 'bath', 'carlos', 'mall', 'turns', 'staying', 'til', 'smoke', 'worth', 'doesnt', 'log', 'spoke', 'maneesha', 'satisfied', 'experience', 'toll', 'lifted', 'hopes', 'offer', 'especially', 'approaches', 'studying', 'anyways', 'gr8', 'trust', 'guys', 'bye', 'handsome', 'finding', 'working', 'towards', 'mummy', 'boytoy', 'awesome', 'minute', 'freephone', '0808', '145', '4742', '9am', '11pm', 'xmas', 'radio', 'jus', 'bathe', 'sis', 'using', 'finishes', 'unique', '30th', 'august', 'areyouunique', 'joined', 'league', 'touch', 'deal', 'personal', 'finally', 'completed', 'course', 'itself', 'however', 'suggest', 'stays', 'able', 'ors', 'every', 'stool', 'settled', 'wishin', 'mrng', 'hav', 'story', 'hamster', 'dead', 'tmr', '1pm', 'orchard', 'mrt', 'kate', 'evening', 'babyjontet', 'found', 'enc', 'bucks', 'darlin', 'ive', 'college', 'refilled', 'successfully', 'inr', 'decimal', 'keralacircle', 'prepaid', 'balance', 'rs', 'transaction', 'id', 'kr', 'goodmorning', 'sleeping', 'ga', 'alter', 'dat', 'ericsson', 'oso', 'cannot', 'oredi', 'dats', 'straight', 'dogg', 'connection', 'before', 'refund', 'bill', 'both', 'shoot', 'big', 'ready', 'bruv', 'break', 'rewarding', 'semester', 'study', 'noe', 'leh', 'sounds', 'heading', 'prediction', 'slept', 'past', 'few', 'nights', 'easy', 'sen', 'exam', 'march', 'atm', 'register', 'os', 'called', 'ubandu', 'installing', 'disk', 'important', 'files', 'system', 'repair', 'shop', 'happen', 'romantic', 'nite', 'scenery', '500', '89545', 'collect', 'tc', 'biz', '2optout', '087187262701', '50gbp', 'mtmsg18', 'appreciate', 'partner', 'career', 'off', 'flyng', 'start', 'horo', 'followed', 'star', 'sign', 'aries', 'company', 'elama', 'po', 'mudyadhu', 'strict', 'than', 'teacher', 'bcoz', 'teaches', 'conducts', 'lessons', 'gandhipuram', 'walk', 'cross', 'road', 'side', 'street', 'rubber', 'battery', 'died', 'flirt', '10p', 'sam', '25', 'recd', 'thirtyeight', 'pence', 'printed', 'upstairs', 'closer', 'wil', 'reach', 'theory', 'argument', 'wins', 'loses', 'person', 'argue', 'kick', '447801259231', 'secret', 'admirer', 'reveal', 'thinks', '09058094597', 'tomarrow', 'hearing', 'laptop', 'case', 'pleassssssseeeeee', 'tel', 'avent', 'sportsx', 'shining', 'meant', 'signing', 'although', 'told', 'into', 'baig', 'face', 'watches', 'watch', 'fr', 'thanx', 'everything', 'touched', 'commercial', 'website', 'slippers', 'asked', 'kallis', 'bat', 'innings', 'didnt', 'goodnight', 'fix', 'wake', 'dearly', 'sleep', 'congratulations', 'cd', 'vouchers', '125gift', 'music', '87066', 'tncs', 'ldew', 'com1win150ppmx3age16', 'ranjith', 'cal', 'drpd', 'deeraj', 'deepak', '5min', 'hold', 'bcums', 'angry', 'wid', 'dnt', 'childish', 'true', 'showing', 'deep', 'affection', 'care', 'kettoda', 'manda', 'ups', '3days', 'shipping', 'takes', '2wks', 'other', 'usps', 'lag', 'bribe', 'nipost', 'lemme', 'necessarily', 'expect', 'headin', 'mmm', 'jolt', 'suzy', 'lover', 'video', 'handset', '750', 'anytime', 'networks', 'mins', 'unlimited', 'parked', 'mini', 'shopping', 'own', 'disturb', 'luton', '0125698789', 'ring', 'horny', 'naked', 'hot', '69698', 'unsubscribe', 'dint', 'wana', 'plan', 'sometme', 'credits', 'club4mobiles', 'choose', 'club', '87070', 'club4', 'box1146', 'mk45', '2wt', 'evo', 'flash', 'jealous', 'singles', 'chart', 'quality', 'charge', 'sorting', 'narcotics', 'ended', 'sunny', 'rays', 'leaves', 'worries', 'blue', 'bay', 'hmv', 'genuine', 'questions', '86688', '100percent', 'might', 'objection', 'bf', 'rob', 'mack', 'gf', 'theater', 'handed', 'celebrations', 'full', 'swing', 'tool', 'far', 'okie', 'usual', 'guy', 'passed', 'ahold', 'anybody', 'throw', 'lets', 'baby', 'cruisin', 'hour', 'fone', 'jenny', 'ge', 'shall', 'tonite', 'varunnathu', 'edukkukayee', 'raksha', 'ollu', 'sense', 'gautham', 'stupid', 'cam', 'buzy', 'accidentally', 'resend', 'phone', 'upgrade', 'sim', 'card', 'loyalty', '0845', '021', '3680', 'ends', '28thfeb', 'unless', 'gurl', 'appropriate', 'hurt', 'tease', 'cry', 'die', 'plz', 'rose', 'grave', 'bslvyl', 'coffee', 'somebody', 'high', 'diesel', 'shit', 'shocking', 'scary', 'imagine', 'def', 'somewhere', 'crash', 'taxi', 'fridge', 'meal', 'womdarfull', 'actor', 'blind', '4u', 'rodds1', '21', 'aberdeen', 'united', 'kingdom', 'img', 'icmb3cktz8r7', 'dates', 'hide', 'remb', 'book', 'jos', 'friendship', 'hanging', 'thread', 'themob', 'newest', 'selection', 'games', 'tones', 'gossip', 'babes', 'sport', 'fit', 'funky', '82468', 'garage', 'keys', 'aren', 'bookshelf', 'accept', 'sister', 'dear1', 'best1', 'clos1', 'lvblefrnd', 'jstfrnd', 'cutefrnd', 'lifpartnr', 'belovd', 'swtheart', 'bstfrnd', 'enemy', 'smart', '200', 'weekly', '85222', 'cs', 'winnersclub', 'box', '84', 'm26', '3uz', 'gbp1', 'definitely', '2day', 'normal', 'rest', 'mylife', 'wot', 'lost', 'made', 'advance', 'pongal', 'kb', 'power', 'yoga', 'dunno', 'tahan', 'anot', 'lo', 'dude', 'afraid', 'december', '11mths', '08002986906', 'cake', 'merry', 'christmas', 'kisses', 'cud', 'ppl', 'gona', 'l8', 'buses', 'gon', 'waitin', 'pete', 'guild', 'bristol', 'plans', 'flight', 'problem', 'track', 'record', 'reading', 'women', 'read', 'light', 'apo', 'return', 'immediately', 'germany', 'fixed', 'line', 'via', 'access', 'number', '0844', '861', '85', 'prepayment', 'chance', 'evaporated', 'violated', 'privacy', 'stealing', 'employer', 'paperwork', 'report', 'supervisor', 'valentines', 'lifetime', '83600', 'rcvd', 'custcare', '08718720201', 'daaaaa', 'wined', 'dined', 'surfing', 'calling', 'post', '1000s', 'texts', 'wiv', 'caroline', 'favourite', 'bless', 'hiding', 'stranger', 'interested', 'cleared', 'two', 'round', 'gudnite', 'practice', 'huiming', 'num', 'small', 'prestige', 'shag', 'sextextuk', 'xxuk', '69876', 'txts', 'jeremiah', 'iphone', 'apeshit', 'ever', 'misbehaved', 'slap', 'urself', 'fault', 'basically', 'figure', 'alcohol', 'jay', 'safely', 'weed', 'ish', 'minutes', 'ago', 'wtf', 'onam', 'sirji', 'remembered', 'met', 'insurance', 'insha', 'allah', 'rakhesh', 'ex', 'tata', 'aig', 'tissco', 'tayseer', 'currently', 'maximize', 'cc', '08708800282', 'hg', 'suite342', '2lands', 'row', 'w1j6hl', 'unemployed', 'moment', 'st', 'andrews', 'cold', 'posted', 'chikku', 'db', 'audrey', 'status', 'forward', 'dawns', 'refreshed', 'alive', 'breathe', 'air', 'update_now', 'motorola', 'sonyericsson', 'bluetooth', 'orange', 'mobileupd8', '08000839402', 'call2optout', 'f4q', 'discount', 'rp176781', 'further', 'regalportfolio', '08717205546', 'uniform', 'geeee', 'woke', 'wish', 'cuddling', 'spoil', 'talking', 'agree', 'willing', 'reference', 't91', 'gbp', '09057039994', 'seen', 'recognise', 'happening', 'lindsay', 'sighs', 'bars', 'ptbo', 'heron', 'payasam', 'rinu', 'brings', 'taught', 'becaus', 'hes', 'verifying', 'project', 'prabu', 'mistake', 'body', 'repairs', 'quite', 'slow', 'tests', 'guide', 'ovulation', 'relax', 'reason', 'followin', 'couple', 'wallet', 'leave', '945', '6months', 'phones', 'n9dx', 'owl', 'licks', 'mm', '4mths', 'rental', 'mobilesdirect', '08000938767', 'or2stoptxt', 'having', 'huh', 'sat', 'intro', 'pilates', 'kickboxing', 'office', 'lap', 'days', 'shut', 'bout', '30ish', 'performance', 'calculated', 'current', 'period', 'actually', 'rock', 'putting', 'business', 'put', 'pictures', 'ass', 'facebook', 'picture', 'al', 'salam', 'wahleykkum', 'sharing', 'grace', 'god', 'inshah', 'sometime', 'visitor', 'india', 'change', 'field', 'quickly', 'administrator', '87131', 'poly', 'tone', '2814032', '1st', '3xå', '150pw', 'eå', 'nd', 'chechi', 'cream', 'shipped', 'none', 'yep', 'loxahatchee', 'tree', 'burning', 'starts', 'stoners', 'slightly', 'disastrous', 'pm', 'fav', 'darlings', 'wld', 'stay', 'drink', 'busetop', 'sender', 'fullonsms', 'iron', 'thing', 'okies', 'yan', 'jiu', 'skip', 'den', 'blah', 'bring', 'wendy', 'dating', '09064012103', 'box334sk38ch', 'whatsup', 'goal', '250', 'competition', '80086', 'txttowin', 'head', 'logo', 'names', 'heart', 'name1', 'name2', 'mobno', 'adam', 'eve', '07123456789', 'yahoo', 'pobox36504w45wq', 'txtno', 'ads', 'contacted', '09111032124', 'pobox12n146tf150p', 'siva', 'hostel', 'aha', '09058094455', 'land', '3030', 'voice', 'speaking', 'expression', 'sentiment', 'rowdy', 'ful', 'attitude', 'attractive', 'funny', 'irritating', 'aathi', 'urination', 'esplanade', 'mind', 'giving', 'lift', 'wnt', 'bmw', 'urgently', 'vry', 'hv', 'shortage', 'lacs', 'source', 'arng', 'amt', 'fifteen', 'fucking', 'respond', '3650', '09066382422', '3mins', 'vary', '300603', 'bcm4284', 'ldn', 'wc1n3xx', 'booked', 'ticket', 'hillsborough', 'th', 'askin', 'dollars', 'shoul', 'iouri', 'ten', 'applebees', 'journey', 'hasnt', 'gd', 'bhaji', 'cricketer', 'sachin', 'tough', 'supposed', 'oic', 'tot', 'din', 'group', 'werethe', 'monkeespeople', 'monkeyaround', 'howdy', 'gorgeous', 'blimey', 'exercise', 'kinda', 'concentration', 'hanks', 'lotsly', 'detail', 'transfer', 'acc', 'optimistic', 'improve', 'loan', 'purpose', '75', 'homeowners', 'tenants', 'welcome', 'previously', 'refused', '1956669', 'si', 'oreo', 'truffles', 'amy', 'ure', 'beautiful', 'intelligent', 'woman', 'donåõt', 'result', 'consistently', 'kind', 'asking', 'practicum', 'links', 'ears', 'ttyl', 'isnt', 'bad', 'thru', 'different', 'feeling', 'wavering', 'decisions', 'coping', 'individual', 'heal', 'gives', 'reasons', 'upgrdcentre', '0207', '153', '9153', '26th', 'july', 'opt', 'railway', 'princess', 'receiving', 'oral', 'doggy', 'style', 'fave', 'position', 'enjoy', 'roads', 'slippery', 'bike', 'many', 'language', 'okmail', 'dave', 'notice', 'tenerife', '09061743806', 'tcs', 'sae', 'box326', 'cw25wx', 'screamed', 'enters', 'remove', 'flat', 'transfered', 'removed', 'banks', 'differ', 'charges', '9ja', 'details', 'moan', '69888nyt', 'broken', 'cum', 'infront', 'wise', '9t', 'tension', 'machi', '8th', 'thinking', 'mcr', 'sec', 'taste', 'fb', 'jaykwon', 'thuglyfe', 'falconerf', 'activate', 'terms', 'conditions', 'visit', '07781482378', 'depends', 'boye', 'faded', 'glory', 'ralphs', 'dry', 'trade', 'reunion', 'meh', 'nope', 'monday', 'accenture', 'jackson', 'rec', 'center', '7ish', 'reache', 'fighting', 'either', 'lose', 'fightng', 'some1', 'dificult', 'nuerologist', 'lolnice', 'fish', 'water', '123', '1450', '09050002311', 'b4280703', '08718727868', 'bored', 'outside', 'westshore', 'hyde', 'park', 'village', 'near', 'anthony', 'bringing', 'fees', 'rent', 'significance', 'opinion', 'jada', 'kusruthi', 'silent', 'spl', 'character', 'matured', 'stylish', 'simple', 'scrounge', 'ammo', 'ak', 'prabha', 'soryda', 'realy', 'frm', 'sory', 'forgiven', 'jst', 'tat', '40gb', 'ipod', 'mp3', '83355', 'ibhltd', 'ldnw15h', 'mtmsgrcvd18', 'boltblue', 'mono', 'poly3', 'cha', 'slide', 'jamz', 'toxic', 'topped', 'bubbletext', 'renewal', 'pin', 'tgxxrz', 'transport', 'less', 'problematic', 'bday', 'definite', 'nos', 'booking', 'fri', 'unconscious', 'children', 'adults', 'behave', 'abnormally', 'ebay', 'elsewhere', 'pickle', 'tacos', 'rude', 'campus', '02', '09', 'attempt', '0871', '872', '9755', 'box95qu', 'mas', '150', '85023', 'savamob', 'member', 'offers', '08717898035', '00', 'sub', 'unsub', 'pretty', 'lady', 'single', 'recieve', 'within', '24hrs', 'channel', 'teletext', 'pg', 'faggot', '2003', '07815296484', '800', 'un', 'redeemed', '08718738001', '41782', '04', 'while', 'hoping', 'l8r', 'malaria', 'bani', 'leads', 'passionate', 'kiss', 'across', 'sea', 'probably', 'fat', 'fingers', 'these', 'buttons', 'ummmmmaah', 'returns', 'tirupur', 'applausestore', 'monthlysubscription', '50p', 'max6', 'csc', 'web', 'age16', '2stop', 'famous', 'quote', 'develop', 'ability', 'listen', 'unconditionally', 'losing', 'temper', 'self', 'confidence', 'married', 'oclock', 'mine', 'bash', 'recovery', 'rather', 'cooped', 'hotel', 'invitation', 'cali', 'english', 'bloke', 'weddin', 'omw', 'btw', 'alibi', 'cutting', 'sink', 'through', 'paces', 'cage', 'cock', 'surrounded', 'reminding', 'owns', 'cuck', 'hurry', 'deficient', 'three', 'acknowledgement', 'astoundingly', 'tactless', 'generally', 'faggy', 'demand', 'blood', 'oath', 'fo', 'warm', 'milk', 'magic', 'loose', 'pan', 'cheap', 'perhaps', 'silly', 'likely', 'uv', 'causes', 'mutations', 'sunscreen', 'essential', 'thesedays', 'online', 'pics', 'aiyo', 'mei', 'fast', 'workin', 'bao', 'sugardad', 'gee', 'brownie', 'geeeee', 'barely', 'fuck', '2mrw', 'ninish', 'icky', 'american', 'freek', 'callin', 'jen', 'oooh', 'ridden', 'ey', 'gym', 'whatever', 'smiles', 'daddy', 'scream', 'dick', 'missy', 'yar', 'mum', 'sch', 'clean', 'lab', 'goggles', 'door', 'call09050000327', 'arguing', 'claims', '09050005321', 'arngd', 'marriage', 'walkin', 'unfortuntly', 'snake', 'bites', 'dancing', 'frnt', 'sayin', 'bite', 'izzit', 'textand', '08002988890', 'wife', 'kids', 'jjc', 'tendencies', 'headache', 'quit', 'jazz', 'yogasana', 'em', 'meive', 'hardly', 'gotany', 'srsly', 'yi', 'spree', '80878', '08715705022', '1x150p', 'pound', '08712402050', 'lines', '10ppm', 'ag', 'promo', '07753741225', '08715203677', '42478', '24', 'grand', 'prix', 'stands', 'nitz', 'announcement', '542', '0825', 'exhausted', 'train', 'pie', 'present', 'ar', 'blastin', 'tsunamis', 'occur', 'rajnikant', 'stopped', 'swimming', 'indian', 'ocean', 'noon', 'xclusive', 'clubsaisai', '2morow', '28', 'soiree', 'speciale', 'zouk', 'nichols', 'paris', 'roses', 'ladies', '07946746291', '07880867867', 'bridgwater', 'banter', 'neva', 'imma', 'somethin', '22', 'euro2004', 'results', 'daily', '83222', 'valentine', 'game', 'answers', 'ques', 'suits', 'dependents', 'thanx4', 'cer', 'often', 'future', 'hundreds', 'handsomes', 'beauties', 'aunties', 'uncles', 'shock', 'shuhui', 'leona', 'reaction', 'family', 'happiness', 'snow', 'weather', 'together', 'friendships', 'grow', 'dismay', 'alex', 'concerned', 'pub', 'bud', 'drinks', 'useful', 'officially', 'paid', 'market', 'tootsie', 'pop', 'longer', 'darren', 'textbuddy', 'area', '25p', 'postcode', 'gaytextbuddy', '89693', 'vodafone', '4882', 'matches', '09064019014', 'forwarded', 'seventeen', 'seven', 'hundred', 'ml', 'voucher', 'holder', 'weeks', 'pc', 'tlp', 'expressoffer', 'ts', '80062', 'sweetheart', 'biola', 'login', 'dad', 'fetching', 'restock', 'thanksgiving', 'sound', 'effects', 'brighten', 'wee', 'thursday', 'allo', 'braved', 'taken', 'trains', 'triumphed', 'jolly', 'cartoon', 'listening', 'temple', 'church', 'uncomfortable', '08715203694', '40533', '31', 'email', 'rstm', 'sw7', '3ss', 'gentle', 'sonetimes', 'rough', 'starting', 'panic', 'tuesday', 'wesleys', 'town', 'bet', 'hella', 'drugs', 'drug', 'dealer', 'impatient', 'sun', 'earth', 'cloud', 'river', 'evng', 'wikipedia', '88800', '89034', 'premium', '08718711108', 'under', 'lays', 'envelope', 'paper', 'repent', 'fetch', 'de', 'prepare', 'positions', 'kama', 'sutra', 'en', 'nange', 'bakra', 'kalstiya', 'lakhs', 'ho', 'belly', 'laugh', 'sun0819', 'posts', 'seem', '08452810071', 'ditto', 'saying', 'peace', 'knw', 'wetherspoons', 'piggy', 'awake', 'freaky', 'yelling', 'scrappy', 'lonely', 'hex', 'explain', 'sdryb8i', 'xy', 'sue', 'lapdancer', 'sex', 'bedroom', '89555', 'textoperator', 'g2', '1da', '150ppmsg', 'king', 'crying', 'building', 'map', 'imprtant', 'tomorw', 'cherthala', 'cochin', 'bfore', 'accordingly', 'tmorow', 'engaged', 'ans', 'torch', 'bold', '448712404000', '08712404000', 'farm', '4d', '1405', '1680', '1843', 'law', 'purchase', 'poop', 'looks', 'gpu', 'entrepreneurs', 'corporation', 'gap', 'û_', 'prevent', 'dehydration', 'fluids', 'weird', 'idea', 'away', 'trek', 'harri', 'drivin', 'fantastic', 'gage', 'deck', 'cnupdates', 'newsletter', 'alerts', 'height', 'aeronautics', 'professors', 'wer', 'calld', 'sit', 'aeroplane', 'aftr', 'ws', 'students', 'dey', 'hurried', 'seems', 'timing', 'shitstorm', 'attributed', '08714712388', '7pm', 'stress', 'dorm', 'sell', '449071512431', '1250', '09071512433', 'b4', '050703', 'csbcm4235wc1n3xx', 'callcost', 'mobilesvary', 'maxå', 'sth', 'specs', 'px3748', '08714712394', 'macha', 'upset', 'assume', 'mindset', 'wondar', 'flim', 'cookies', 'jelly', 'running', 'admit', 'mad', 'correction', 'scrumptious', 'wants', 'ba', 'dao', 'half8th', 'exactly', 'jide', 'visiting', 'alertfrom', 'jeri', 'stewartsize', '2kbsubject', 'low', 'prescripiton', 'drvgsto', 'spring', 'yay', 'steak', 'twice', 'neglect', 'opportunity', 'add', 'prayers', 'nokia6650', 'txtauction', '81151', '4t', 'ctxt', 'mtmsg', 'mayb', 'rite', 'faster', 'gals', 'attached', 'glad', 'hadn', 'clocks', 'shouted', 'realised', 'wahay', 'shorter', 'gaze', 'eyes', '930', 'subscribed', '82324', 'helpline', '08706091795', 'spoken', 'gist', 'realize', '40', 'thousands', 'tattoos', 'premier', 'gimme', 'lip', 'caveboy', 'library', 'confused', 'holla', 'anyone', 'spare', 'faith', 'makes', 'possible', 'vibrate', 'acting', '79', '08704439680ts', 'grandmas', 'hungover', 'unclaimed', '09066368327', 'closingdate04', 'claimcode', 'm39m51', '50pmmorefrommobile2bremoved', 'mobypobox734ls27yf', 'gua', 'mt', 'faber', 'yest', 'wishing', 'city', 'summer', 'store', '88039', 'skilgme', 'tscs087147403231winawk', '50perwksub', 'goin', 'meetin', 'wonder', 'tis', 'dramatic', 'schools', 'closed', 'apparently', 'drive', 'inch', 'anywhere', 'damn', 'hunting', 'drunkard', 'wats', 'idc', 'weaseling', 'space', 'picking', 'trash', 'smokes', 'begging', 'lovely', 'sing', 'slave', 'punish', 'beerage', '0578', 'randomlly', 'opening', 'couldn', 'fixes', 'spelling', 'diff', 'living', 'perfect', 'community', '100p', 'polyphonic', '087018728737', 'toppoly', 'tune', 'subpoly', '81618', 'pole', '08718727870', 'enjoyed', 'fondly', 'bein', 'thot', 'dogbreath', 'sounding', 'jan', 'omg', 'weighed', 'woohoo', 'uncountable', 'dictionary', 'pieces', '9996', '14thmarch', 'availa', 'petey', 'whereare', 'friendsare', 'thekingshead', 'canlove', 'nic', 'pobox84', 'm263uz', 'appt', 'no1', '8077', 'mates', 'getzed', '36504', 'w45wq', 'norm150p', 'cashto', '08000407165', 'getstop', '88222', 'php', 'rg21', '4jx', 'dled', '3d', 'imp', 'ain', 'smokin', 'boooo', 'bec', 'ugh', 'nervous', 'costumes', 'gift', 'yowifes', 'hint', 'borrow', 'bag', 'outbid', 'simonwatson5120', 'shinco', 'plyr', 'bid', 'smsrewards', 'notifications', 'ones', 'model', 'youi', 'galileo', 'dobby', 'responding', 'boo', 'enjoyin', 'yourjob', 'gettin', 'hunny', 'iåõllspeak', '2u', 'soonlots', 'loveme', 'xxxx', 'starshine', 'ache', 'sips', 'cappuccino', 'teasing', 'smsservices', 'yourinclusive', 'comuk', '3qxj9', 'extra', '08702840625', '220', 'cm2', '9ae', 'alfie', 'moon', 'm8s', 'charity', '8007', 'nokias', 'polys', 'zed', '08701417012', 'profit', 'bits', 'hahaha', 'brain', 'turned', 'green', 'burial', 'mojibiola', '09065174042', 'cust', '07821230901', 'mate', 'rv', 'hol', 'havenåõt', 'ages', 'rvx', 'skyped', 'kz', 'sura', 'given', 'ultimatum', 'countin', 'aburo', 'surely', 'successful', 'five', '08002888812', 'inconsiderate', 'nag', 'recession', 'hence', 'wed', 'soo', 'understand', '2morrow', 'comprehensive', 'prashanthettan', 'mother', '09066350750', 'ibiza', 'await', 'collection', 'sk3', '8wp', 'ppm', 'meanwhile', 'suite', 'xavier', 'seconds', 'warning', 'samantha', 'playing', 'guitar', 'impress', 'doug', 'realizes', 'stomach', 'trauma', 'swear', 'matter', 'shoes', 'wan', 'inner', 'tigress', 'version', 'poor', 'urfeeling', 'bettersn', 'probthat', 'overdose', 'careful', 'spk', 'sn', 'lovejen', 'returned', 'fall', 'worlds', 'discreet', 'vip', '83110', 'hai', 'ana', 'sathy', 'rto', 'spoons', 'named', 'tampa', 'genius', 'whenever', 'connections', 'sort', 'lotta', 'corvettes', 'lately', 'yrs', 'supply', 'cds', 'virgin', 'records', 'mystery', '09061104283', 'smsco', '50pm', 'approx', 'consider', 'walls', 'bunkers', 'peaceful', '07808', 'xxxxxx', '08719899217', '41685', '07', 'posh', 'birds', 'chaps', 'user', 'trial', 'prods', 'champneys', 'dob', 'asap', '0721072', 'philosophical', 'hole', 'saved', 'drop', 'cuddle', 'nap', 'atleast', 'otherwise', 'shakespeare', 'shesil', '10k', '5k', 'travel', '09064011000', 'ntt', 'cr01327bt', 'fixedline', 'castor', 'liverpool', 'played', 'mid', '09058094565', '09065171142', 'stopsms', '08', 'reminder', 'downloaded', 'doit', 'mymoby', 'knew', 'woul', 'lead', 'wanting', 'curfew', 'gibe', 'midnight', 'getsleep', 'studdying', 'ear', 'training', 'massages', 'oil', 'sup', 'yoyyooo', 'permissions', 'mac', 'usb', 'gibbs', 'unsold', 'mike', 'hussey', 'failed', 'sad', 'unbelievable', 'faglord', 'murder', 'nutter', 'cutter', 'ctter', 'cttergg', 'cttargg', 'ctargg', 'ctagg', 'ie', 'thus', 'superb', 'grateful', 'happier', 'agents', 'experiment', 'due', 'several', 'outstanding', 'invoices', 'teach', 'smell', 'tobacco', 'derek', 'taylor', 'assumed', 'worst', 'charles', 'lastest', 'stereophonics', 'marley', 'dizzee', 'racal', 'libertines', 'strokes', 'nookii', 'bookmark', 'plus', 'grinule', 'greet', 'white', 'fudge', 'oreos', 'stores', 'january', 'male', 'sale', 'gay', 'cheaper', '08709222922', '5p', '8p', 'peak', '08712460324', 'zaher', 'ym', 'nauseous', 'pissed', 'sweets', 'pig', 'dieting', 'chip', 'iam', 'addicted', 'msging', 'wrong', 'photo', 'registered', 'yck', 'ma', 'ashley', 'avalarr', 'hollalater', 'attend', 'rounds', 'blogging', 'magicalsongs', 'blogspot', 'diet', 'ate', 'slices', 'kvb', '88600', '1million', 'ppt150x3', 'box403', 'w1t1jy', 'alternative', 'term', 'ore', 'mo', 'owo', 'moments', 'fro', 'wherever', 'samus', 'shoulders', 'matthew', '09063440451', 'lux', 'ppm150', 'box334', 'sk38xh', 'wear', 'jeans', 'fever', 'vomitin', '09061749602', '528', 'hp20', '1yf', 'stuffed', 'bleh', 'least', 'writhing', 'tons', 'paypal', 'voila', 'pockets', 'theyre', 'places', 'medical', 'folks', 'sorta', 'blown', 'recently', 'scores', 'sophas', 'secondary', 'application', 'applying', 'ogunrinde', 'expensive', 'photos', '114', '14', 'tcr', 'w1', 'lodging', 'chk', 'ms', 'dict', 'shb', 'truth', 'against', 'gravity', 'carefully', 'feels', 'heavy', 'bowl', 'filthy', 'stories', 'brand', 'decision', 'simpler', 'magical', 'welp', 'retired', 'natwest', '09050001808', 'm95', 'valid12hrs', 'chad', 'gymnastics', 'site', 'christians', 'necklace', 'token', 'liking', 'aptitude', '15', 'horse', 'racing', 'earlier', 'chicken', 'rice', 'closes', 'wrongly', 'ad', 'crap', 'borin', 'boggy', 'boring', 'biatch', 'nxt', 'hesitate', 'weakness', 'notebook', 'salary', 'chocolate', 'potential', 'talent', 'reckon', 'eightish', 'carpark', '3g', 'videophones', '09063458130', 'videochat', 'java', 'dload', 'polyph', 'noline', 'rentl', 'fuckin', 'dropped', 'loving', 'yun', 'ubi', '67441233', 'irene', 'ere', 'bus8', '65', '61', '66', '382', 'cres', 'tech', '6ph', '5wkg', 'sd', 'butt', 'sore', 'relaxing', '7am', 'party', '5ish', 'stripes', 'skirt', 'miracle', 'jesus', 'blessed', 'escalator', 'quiet', 'beth', 'aunts', 'charlie', 'helen', 'heard', 'syllabus', 'panasonic', 'bluetoothhdset', 'doublemins', 'doubletxt', 'contract', '30pm', 'poyyarikatur', 'kolathupalayam', 'unjalur', 'erode', 'hero', 'apt', 'kerala', 'terrible', 'fan', 'meat', 'lovers', 'supreme', 'regret', 'cudnt', 'drove', 'ctla', 'ente', 'ishtamayoo', 'bakrid', 'exe', 'glorious', 'anniversary', 'finds', 'prey', 'coaxing', 'images', 'fond', 'souveniers', 'cougar', 'pen', 'secretly', 'fancies', '09065394514', 'datebox1282essexcm61xn', 'pattern', 'throat', 'scratches', 'plm', 'asleep', 'foreign', 'stamps', 'lecture', 'sheffield', 'nanny', 'raise', 'zoe', 'shitin', 'defo', 'hardest', 'millions', 'lekdog', 'setting', 'filling', 'loverboy', 'blankets', 'sufficient', 'thx', 'nyt', 'edison', 'rightly', 'fool', 'speechless', 'during', 'viva', 'gm', 'atten', 'roast', 'iåõd', '09058097218', 'ls15hb', 'concentrate', 'educational', 'flirting', 'chatting', 'walked', 'doesnåõt', 'serious', 'kickoff', 'euro', 'june', '3rd', 'sells', 'data', 'analysis', 'thesis', 'belligerent', 'hiya', 'april', 'les', 'rudi', 'snoring', 'drunk', 'sends', 'ink', '515', 'throwing', 'deciding', 'eastenders', 'flower', 'compare', 'herself', 'violet', 'tulip', 'lily', '84025', 'wkent', '150p16', 'technical', 'support', 'process', 'networking', 'prepared', 'finalise', 'works', 'flirtparty', 'replys150', 'bitch', 'dentist', '09058091854', 'revealed', 'box385', 'm6', '6wu', 'bathing', '09050003091', 'c52', 'xchat', 'lul', 'juicy', 'nurses', 'shes', 'obese', 'oyea', 'oi', 'ami', 'parchi', 'na', 'kicchu', 'kaaj', 'korte', 'iccha', 'korche', 'tul', 'movies', 'copies', 'sculpture', 'convey', 'regards', 'surya', 'vijay', 'pokkiri', 'pic', 'dearer', 'dem', 'attraction', 'thoughts', 'breath', 'sorrows', 'fight', 'craziest', 'proove', 'planet', 'singing', 'praises', 'curry', 'makiing', 'sambar', 'ndship', 'needle', 'clock', 'evn', 'itz', '4few', 'alwys', 'conected', 'spatula', 'hands', 'sipix', 'digital', '09061221061', '28days', 'box177', 'm221bp', '2yr', 'warranty', 'på', '99', '09061790121', 'doctor', 'complexities', 'freely', 'taxes', 'outrageous', 'tomorro', 'ryder', 'subscriber', 'receipt', 'elvis', 'presleys', 'fret', 'strips', 'postal', 'gifts', 'cliff', 'ne', 'interesting', 'wrking', 'uni', 'depressed', 'sittin', 'wind', 'drops', 'black', 'aiyah', 'information', 'o2', 'onto', 'urawinner', 'surprise', 'awaiting', 'hen', 'italian', 'grins', 'smoked', 'math', 'dhoni', 'rocks', 'teju', 'hourish', 'ground', 'amla', 'durban', 'convenience', 'evaluation', '449050000301', '09050000301', 'speed', 'speedchat', '80155', 'swap', 'chatter', 'chat80155', 'rcd', 'cancel', 'cheyyamo', '08000776320', 'aiyar', 'survey', '80160', 'txt43', 'catching', 'throws', 'gal', 'falls', 'brothers', 'whos', 'hmv1', 'errors', 'difficulties', 'howz', 'tau', 'sar', 'piah', '1stchoice', '08707808226', 'wearing', 'film', 'shade', 'copied', 'notified', 'luck', 'marketing', '84122', '08450542832', 'raining', 'station', 'tank', 'virgins', '4fil', 'sexual', 'theirs', 'cute', '69911', 'sitter', 'kaitlyn', 'adult', 'danger', 'peeps', 'comment', 'veggie', 'neighbors', 'computerless', 'balloon', 'silently', 'drms', 'wrc', 'rally', 'oz', 'lucozade', 'energy', 'le', '61200', 'packs', 'itcould', 'melody', 'horrible', 'macs', 'toot', 'bigger', 'nw', 'hme', 'islands', 'chennai', 'velachery', 'flippin', 'breaking', 'cstore', 'annoying', 'hangin', 'makin', 'lodge', 'worrying', 'shame', 'quizzes', 'popcorn', 'jordan', 'celeb', 'pocketbabe', '087016248', 'voicemail', '08719181503', 'thin', 'arguments', 'fed', 'himso', '2go', 'neft', 'credited', 'beneficiary', 'tuition', 'understanding', 'choice', 'enter', 'subs16', '1win150ppmx3', 'appreciated', 'semi', 'apart', 'delivered', 'exp', '30apr', 'strong', 'arms', 'maaaan', 'guessin', 'walmart', 'ilol', 'personally', 'wuldnt', 'mite', 'creepy', 'lunchtime', 'organise', '08719181513', 'complete', 'passable', 'score', 'phd', '5years', 'easier', 'nok', '87021', 'txtin', '4info', 'prakesh', 'apps', 'rofl', 'betta', 'invest', 'anti', 'aging', 'products', '1hr', 'delay', 'accommodation', 'various', 'global', 'phb1', 'ph', '08700435505150p', 'submitting', '84128', 'textcomp', '08712405020', 'snatch', 'purse', 'drivby', '0quit', 'edrunk', 'iff', 'pthis', 'senrd', 'dnot', 'dancce', 'drum', 'basq', 'ihave', '2nhite', 'ros', 'xxxxxxx', 'morn', 'relieved', 'westonzoyland', 'greatness', 'europe', 'nobody', 'chinese', 'docs', 'songs', 'havin', 'goin2bed', 'only1more', 'mc', 'hun', '2nite', 'every1', 'ava', 'goodtime', 'oli', 'rang', 'melnite', 'ifink', 'sorted', 'everythin', 'mon', 'l8rs', '08712402779', 'flip', 'shun', 'bian', 'glass', 'exhibition', 'el', 'nino', 'himself', 'cbe', 'honey', 'jd', 'accounts', 'executive', 'picked', 'downstem', '08718730555', 'wahala', 'inperialmusic', 'listening2the', 'weirdest', 'byåóleafcutter', 'johnåó', 'insects', 'molested', 'plumbing', 'remixed', 'evil', 'acid', 'didntgive', 'bellearlier', 'exact', '09096102316', '2moro', 'jane', 'callså', 'minmoremobsemspobox45po139wa', 'tee', 'cheery', 'cell', 'thts', 'dough', 'control', '80488', 'weirdo', 'mode', 'stalk', 'profiles', 'jerry', 'irritates', 'fails', 'express', 'drinkin', 'wondering', 'others', 'dog', 'tour', '5pm', '95', 'pax', 'deposit', 'jap', 'disappeared', 'birthdate', 'certificate', 'publish', 'dreams', 'nydc', 'wheellock', 'destination', 'fifty', 'favour', 'settling', 'happenin', 'ola', 'cocksuckers', 'ipads', 'worthless', 'garbage', 'novelty', 'items', 'fran', 'broke', 'knackered', 'janx', 'dads', 'designation', 'software', 'developer', 'jamster', 'videosound', 'gold', 'videosounds', 'logos', 'musicnews', '09701213186', 'lions', 'lionm', 'lionp', 'ringtones', 'original', '3gbp', 'jokin', 'spirit', 'bb', 'shattered', 'alrite', 'idiot', 'girlie', 'colours', 'darker', 'styling', 'whenevr', 'gray', 'remembr', 'listn', 'watevr', 'arry', 'potter', 'phoenix', 'harry', 'among', 'readers', 'shd', 'minus', 'paragraphs', 'coveragd', 'vasai', 'retard', 'bathroom', 'sang', 'uptown', '80', 'february', 'rush', 'icic', 'syria', 'canada', 'cares', 'goodnoon', 'gauge', 'patty', 'interest', 'vl', 'completing', 'ax', 'chill', '6hrs', 'surgical', 'emergency', 'unfolds', 'frens', 'korean', 'fredericksburg', 'que', 'pases', 'buen', 'tiempo', 'chillin', 'super', 'free2day', 'george', '89080', 'saucy', '0870241182716', 'theres', 'tmrw', 'compass', 'soul', 'gnun', 'way2sms', 'baaaaabe', 'misss', 'youuuuu', 'ned', 'convince', 'tht', 'witot', 'hurting', 'main', 'sweetie', 'blackberry', 'buyer', '4a', 'pple', 'marry', 'becz', 'undrstndng', 'avoids', 'problems', 'chain', 'suffer', 'whn', 'arrested', 'suntec', 'steamboat', 'dance', 'moji', 'forgive', 'messenger', 'reaching', 'tp', 'fantasies', '08707509020', '20p', '1327', 'croydon', 'cr9', '5wb', '0870', 'bbq', '6ish', 'everyso', 'panicks', 'fill', 'bar', 'write', 'cover', 'screen', 'gently', 'bears', 'nick', 'tom', 'fact', 'types', 'upload', '08718730666', 'auntie', 'huai', 'juan', 'linerental', 'lf56', 'tlk', 'ideal', 'path', 'appear', 'front', 'paths', 'walking', 'arm', 'shot', 'reserve', 'thirunelvali', 'tirunelvali', 'tackle', 'storming', 'phne', 'wt', 'meaning', 'margaret', 'girlfrnd', 'grahmbell', 'invnted', 'telphone', 'moral', '4get', 'popped', 'tonght', 'ploughing', 'pile', 'ironing', 'chinky', 'wi', 'nz', 'players', 'effect', 'aust', 'bk', 'cafe', 'recharged', 'kidding', 'papa', 'shld', 'stretch', 'detailed', 'sinco', 'payee', 'icicibank', 'urn', 'beware', 'frauds', 'share', 'disclose', 'vote', 'caring', 'losers', 'kaiez', 'option', 'beta', 'practicing', 'babies', 'noncomittal', 'beneath', 'pale', 'goodnite', 'msgrcvdhg', 'snickering', 'tells', 'totally', 'chords', 'rem', 'silver', 'lmao', 'silence', 'win150ppmx3age16', 'exams', 'revision', 'boyf', 'interviw', 'exeter', 'spreadsheet', 'whose', 'determine', 'entire', 'arsenal', 'dartboard', 'condition', 'doubles', 'trebles', 'coat', 'painful', 'everybody', 'recognises', 'alone', 'wisheds', 'intrepid', 'duo', 'missin', 'guilty', 'aiya', 'cardiff', 'addie', 'tues', 'breeze', 'bright', 'fresh', 'twittering', 'restaurant', 'textpod', 'pod', 'ducking', 'chinchillas', 'function', 'headstart', 'desperate', 'rummer', 'flying', 'monkeys', 'certainly', 'optin', 'bbc', 'charts', 'thanks2', 'rajini', 'practical', 'summers', 'matched', 'optout', 'help08714742804', 'spys', 'mails', 'claire', '09099725823', 'bought', 'costing', 'offering', 'yalru', 'lyfu', 'astne', 'innu', 'mundhe', 'lyf', 'ali', 'halla', 'ke', 'bilo', 'program', 'edhae', 'ovr', 'vargu', 'meow', 'twelve', 'aah', '09066362231', '07xxxxxxxxx', '06', 'prone', '07801543489', 'latests', 'llc', 'ny', 'usa', 'msgrcvd18', 'permission', 'lucy', 'hubby', 'meetins', 'cumin', '09099726395', 'minmobsmorelkpobox177hp51fl', 'wonders', '7th', '6th', '5th', '4th', 'personality', 'nature', 'dose', 'tablet', 'incomm', 'blake', 'lotr', 'keeping', 'google', 'maps', 'tiring', 'modules', 'concentrating', 'browsin', 'compulsory', 'purity', 'musthu', 'investigate', 'vomit', 'aint', 'sha', 'vitamin', 'centre', 'crucial', 'jsco', '2channel', 'leadership', 'skills', 'psychic', 'host', 'based', 'idps', 'linux', 'systems', 'total', 'converter', 'along', 'stars', 'karaoke', 'testing', 'sayy', 'loved', 'except', 'nit', 'leanne', 'eight', 'file', 'format', 'disc', 'hows', 'champ', 'glasgow', 'lovin', 'arrive', 'shortly', 'install', 'browse', 'artists', 'corect', 'speling', 'sarcasm', '4719', '523', 'forum', 'ron', 'cts', 'employee', 'aunt', 'nike', 'sooo', 'screaming', 'shouting', 'dang', 'unfortunately', 'airport', '7250i', 'auction', '86021', 'w1jhl', 'difficult', 'earliest', 'nordstrom', 'konw', 'waht', 'rael', 'gving', 'yuo', 'exmpel', 'jsut', 'ese', 'tihs', 'evrey', 'splleing', 'wrnog', 'sitll', 'raed', 'wihtuot', 'ayn', 'mitsake', 'conference', 'ow', 'degree', 'joining', 'finance', 'prospects', 'bleak', 'filled', 'shant', 'jia', 'bishan', 'nearer', 'sux', 'raiden', 'buff', 'south', 'preferably', 'kegger', 'totes', 'pierre', 'cardin', 'costs', 'rhythm', 'establish', 'truro', 'ext', 'gas', 'gang', 'adventure', 'cloth', 'pack', 'tablets', 'sunroof', 'excellent', 'finishing', 'doors', 'wifi', 'blanked', 'image', 'rumour', 'kalainar', 'thenampet', '7250', 'nosy', 'idk', 'reacting', 'freaked', 'whom', 'satanic', 'imposter', 'destiny', 'companion', 'chef', 'listener', 'organizer', 'boyfriend', 'sympathetic', 'athletic', 'courageous', 'determined', 'dependable', 'psychologist', 'pest', 'exterminator', 'psychiatrist', 'healer', 'stylist', 'driver', 'aaniye', 'pudunga', 'venaam', 'brothas', 'chasing', 'chez', 'jules', 'hhahhaahahah', 'nig', 'leonardo', 'kicks', 'john', '2years', 'strain', 'dime', 'withdraw', 'anyhow', 'falling', 'force', 'smeone', 'millers', 'fire', 'spark', 'flame', 'rawring', 'xoxo', 'somewhr', 'crushes', 'honeymoon', 'outfit', 'propose', '08719899230', 'blame', 'gods', 'blessings', 'cheque', 'olympics', 'leo', 'haul', 'wildlife', 'want2come', 'that2worzels', 'wizzle', 'dippeditinadew', 'lovingly', 'itwhichturnedinto', 'gifted', 'tomeandsaid', 'shanghai', 'instead', 'cya', 'freezing', '645', 'rt', 'pro', 'ringtoneking', '08701237397', 'redeemable', 'thnx', 'sef', 'anjie', 'batch', 'fring', 'flaky', 'sooooo', 'laughing', 'winning', 'tooo', 'nte', '09058094599', 'confuses', 'wating', 'british', 'hotels', 'london', '02072069400', 'bx', '526', 'sw73ss', 'talents', '6pm', 'animal', 'buzz', 'adoring', 'eerie', 'title', 'dracula', 'titles', 'ghost', 'addamsfa', 'munsters', 'exorcist', 'twilight', 'brought', 'shiny', 'warming', 'constant', 'cared', 'wasn', 'surprised', 'french', 'fooled', '0a', 'allow', 'companies', 'responsible', 'suppliers', 'comedy', 'feelin', 'lnly', 'moby', '82242', 'msg150p', '2rcv', 'hlp', '08712317606', 'keen', 'switch', 'dammit', 'wright', 'fly', 'somewhat', 'event', 'laden', 'wrecked', 'spontaneously', 'goodevening', 'lei', 'action', '80608', 'movietrivia', '08712405022', 'waking', 'partnership', 'rgent', 'lookin', 'daytime', 'busty', '09099726429', 'janinexx', 'mostly', 'inside', 'spageddies', 'phasing', 'fourth', 'dimension', 'meaningful', 'compromised', '09050001295', 'a21', 'monthly', 'mobsi', '391784', 'dub', 'je', 'toughest', 'ideas', 'sight', 'remain', 'maintain', 'sh', 'jas', 'squatting', 'cramps', '0089', 'digits', 'received', '09063442151', 'nan', 'sonathaya', 'soladha', 'raping', 'dudes', 'poker', 'weightloss', 'mushy', 'embarrassed', 'stash', 'ran', 'priya', 'ordered', '81303', 'father', 'messy', 'kilos', 'accidant', 'tookplace', 'ghodbandar', 'rd', 'traffic', 'moves', 'slovely', 'slip', 'wkg', 'nus', 'sc', 'specialise', 'wad', 'likes', 'dislikes', 'keeps', 'queen', 'desparately', 'fren', 'promises', 'gotten', 'stereo', 'mi', 'unknown', 'album', '121', '60p', 'connect', '09094646899', 'vu', 'bcm1896wc1n3xx', 'classmates', 'fires', 'boys', '2007', 'pre', 'trackmarque', 'vipclub4u', 'missionary', 'hook', 'standing', 'entertaining', 'hugh', 'laurie', 'stick', 'indeed', 'praps', 'jon', 'bin', 'spain', 'dinero', 'åôrents', '000pes', '48', 'james', 'maangalyam', 'alaipayuthe', 'complaining', 'mandy', 'sullivan', 'hotmix', 'fm', 'chosen', 'easter', 'telephone', '09041940223', '29', '05', 'transferred', 'finn', 'di', 'bahamas', 'callfreefone', '08081560665', 'cruise', 'ofå', '07786200117', 'calm', 'downon', 'theacusations', 'itxt', 'iwana', 'wotu', 'doin', 'thew', 'haventcn', 'up4', 'nething', 'dine', 'conacted', '09111030116', 'pobox12n146tf15', 'iåõm', 'social', 'inspection', 'nursery', 'slowly', 'becomes', 'habit', 'follow', 'panren', 'paru', 'chuckin', 'trainners', 'carryin', 'bac', 'schedule', 'dhanush', 'needing', 'stuck', 'habba', 'hw', 'dileep', 'muchand', 'contacts', 'venugopal', 'mentioned', 'remembrs', 'forgets', 'everytime', 'mandan', '07734396839', 'ibh', 'nokia6600', 'regarding', '3230', 'textbook', 'algorithms', 'edition', 'selling', 'buns', 'adore', 'invaders', 'orig', 'arcade', 'console', 'settings', 'alert', '09064018838', 'cro1327', 'atlanta', 'recharge', 'created', 'fills', 'gaps', 'holding', 'arun', 'transfr', 'takin', 'philosophy', 'didnåõt', 'intend', 'iwas', 'marine', 'itried2tell', 'urmom', 'careabout', 'foley', 'exciting', 'prizes', 'eye', '82050', 'desparate', 'learned', 'fake', 'answering', 'iraq', 'afghanistan', 'stable', 'honest', 'traveling', '1225', '50award', '3100', 'pai', 'seh', 'beer', 'combine', 'parts', 'walsall', 'tue', 'terry', 'jess', 'sian', 'ccna', 'shrek', 'dirty', 'fellow', 'dying', 'lifting', 'teresa', 'package', 'dec', 'ld', 'bam', 'aid', 'usmle', 'squishy', 'mwahs', 'hottest', 'g696ga', 'prominent', 'cheek', 'september', 'husband', 'hack', 'backdoor', 'fraction', 'neo69', '09050280520', 'subscribe', 'dps', 'bcm', '8027', 'norm', 'list', 'joanna', 'comingdown', 'replacement', 'murali', 'sts', 'engalnd', 'telly', 'mia', 'elliot', 'kissing', 'upto', '12mths', '2price', '100txt', 'mth', 'tooth', '08001950382', 'd3wv', 'wipro', 'matric', '850', 'toa', 'payoh', '650', '08718726970', 'payments', 'fedex', 'reception', 'hate', 'consensus', 'entertain', 'delete', 'tag', 'wednesday', 'skype', 'laundry', 'underwear', 'bras', 'strewn', 'pillows', 'waheed', 'fathima', 'mmmm', 'weaknesses', 'pushes', 'knee', 'exposes', 'pulls', 'wicked', 'supports', 'srt', 'thnk', 'ps3', 'jontin', 'nearly', 'banned', 'beyond', 'biro', 'masters', '09058094594', 'shell', 'unconsciously', 'avoiding', 'unhappy', 'excuse', 'jog', '0776xxxxxxx', '18yrs', '09061743811', 'abta', '326', 'season', 'lark', '09090900040', 'extreme', 'sic', '7mp', '0870753331018', 'fones', 'wild', 'stop2stop', 'uh', 'heads', 'lim', 'vday', 'parachute', 'placed', '80182', '08452810073', 'table', 'lambda', 'build', 'snowman', 'angels', 'snowball', 'fights', 'ello', 'ikea', 'ofice', 'cn', 'duffer', 'grr', 'prescription', 'pharmacy', 'cook', 'electricity', '08715500022', 'rpl', 'cnl', 'nor', 'fffff', 'kadeem', 'fujitsu', 'lifebook', 'scold', 'zhong', 'se', 'qing', 'act', 'hypertension', 'wud', 'annoyin', '08702490080', '09066358152', 'prompts', 'vpod', 'carry', 'disturbing', 'avatar', 'nigro', 'scratching', 'anyplaces', 'stops', 'cleaning', 'priority', 'constantly', 'ecstasy', '09090204448', 'minded', 'aå', 'minapn', 'ls278bb', 'flies', 'hittng', 'reflex', 'costa', 'sol', '09050090044', 'toclaim', 'pobox334', 'stockport', 'costå', 'max10mins', 'lousy', 'cat', 'woken', 'hip', 'adewale', 'aka', 'egbon', 'ic', 'mary', 'deduct', 'wrks', 'monkey', 'asshole', 'grab', 'sliding', '09065394973', 'payback', 'honeybee', 'sweetest', 'laughed', 'havnt', 'crack', 'gn', 'tescos', 'feathery', 'bowa', 'infra', 'nvm', 'gep', 'delhi', 'thinkin', '2006', 'fifa', 'held', '87239', 'boat', 'moms', 'shhhhh', 'related', 'arul', 'amk', '09061743810', 'length', 'fringe', 'distract', 'antha', 'corrct', 'dane', 'basket', 'proof', 'rupaul', '61610', '08712400602450p', 'provided', 'tones2you', 'practising', 'curtsey', 'yeh', 'memory', 'converted', 'downloads', 'members', 'african', 'soil', 'major', 'roles', 'outreach', 'mel', 'birth', '8lb', '7oz', 'brilliantly', 'forwarding', 'intention', 'visitors', 'rules', 'responsibility', 'bend', 'rule', 'thia', 'inlude', 'previews', 'freefone', '08006344447', 'ambrith', 'madurai', 'dha', 'marrge', 'kitty', 'shaved', 'natural', 'onwards', 'tactful', 'tscs', 'skillgame', '1winaweek', '150ppermesssubscription', 'theatre', 'obviously', 'eggs', 'pert', 'crammed', 'satsgettin', '47per', 'lie', 'apologize', 'pei', 'kid', 'boost', 'subtoitles', 'sitting', 'jot', 'cereals', 'gari', 'infernal', 'affair', 'including', 'bold2', 'calicut', '09094100151', 'cast', 'aom', 'gbp5', 'box61', 'm60', '1er', 'thkin', 'parco', 'nb', 'resubbing', 'shadow', 'breadstick', 'ahmad', 'saeed', 'hallaq', '09066362220', 'box97n7qp', 'purple', 'pink', 'lyk', 'yelow', 'bck', 'brown', 'giv', 'color', 'arranging', 'eldest', 'drugdealer', 'gender', 'wither', '23f', '23g', 'sleepwell', 'wondarfull', 'web2mobile', 'txt250', 'box139', 'la32wu', 'txtx', 'normally', 'onbus', 'donyt', 'latelyxxx', '85233', 'mca', 'rich', 'official', 'flag', 'yer', '84199', 'eng', 'box39822', 'w111wx', 'yor', 'stressed', 'jason', 'soooo', 'provider', 'tming', 'subs', 'cutest', 'dice', 'art', 'inclusive', '08700469649', 'box420', 'howda', 'mathe', 'samachara', 'audrie', 'autocorrect', 'simulate', 'readiness', 'armand', 'vomiting', 'rub', 'feet', 'lara', 'supplies', 'clever', 'guesses', 'attach', '087123002209am', 'med', 'stamped', '113', 'bray', 'wicklow', 'eire', 'washob', 'nobbing', 'nickey', 'platt', 'ryan', 'vikky', 'idew', 'argh', 'spotty', 'province', 'sterling', 'looked', 'xam', 'hall', 'manage', 'hesitation', 'intha', 'ponnungale', 'ipaditan', 'rejected', 'shitload', 'diamonds', 'tessy', 'favor', 'nimya', 'shijas', 'aunty', 'china', 'noisy', 'needa', 'mcat', 'manual', 'reset', 'troubleshooting', 'b4u', '27', 'marsms', 'b4utele', '08717168528', 'strongly', 'sacrifice', 'beg', 'expecting', 'creativity', 'stifled', 'morphine', 'requirements', 'stayin', 'heåõs', '2getha', 'buffy', 'satisfy', 'pix', 'qlynnbv', 'help08700621170150p', '30', 'cld', 'prefer', 'nosh', 'waaaat', 'lololo', 'occupied', 'kindly', 'documents', 'submitted', 'stapati', 'miles', 'cutie', 'hills', 'killed', 'colleagues', 'sed', 'mood', 'minuts', 'latr', 'kidz', 'sofa', 'honesty', 'specialisation', 'labor', 'shakara', 'beggar', 'smashed', 'dent', 'crickiting', 'imin', 'dontmatter', 'urgoin', 'outl8r', 'yavnt', 'popping', 'ibuprofens', 'sip', 'ps', 'grown', 'chinatown', 'porridge', 'claypot', 'yam', 'fishhead', 'beehoon', 'tok', 'specific', 'jaklin', 'nearby', 'cliffs', '49', 'ntwk', 'bundle', 'deals', 'avble', 'mf', 'pages', 'figures', 'ooh', '4got', 'moseley', 'weds', 'thankyou', 'pending', 'aluable', 'ffectionate', 'oveable', 'ternal', 'oble', 'ruthful', 'ntimate', 'atural', 'namous', 'textin', 'cousin', 'frndship', 'excuses', 'raji', 'legs', 'neck', 'amigos', 'burn', 'progress', 'continue', 'holy', 'weren', 'arty', 'collages', 'tryin', 'billion', 'classes', '2hrs', 'waliking', 'cartons', 'shelves', '08714712379', 'distance', 'mirror', 'youre', 'turning', 'freak', 'ref', 'k718', '09065069120', 'jod', 'keris', 'smidgin', 'belive', 'intentions', 'empty', 'slots', 'accordin', 'discussed', 'knocking', 'como', 'listened2the', 'plaid', 'air1', 'hilarious', 'boughtåóbraindanceåóa', 'ofstuff', 'aphexåõs', 'abel', 'nelson', 'temp', 'unmits', 'display', 'newspapers', 'soup', 'yummmm', 'management', 'puzzeles', 'include', '4goten', 'scammers', 'regular', 'prem', '2morro', 'passion', '09099726481', 'dena', 'spoiled', 'r836', '09065069154', 'threats', 'sales', 'shifad', 'raised', 'complaint', 'doctors', 'reminds', 'lounge', 'lk', 'role', 'lov', 'checked', 'splashmobile', 'subscrition', '300p', 'dust', 'u4', '01223585334', '2c', 'shagged', '8552', '2end', '88877', '88066', '3pound', 'watchin', 'meaningless', 'brdget', 'jones', 'inever', 'hype', '700', 'studio', 'bedrm', 'unable', 'waited', 'velly', 'wkend', 'huge', 'marking', 'letters', 'mids', 'oranges', 'upd8', '2stoptx', 'annie', 'remind', '08718738034', '21870000', 'mailbox', 'messaging', '09056242159', 'retrieve', 'va', 'hrishi', 'nothin', 'hanger', 'poem', 'cheer', 'tear', 'duchess', 'cornwall', '008704050406', 'arrow', 'bags', 'blanket', '08718726971', 'tddnewsletter', 'emc1', 'thedailydraw', 'dozens', 'prizeswith', 'significant', 'waqt', 'pehle', 'naseeb', 'zyada', 'kisi', 'ko', 'kuch', 'nahi', 'milta', 'zindgi', 'wo', 'jo', 'hum', 'sochte', 'jeetey', 'worse', 'stalking', 'dan', 'reminded', 'varaya', 'elaya', '09066368753', '97n7qp', 'anand', 'beach', 'expected', 'aww', 'jez', 'iscoming', 'todo', 'workand', 'whilltake', 'zogtorius', 'iåõve', 'staring', 'whether', 'financial', 'alian', 'or2optout', 'hv9d', 'posible', 'century', 'cm', 'frwd', 'unnecessarily', 'affectionate', 'sorts', 'restrictions', 'buddys', '80082', '08712402902', 'owned', 'possessive', 'clarification', 'spook', 'halloween', '08701417012150p', 'issue', 'weigh', 'fantasy', 'football', 'sky', 'gamestar', 'active', '250k', 'scoring', '88088', 'coimbatore', 'expired', 'monoc', 'monos', 'polyc', 'stream', '0871212025016', 'opinions', 'categories', 'measure', 'ethnicity', 'census', 'transcribing', 'propsd', 'gv', 'lv', 'lttrs', 'threw', 'thm', 'aproach', 'dt', 'truck', 'speeding', 'wn', 'instantly', 'thy', 'lived', 'happily', '2gthr', 'drinking', 'evrydy', 'paragon', 'arent', 'cakes', 'bluff', 'impossible', 'draws', 'goodmate', 'sary', 'asusual', 'cheered', 'franyxxxxx', 'batt', 'added', 'pussy', 'becausethey', '09058098002', 'pobox1', 'w14rg', 'responce', 'happend', 'piece', 'wiskey', 'brandy', 'rum', 'gin', 'vodka', 'scotch', 'shampain', 'kudi', 'yarasu', 'dhina', 'vaazhthukkal', 'gained', 'kg', 'sugar', 'pressure', 'limits', 'dumb', 'thangam', 'okey', 'doke', 'dressed', 'laying', 'kills', 'neshanth', 'byatch', 'whassup', 'kay', 'roger', 'cl', 'nasty', 'filthyguys', 'slo', '4msgs', 'wasted', 'chiong', 'christ', 'dialogue', 'reltnship', 'solve', 'murdered', 'police', 'questioned', 'cooking', 'gardener', 'vegetables', 'maid', 'neighbour', 'murderer', 'brilliant', 'pose', 'comb', 'dryer', 'fps', 'computational', 'science', 'push', 'answered', 'madam', 'disturbance', 'dlf', 'premarica', 'rgds', 'gotto', '220cm2', 'settle', 'err', '8pm', 'bloo', 'hitter', 'offline', 'anjola', 'asjesus', 'wrote', 'indians', 'swiss', 'directors', 'lac', 'crore', 'deposited', 'taxless', 'budget', 'jobs', 'lane', 'suply', 'projects', 'citizen', 'imf', 'blocked', 'politicians', 'rights', 'corrupt', 'itna', 'karo', 'ki', 'pura', 'padhe', 'torrents', 'particularly', 'slowing', 'commit', 'random', '83370', 'trivia', 'rightio', 'brum', 'donno', 'scorable', 'paranoid', 'brin', 'properly', 'sheet', 'complain', 'bettr', 'bsnl', 'offc', 'payed', 'suganya', 'dessert', 'abeg', 'sponsors', 'onum', 'poet', 'imagination', 'rr', 'famamus', '630', 'sry', 'furniture', 'lock', 'locks', 'key', 'jenne', 'easiest', 'barcelona', 'ru', 'sppok', '09066612661', 'complementary', 'wa14', '2px', 'pansy', 'jungle', 'kanji', 'srs', 'drizzling', 'appointments', 'shoving', 'papers', 'greetings', 'excused', 'drama', 'struggling', 'strange', 'ego', 'necessity', 'reppurcussions', 'released', 'cosign', 'hvae', '09061701444', 'acl03530150pm', 'hcl', 'requires', 'freshers', 'suman', 'telephonic', 'indyarocks', 'dai', 'resume', 'cars', 'bids', 'reliant', 'fwiw', 'afford', 'happens', 'whr', 'maga', 'sq825', 'arrival', 'yunny', 'citylink', 'er', 'props', 'pleasant', 'statements', '6230', '83383', 'pobox114', '14tcr', 'bognor', 'splendid', 'ktv', 'misplaced', 'computers', 'mmmmm', 'medicine', 'begun', 'registration', 'permanent', 'residency', 'plenty', 'relatives', 'deliver', 'risks', 'benefits', 'amount', 'predicting', 'accumulation', 'programs', 'belongs', 'fated', 'shoranur', 'incident', 'fuelled', 'concern', 'prior', 'grief', 'violence', 'environment', 'terrific', 'text82228', 'txt82228', 'honestly', 'promptly', 'burnt', 'advice', 'snap', 'quizclub', '80122300p', 'rwm', '08704050406', 'gmw', 'connected', 'someplace', 'goods', 'pressies', 'dr', 'superior', 'ultimately', 'tor', 'motive', 'tui', 'achieve', 'korli', 'dock', 'rolled', 'newscaster', 'dabbles', 'flute', 'behind', 'wheel', 'amazing', 'picsfree1', 'vid', 'keyword', 'ruin', 'erm', 'the4th', 'october', '83435', 'elaborating', 'safety', 'aspects', 'issues', 'tarot', '85555', 'department', 'ours', 'hr', 'conform', 'horniest', 'instructions', '3lp', 'flow', 'developed', 'ovarian', 'cysts', 'bc', 'shrink', 'upping', 'grams', 'timin', 'apes', 'death', 'ibm', 'hp', 'toshiba', 'gosh', 'spose', 'rimac', 'arestaurant', 'squid', 'dosomething', 'wrk', 'dabooks', 'hrs', 'eachother', 'luckily', 'starring', 'restocked', 'knock', 'tkls', 'stoptxtstopå', 'innocent', 'mental', 'smoothly', 'hoped', 'bills', 'challenging', '2marrow', 'hon', 'breakfast', 'hamper', 'cc100p', 'reality', 'above', '0870737910216yrs', 'unni', 'lacking', 'particular', 'dramastorm', 'forfeit', 'treated', 'digi', 'fab', 'coupla', 'wks', '077xxx', '09066362206', 'sundayish', 'prasad', 'tiwary', 'rcb', 'battle', 'bang', 'kochi', 'cancer', 'checkup', 'pap', 'smear', 'gobi', 'arts', 'pandy', '4w', 'technologies', 'olowoyey', 'usc', 'edu', 'argentina', 'secretary', 'taxt', 'massage', 'tie', 'pos', 'lool', 'dollar', 'pull', 'spending', 'shaking', 'booty', 'lil', 'scarcasim', 'naal', 'eruku', 'w4', '5wq', 'remains', 'bro', 'amongst', 'bros', 'impressively', 'sensible', '69696', 'response', 'nalla', 'obedient', 'ft', 'combination', 'needy', 'pouts', 'stomps', 'northampton', 'abj', 'serving', 'playng', 'mcfly', 'ab', 'sara', 'jorge', 'smith', 'anna', 'nagar', 'yupz', 'ericson', 'der', 'luks', 'modl', 'cheesy', 'frosty', 'witin', 'sports', 'fans', '0870141701216', '120p', '10th', 'sept', '09050000555', 'ba128nnfwfly150ppm', 'shirts', 'nudist', 'themed', 'pump', 'petrol', 'feb', 'ignore', 'evr', 'signal', 'neither', 'unusual', 'hugs', 'snogs', 'west', 'palm', 'printing', 'handing', 'uks', 'fastest', 'growing', '83021', 'chase', 'stated', 'tariffs', '2stoptxt', 'perpetual', 'dd', 'steam', 'reg', 'pract', 'flung', 'public', 'govt', 'instituitions', 'justbeen', 'overa', 'brains', 'mush', 'tunde', 'missions', 'luxury', 'canary', '20m12aq', 'eh74rr', 'sleepy', 'dare', 'ben', 'mag', 'avo', 'middle', 'crashed', 'cuddled', 'chachi', 'pl', 'tiz', 'kanagu', 'prices', 'ringing', 'houseful', 'brats', 'pulling', 'diwali', 'tick', 'onion', 'derp', 'abusers', 'lipo', 'netflix', 'thgt', 'clash', 'arr', 'oscar', 'rebtel', 'firefox', 'lower', '69969', 'bcmsfwc1n3xx', 'impressed', 'funs', 'footy', 'stadium', 'large', 'coca', 'cola', 'dark', 'teenager', 'exhaust', 'replacing', 'mittelschmertz', 'paracetamol', 'pee', 'arrived', 'cthen', 'enuff', 'conclusion', 'contents', 'references', 'success', 'ûªve', 'instant', '08715203028', '9th', 'rugby', 'affidavit', 'twiggs', 'division', 'courtroom', 'creep', 'showers', 'possessiveness', 'poured', 'lies', 'golden', 'lasting', 'mobs', 'breathe1', 'crazyin', 'sleepingwith', 'finest', 'ymca', 'pobox365o4w45wq', 'wtc', 'weiyi', 'property', 'interflora', 'åòit', 'flowers', '505060', 'teeth', 'paining', 'romcapspam', 'presence', 'outgoing', 'maggi', 'mee', '08712103738', 'cough', '09058099801', 'b4190604', '7876150ppm', 'bbd', 'pooja', 'pimples', 'sweatter', 'ambitious', 'miiiiiiissssssssss', 'tunji', 'iz', 'yellow', 'misscall', 'frndz', '6missed', 'frog', 'mad1', 'mad2', '88888', 'tall', 'doubt', 'handle', 'note', 'robs', 'avenge', 'japanese', 'proverb', 'strike', 'choices', 'toss', 'coin', 'gudni8', 'dancin', 'explicitly', 'nora', 'gayle', 'crucify', 'moved', 'butting', 'freedom', 'vs', 'cedar', 'twenty', 'durham', 'reserved', 'seat', 'porn', '69855', 'stopbcm', 'sf', 'painting', 'wall', 'printer', 'groovy', 'groovying', 'harish', 'transfred', 'acnt', 'nowadays', 'showrooms', 'shaping', 'attending', 'talks', 'probs', 'doinat', 'callon', 'swatch', 'ganesh', 'dress', 'pdate_now', 'yhl', 'collecting', 'configure', 'trips', 'ûªm', 'ûªt', 'anal', 'pears', 'helloooo', 'welcomes', 'celebrate', 'such', 'oooooh', '09058094454', '54', 'resubmit', 'expiry', 'weåõve', '2geva', 'mint', 'humans', 'studyn', 'wuld', 'everyboy', 'xxxxxxxx', 'solved', '1thing', 'answr', 'liquor', 'flaked', 'loko', '730', 'lined', 'tm', 'ing', 'laughs', 'fireplace', 'icon', '08712400200', 'fifth', 'woozles', 'weasels', '08718723815', 'gary', 'machines', 'fucks', 'sake', 'ignorant', 'mys', 'bruce', 'downs', 'fletcher', '08714714011', 'teaching', 'bowls', 'cozy', 'buzzzz', 'chest', 'vibrator', 'shake', 'covers', 'trends', 'pros', 'cons', 'brief', 'description', 'nuclear', 'fusion', 'history', 'iter', 'jet', 'nowhere', 'ikno', 'doesdiscount', 'shitinnit', 'jabo', 'abi', 'slower', 'maniac', 'sapna', 'manege', 'hogidhe', 'chinnu', 'swalpa', 'agidhane', 'footbl', 'crckt', 'swell', 'tim', 'bollox', 'tol', 'hang', 'ingredients', 'pocy', 'bell', 'non', '4qf2', 'senor', 'giggle', 'possibly', 'person2die', 'nvq', 'professional', 'tiger', 'woods', 'reboot', 'grinder', 'pt2', 'buyers', 'figuring', 'entirely', 'understood', 'bottom', 'phoned', 'disconnected', 'onluy', 'matters', 'offcampus', 'improved', 'riley', 'ew', 'wesley', 'lingo', '400mins', 'j5q', 'hm', '69200', 'chrgd', '2exit', 'salon', 'approaching', 'sankranti', 'republic', 'shivratri', 'ugadi', 'fools', 'independence', 'teachers', 'childrens', 'festival', 'dasara', 'mornings', 'afternoons', 'evenings', 'rememberi', 'raj', 'joys', 'lifeis', 'daywith', 'somewheresomeone', 'tosend', 'greeting', 'selflessness', 'initiate', 'tallent', 'wasting', 'payment', 'portal', 't4get2text', 'lennon', 'bothering', 'crab', 'shore', 'waves', 'footprints', 'clearing', 'fox', 'frndsship', 'dwn', 'slaaaaave', 'summon', '33', 'changes', 'appendix', 'range', 'slob', 'smiled', 'topic', 'webpage', 'yeesh', 'unsubscribed', 'hunks', 'gotbabes', 'subscriptions', 'gopalettan', 'participate', 'admin', 'abroad', 'xxsp', 'visionsms', 'stopcost', '08712400603', 'agent', 'goodies', 'mat', 'ay', 'andros', 'steal', 'isaiah', 'meets', 'foot', 'penis', 'expert', 'sigh', 'thinl', 'importantly', 'tightly', 'wnevr', 'fal', 'vth', 'books', 'fals', 'yen', 'madodu', 'nav', 'pretsorginta', 'nammanna', 'pretsovru', 'alwa', 'eveb', 'window', 'lord', 'rings', 'soundtrack', 'stdtxtrate', 'sg', 'phyhcmk', 'pc1323', 'emigrated', 'hopeful', 'olol', 'stagwood', 'winterstone', 'victors', 'hill', 'jp', 'mofo', 'pathaya', 'enketa', 'maraikara', 'priest', 'reserves', 'intrude', 'walkabout', 'cashed', 'announced', 'blog', '28th', 'removal', '08708034412', 'footie', 'blow', 'phil', 'neville', 'abbey', 'returning', 'knowing', 'punj', 'str8', 'classic', '200p', 'thurs', 'cancelled', 'sacked', 'lookatme', 'clip', '35p', 'mmsto', '32323', 'barred', 'twat', 'dungerees', 'decking', 'punch', 'mentionned', 'vat', 'planned', 'grl', 'hogolo', 'kodstini', 'agalla', 'madstini', 'hogli', 'mutai', 'eerulli', 'kodthini', 'thasa', 'messed', 'tex', 'mecause', 'werebored', 'okden', 'uin', 'soundåõs', 'likeyour', 'gr8fun', 'updat', 'countinlots', 'xxxxx', 'tagged', 'count', 'challenge', 'hdd', 'casing', 'opened', 'describe', '09053750005', '310303', '08718725756', '140ppm', 'asus', 'randomly', 'reformat', 'otside', 'plumbers', 'tape', 'wrench', 'bcum', 'films', 'appeal', 'thriller', 'director', 'size', 'elephant', 'shove', 'um', 'cr', 'pookie', 'wouldn', 'nri', '08712101358', 'x2', 'itåõs', 'deserve', 'tight', 'lick', 'diddy', 'neighbor', 'toothpaste', 'av', 'poking', 'everyday', 'curious', 'coccooning', 'auto', 'mus', 'newquay', 'postcard', '1im', 'talkin', 'bread', 'windy', '09066358361', 'y87', 'mahal', 'tirunelvai', 'dusk', 'puzzles', 'x29', '09065989180', 'stairs', 'phews', 'relation', 'luvs', 'praying', 'recycling', 'earning', 'toledo', 'ding', 'tai', 'feng', 'reservations', 'swimsuit', 'allowed', 'necessary', 'squeeeeeze', 'hug', 'lik', 'frndshp', 'luvd', 'asks', 'volcanoes', 'erupt', 'arise', 'hurricanes', 'sway', 'aroundn', 'disasters', 'lighters', 'lasagna', 'chickened', 'messaged', 'woould', '08718726978', 'deus', '44', '7732584351', '3510i', 'deliveredtomorrow', '300', 'tap', 'spile', 'broad', 'canal', 'engin', 'edge', 'raviyog', 'peripherals', 'bhayandar', 'east', 'sunoco', 'howard', 'musical', 'plate', 'leftovers', 'starving', 'cooked', 'cheat', 'fatty', 'badrith', 'owe', 'checkin', 'block', 'armenia', 'swann', '09058097189', '09061221066', 'fromm', '330', '1120', '1205', 'smoking', 'wylie', 'justify', 'ruining', 'meds', 'hunt', 'in2', '5226', 'hava', '1131', 'rct', 'thnq', 'adrian', 'vatian', 'everyones', 'babysitting', 'gonnamissu', 'buttheres', 'aboutas', 'merememberin', 'asthere', 'ofsi', 'breakin', 'yaxx', 'ee', 'poortiyagi', 'odalebeku', 'hanumanji', 'hanuman', 'bajarangabali', 'maruti', 'pavanaputra', 'sankatmochan', 'ramaduth', 'mahaveer', 'janarige', 'ivatte', 'kalisidare', 'olage', 'ondu', 'keluviri', 'maretare', 'inde', 'dodda', 'problum', 'nalli', 'siguviri', 'idu', 'matra', 'neglet', 'easily', 'ijust', 'talked', 'opps', 'gei', 'tron', 'dl', 'selfish', 'spiffing', 'workage', 'craving', 'supose', 'babysit', 'spaces', 'embassy', 'lightly', 'custom', 'checkboxes', 'sac', 'batsman', 'yetty', 'jiayin', '09050000928', 'pobox45w2tg150p', 'forgotten', 'reverse', 'cheating', 'mathematics', '2waxsto', 'basic', 'emailed', 'yifeng', 'slurp', 'minimum', '3miles', 'brainless', 'doll', 'vehicle', 'sariyag', 'madoke', 'barolla', '07090201529', 'postponed', 'stocked', 'elaine', 'tiime', 'tears', 'afternon', 'interviews', 'resizing', '09066364349', 'box434sk38wp150ppm18', 'opposed', 'drunken', 'billed', 'shortcode', '83332', '08081263000', 'refunded', 'somerset', 'overtime', 'nigpun', 'dismissial', 'screwd', '08712402972', 'bull', 'floating', 'mess', '09058095201', 'heehee', 'arithmetic', 'percentages', 'chillaxin', 'das', 'iknow', 'wellda', 'peril', 'studentfinancial', 'crisis', 'monster', '____', 'ths', 'ias', 'obey', 'uhhhhrmm', 'mb', '600', '400', 'deltomorrow', '09066368470', '24m', 'smartcall', '68866', 'subscriptn3gbp', '08448714184', 'landlineonly', 'mths', 'callback', 'orno', 'fink', '09099726553', 'promised', 'carlie', 'minmobsmore', 'lkpobox177hp51fl', 'youphone', 'athome', 'youwanna', 'jack', 'helpful', 'pretend', 'hypotheticalhuagauahahuagahyuhagga', 'brainy', 'occasion', 'celebrated', 'reflection', 'values', 'desires', 'affections', 'traditions', 'cantdo', 'anythingtomorrow', 'myparents', 'aretaking', 'outfor', 'katexxx', 'level', 'gate', '89105', 'wedding', 'lingerie', 'bridal', 'petticoatdreams', 'weddingfriend', 'board', 'overheating', 'reslove', 'inst', 'western', 'outta', 'notixiquating', 'laxinorficated', 'bambling', 'entropication', 'oblisingately', 'opted', 'masteriastering', 'amplikater', 'fidalfication', 'champlaxigating', 'atrocious', 'wotz', 'junna', 'knickers', '01223585236', 'nikiyu4', 'accident', 'a30', 'divert', 'wadebridge', 'vill', '1030', 'orc', 'bloomberg', '447797706009', 'careers', 'seeking', 'priscilla', 'wisdom', 'inform', 'wherre', 'phone750', 'resolution', 'frank', 'logoff', 'parkin', 'kent', 'vale', 'cann', 'asa', '09050000878', 'wan2', 'westlife', 'm8', 'unbreakable', 'untamed', 'unkempt', '83049', 'prince', 'charming', 'mention', 'served', 'arnt', 'xxxxxxxxxxxxxx', 'dorothy', 'kiefer', 'granite', 'explosive', 'nasdaq', 'symbol', 'cdgt', 'alle', 'mone', 'eppolum', 'allalo', 'fundamentals', '1mega', 'pixels', '3optical', '5digital', 'dooms', 'noiåõm', 'js', 'burgundy', 'captaining', 'base', 'placement', 'amrita', 'profile', 'bpo', 'nighters', 'persevered', 'regretted', 'wasnåõt', 'spouse', 'pmt', 'sumthin', '4give', 'shldxxxx', 'scenario', 'spun', 'wrld', '09071517866', '150ppmpobox10183bhamb64xe', 'pounded', 'lion', 'devouring', 'airtel', 'broadband', 'processed', 'installation', 'tensed', 'coughing', 'warned', 'sprint', 'prolly', 'gower', 'åômorrow', 'åð', 'chik', 'filth', '69669', 'saristar', 'e14', '9yt', '08701752560', '450p', 'stop2', '420', '9061100010', 'wire3', '1st4terms', 'mobcudb', 'sabarish', 'jaya', '09050000460', 'j89', 'box245c2150pm', 'inpersonation', 'flea', 'forums', 'banneduk', 'highest', 'maximum', '71', 'taj', 'lesser', 'known', 'facts', 'mumtaz', 'shahjahan', 'wifes', 'arises', 'hari', '69101', 'rtf', 'sphosting', 'webadres', 'geting', 'incredible', 'o2fwd', '18p', 'ship', 'maturity', 'confirmed', 'passport', 'multiply', 'independently', 'showed', 'twins', 'strt', 'ltdhelpdesk', '02085076972', 'equally', 'uneventful', 'pesky', 'cyclists', 'adi', 'entey', 'nattil', 'kittum', 'kavalan', 'hire', 'hitman', '09066660100', '2309', 'cps', 'causing', 'outages', 'conserve', 'voted', 'epi', 'bare', 'bhaskar', 'dubsack', 'gong', 'kaypoh', 'basketball', 'outdoors', 'macho', 'interfued', 'blank', 'listed', 'apology', 'hustle', 'forth', 'audition', 'harlem', 'workout', 'fats', 'zac', 'tonights', 'hui', 'xin', 'lib', 'difference', 'versus', 'underdtand', 'muchxxlove', 'locaxx', '07090298926', '9307622', 'skateboarding', 'despite', 'thrown', 'winds', 'bandages', 'html', 'gbp4', 'mfl', 'hectic', 'fell', 'swoop', 'wamma', 'doggin', 'dogs', 'langport', 'virtual', 'senthil', 'apnt', 'pants', 'go2sri', 'lanka', 'merely', 'relationship', 'wherevr', 'forevr', 'gudnyt', 'mistakes', 'plum', 'smacks', '50s', 'alot', 'formatting', 'attracts', 'promotion', '8714714', 'vegas', 'lou', 'lancaster', 'neway', 'couldnåõt', 'båõday', 'soc', 'bsn', 'advising', 'lobby', 'texted', 'showered', 'ything', 'vewy', 'lubly', '087147123779am', 'catches', 'specify', 'domain', 'nusstu', 'bari', 'hudgi', 'yorge', 'pataistha', 'ertini', 'hasbro', 'jump', 'hoops', 'ummifying', 'associate', 'rip', 'uterus', 'pool', 'jacuzzi', 'x49', '09065989182', 'txtstar', '2nights', 'uve', 'wildest', 'aldrine', 'rtm', 'sources', 'unhappiness', 'necesity', 'witout', 'colleg', 'wth', 'functions', 'events', 'espe', 'irritated', '4wrd', 'wthout', 'takecare', 'univ', 'rajas', 'burrito', 'disconnect', 'terrorist', 'confirmd', 'verified', 'cnn', 'ibn', 'stitch', 'trouser', '146tf150p', 'cheetos', 'synced', 'shangela', 'hppnss', 'sorrow', 'goodfriend', 'passes', '08704439680', 'poo', 'gloucesterroad', 'uup', 'ouch', 'stayed', 'forgiveness', 'glo', '09058095107', 's3xy', 'wlcome', 'eaten', 'timi', 'mila', 'age23', 'blonde', 'mtalk', '69866', '30pp', '5free', 'increments', 'help08718728876', 'fishrman', 'sack', 'stones', 'strtd', 'throwin', 'atlast', '1stone', '08717895698', 'mobstorequiz10ppm', 'physics', 'praveesh', 'delicious', 'salad', 'desert', 'beers', 'whore', 'funk', 'tones2u', 'twinks', 'scallies', 'skins', 'jocks', '08712466669', 'nat', 'flood', 'beads', 'wishlist', 'section', 'nitro', 'comfort', 'sold', 'creative', 'reffering', 'getiing', 'weirdy', 'brownies', '09061701851', 'k61', '12hours', 'restrict', 'funeral', 'vivek', '74355', 'tnc', 'brah', 'possession', 'greece', 'protect', 'sib', 'sensitive', 'passwords', 'recorded', 'someday', 'grandfather', 'blu', 'concert', 'november', '09061104276', '75max', 'yuou', 'spot', 'ipad', 'bunch', 'lotto', 'bird', 'purchases', 'authorise', '45pm', 'gimmi', 'goss', 'ystrday', 'chile', 'subletting', 'ammae', 'steering', 'sleeps', 'rounder', 'required', 'lambu', 'ji', 'batchlor', 'zoom', '62220cncl', 'stopcs', '08717890890å', 'cheese', 'åòharry', 'tms', 'widelive', 'index', 'wml', '1b6a5ecef91ff9', '37819', 'true18', '0430', 'jul', 'xafter', 'cst', 'chg', 'pure', 'hearted', 'enemies', 'smiley', 'gail', 'l8tr', 'yaxxx', 'theoretically', 'hooked', 'formally', 'multimedia', 'hsbc', 'vague', 'accounting', 'delayed', 'housing', 'agency', 'renting', 'presents', 'nicky', 'gumby', 'alto18', 'wave', 'asp', '44345', 'sized', 'tarpon', 'springs', 'cab', 'steps', 'limited', 'hf8', '09061702893', '08719181259', '26', 'radiator', 'proper', 'tongued', 'shorts', 'qi', 'suddenly', 'flurries', 'melt', 'eek', 'born', 'real1', 'pushbutton', 'dontcha', 'babygoodbye', 'golddigger', 'webeburnin', 'perform', 'cards', 'rebooting', 'nigh', 'nooooooo', 'cable', 'outage', 'sos', 'playin', 'guoyang', 'rahul', 'dengra', 'antelope', 'toplay', 'fieldof', 'selfindependence', 'contention', 'gnarls', 'barkleys', 'borderline', '545', 'nightnight', 'possibility', 'grooved', 'affairs', 'mising', 'secured', 'unsecured', '195', '6669', 'lanre', 'fakeye', 'eckankar', '3000', '09061743386', 'heater', 'degrees', 'dodgey', '674', 'seing', 'asssssholeeee', 'ceri', 'rebel', 'dreamz', 'buddy', 'blokes', '84484', 'nationwide', 'newport', 'juliana', 'nachos', 'eta', 'dizzamn', 'suitemates', 'nimbomsons', 'continent', 'housewives', '0871750', '77', 'landlines', '087104711148', 'emerging', 'fiend', 'impede', 'hesitant', '60', '400thousad', 'nose', 'essay', 'tram', 'vic', 'coherently', 'triple', 'echo', 'gran', 'onlyfound', 'afew', 'cusoon', 'honi', 'dial', 'bx526', 'university', 'southern', 'california', 'rayan', 'macleran', 'balls', 'olave', 'mandara', 'trishul', 'woo', 'hoo', 'panties', 'thout', '09066364311', 'flatter', 'pints', 'carlin', 'literally', 'ciao', 'starve', 'impression', 'motivate', 'darkness', 'wknd', 'yalrigu', 'heltini', 'iyo', 'kothi', 'shared', 'uttered', 'trusting', 'noice', 'esaplanade', 'accessible', '08709501522', '139', 'la3', '2wu', 'occurs', 'prof', 'sem', 'student', 'enna', 'kalaachutaarama', 'coco', 'sporadically', '09064017305', 'pobox75ldns7', 'tbs', 'persolvo', 'forå', '38', 'kath', 'manchester', 'youåõre', 'burden', 'noworriesloans', '08717111821', 'actual', 'harder', 'nbme', 'sickness', 'villa', 'sathya', 'gam', 'smash', 'religiously', 'heroes', 'tips', '07973788240', '08715203649', 'dealing', 'muhommad', 'penny', 'doc', 'fiting', 'load', 'mj', 'unconvinced', 'elaborate', 'willpower', 'value', 'absence', 'answerin', 'reasonable', 'åè10', 'evey', 'mnth', 'prin', 'û_thanks', 'gsoh', 'spam', 'gigolo', 'mens', 'oncall', 'mjzgroup', '08714342399', '50rcvd', 'ashwini', '08707500020', 'ukp', '09061790125', 'thet', 'skinny', 'casting', 'elections', '116', 'hlday', 'camp', 'amrca', 'serena', 'prescribed', 'kappa', 'meatballs', 'approve', 'panalam', 'spjanuary', 'fortune', 'allday', 'piss', 'perf', 'outsider', 'receipts', 'ell', '98321561', 'familiar', 'depression', 'infact', 'simpsons', 'band', 'canåõt', 'isnåõt', 'shite', 'kip', 'hont', 'amanda', 'regard', 'renewing', 'upgrading', 'subject', 'nannys', 'puts', 'perspective', 'conveying', 'debating', 'wtlp', 'guessing', 'jb', 'florida', 'hidden', 'royal', 'tog', 'teams', 'swhrt', '0906346330', '47', 'po19', '2ez', 'general', 'jetton', 'cmon', 'sticky', 'replies', 'lunsford', 'enjoying', '0796xxxxxx', 'prizeawaiting', 'kfc', 'meals', 'gravy', '07008009200', 'attended', 'mw', 'tuth', 'eviction', 'spiral', 'michael', 'riddance', 'suffers', 'raglan', 'edward', 'cricket', 'closeby', 'skye', 'bookedthe', 'hut', 'drastic', 'indicate', '3750', 'garments', 'sez', 'arab', 'evry1', 'eshxxxxxxxxxxx', 'lay', 'bimbo', 'ugo', '3lions', 'portege', 'm100', 'semiobscure', 'gprs', 'repeat', 'loosu', 'careless', 'freaking', 'myspace', 'logged', 'method', 'calculation', 'blur', 'clothes', 'jewelry', 'breaker', 'deluxe', 'features', 'graphics', 'bbdeluxe', 'lush', 'fumbling', '2find', 'stone', 'taunton', 'weekdays', 'haiz', 'nails', 'common', 'asia', 'greatest', 'courage', 'bear', 'defeat', 'stil', 'fucked', 'tobed', '430', 'beauty', 'natalja', '440', 'nat27081980', 'asthma', 'attack', 'ball', 'moving', 'spin', 'haiyoh', 'million', 'prsn', 'saves', 'sunlight', 'loss', 'audiitions', 'relocate', 'pocked', 'motivating', 'brison', 'spelled', 'caps', 'bullshit', 'motherfucker', 'kit', 'strip', '1013', 'ig11', 'oja', '08712402578', 'thesmszone', 'anonymous', 'masked', 'abuse', 'woodland', 'avenue', 'parish', 'magazine', 'billy', 'jogging', 'awww', 'useless', 'loo', 'ed', 'shelf', 'swollen', 'glands', 'previous', 'captain', 'bcaz', 'stu', 'truble', 'evone', 'hates', 'mokka', 'view', 'gays', 'dual', 'hostile', 'haircut', 'breezy', '09061744553', 'polyh', '1apple', '1tulsi', 'leaf', '1lemon', '1cup', 'bone', 'problms', 'litres', 'watr', 'diseases', 'snd', 'lavender', 'manky', 'scouse', 'steve', 'travelling', 'inmind', 'recreation', 'epsilon', 'mesages', 'judgemental', 'fridays', 'waheeda', 'bot', 'notes', 'eventually', 'tolerance', 'hits', '0789xxxxxxx', 'hellogorgeous', 'lst', 'nitw', 'texd', 'hopeu', '4ward', 'jaz', '09058091870', 'exorcism', 'emily', 'evry', 'emotion', 'dsn', 'prayrs', 'othrwise', 'ujhhhhhhh', 'sandiago', 'parantella', 'hugging', 'sweater', 'mango', 'massive', 'involved', 'landmark', 'bob', 'barry', '83738', 'absolutly', 'consent', 'forms', 'tonexs', 'renewed', 'clubzed', 'billing', 'polo', '373', 'w1j', '6hl', 'mathews', 'tait', 'edwards', 'anderson', 'haunt', 'promoting', 'crowd', '8000930705', 'snowboarding', 'christmassy', 'recpt', 'baaaaaaaabe', 'ignoring', 'shola', 'academic', 'sagamu', 'lautech', 'vital', 'completes', 'education', 'zealand', 'qet', 'browser', 'surf', 'subscribers', 'convinced', 'conversations', 'senses', 'overemphasise', 'headset', 'adp', 'internal', 'extract', 'immed', 'skint', 'fancied', 'bevies', 'waz', 'othrs', 'spoon', 'watchng', 'comfey', 'quitting', 'least5times', 'wudn', 'coast', 'frequently', 'cupboard', 'route', '2mro', 'floppy', 'snappy', 'risk', 'grasp', 'flavour', 'laready', 'denying', 'dom', 'ffffuuuuuuu', 'julianaland', 'oblivious', 'dehydrated', 'mapquest', 'dogwood', 'suppose', 'archive', '08719839835', 'mgs', '89123', 'lengths', 'behalf', 'stunning', 'visa', 'gucci', 'sozi', 'culdnt', 'talkbut', 'wannatell', 'wenwecan', 'smsing', 'efficient', 'explicit', 'secs', '02073162414', '15pm', 'erutupalam', 'thandiyachu', 'invention', 'lyrics', 'nevr', 'unrecognized', 'somone', 'valuing', 'definitly', 'undrstnd', 'ger', 'toking', 'syd', 'khelate', 'kintu', 'opponenter', 'dhorte', 'lage', 'fried', 'spares', 'looovvve', 'warwick', 'tmw', 'canceled', 'havn', 'tops', 'grandma', 'parade', 'proze', 'norcorp', 'posting', '7cfca1a', 'grumble', 'linear', 'algebra', 'decorating', 'wining', '946', 'roomate', 'graduated', 'adjustable', 'cooperative', 'allows', 'nottingham', '63miles', '40mph', 'clearly', 'mornin', 'thanku', 'guessed', '89938', 'strings', '50ea', 'otbox', '731', 'la1', '7ws', 'gain', 'beside', 'brisk', 'walks', 'sexiest', 'dirtiest', '89070', 'tellmiss', 'contribute', 'greatly', 'urgh', 'coach', 'smells', 'duvet', 'predictive', 'w8in', '4utxt', '24th', 'beverage', 'pist', 'surrender', 'symptoms', 'rdy', 'realise', 'backwards', 'abstract', 'africa', 'avin', 'chit', 'logon', '8883', '4217', 'w1a', '6zf', '118p', 'quiteamuzing', 'thatåõscool', '1000call', '09071512432', '300603t', 'callcost150ppmmobilesvary', 'rows', 'mnths', 'engagement', 'fixd', 'njan', 'vilikkam', 'sudn', 'maths', 'chapter', 'chop', 'noooooooo', '08718727870150ppm', 'firsg', 'split', 'wasnt', 'heat', 'applyed', 'sumfing', '86888', 'subscribe6gbp', '3hrs', 'txtstop', 'hiphop', 'managed', 'oxygen', 'resort', 'roller', 'recorder', 'canname', 'capital', 'australia', 'mquiz', 'showr', 'acted', 'upon', 'ceiling', 'presnts', 'bcz', 'mis', 'jeevithathile', 'irulinae', 'neekunna', 'prakasamanu', 'sneham', 'prakasam', 'ennal', 'mns', 'blowing', '7634', '7684', 'firmware', 'vijaykanth', 'anythiing', 'ripped', 'clubmoby', '08717509990', 'keypad', 'btwn', 'decades', 'goverment', 'expects', 'loyal', 'customers', '09066380611', 'spice', 'prasanth', 'ettans', '08718738002', '48922', 'appy', 'fizz', 'contains', 'genus', 'robinson', 'print', 'outs', 'soz', 'imat', 'mums', 'sometext', '07099833605', '9280114', 'chloe', 'wewa', '130', 'iriver', '255', '128', 'bw', 'surly', '07808726822', '9758', 'dokey', 'mmmmmmm', 'snuggles', 'contented', 'whispers', 'error', 'healthy', '2bold', 'scraped', 'barrel', 'misfits', 'sleepin', 'sections', 'clearer', 'peach', 'tasts', 'rayman', 'golf', 'activ8', 'termsapply', 'minor', 'shindig', 'phonebook', 'rocking', 'ashes', 'shijutta', 'offense', 'dvg', 'vinobanagar', 'ovulate', '3wks', 'woah', 'realising', 'orh', 'hides', 'secrets', 'n8', 'axel', 'akon', 'eyed', 'cashbin', 'canteen', 'stressfull', 'adds', 'continued', 'president', '140', 'ìä', '180', 'pleasured', 'providing', 'assistance', 'whens', '1172', 'watever', 'built', 'lonlines', 'lotz', 'memories', 'gailxx', 'complacent', 'denis', 'mina', 'miwa', 'woulda', '09066649731from', 'opposite', 'heavily', 'dolls', 'patrick', 'swayze', 'santa', '09077818151', 'calls1', '50ppm', '30s', 'santacalling', 'miserable', 'quarter', 'fired', 'limping', 'aa', '078498', '08719180219', 'oga', 'poorly', 'punishment', 'brb', 'kill', 'predicte', 'situations', 'loosing', 'smaller', 'capacity', 'videos', 'shsex', 'netun', 'fgkslpopw', 'fgkslpo', '0871277810710p', 'defer', 'admission', 'checkmate', 'chess', 'persian', 'phrase', 'shah', 'maat', 'rats', 'themes', 'photoshop', 'manageable', '08715203652', '42810', 'shoppin', 'increase', 'north', 'carolina', 'texas', 'gre', 'bomb', 'breathing', 'powerful', 'weapon', 'lovly', 'msgrcvd', 'customercare', '08718726270', 'clas', 'lit', 'loooooool', 'couch', 'celebration', 'rents', 'swashbuckling', 'terror', 'cruel', 'decent', 'joker', 'dip', 'gek1510', 'nuther', 'lyricalladie', '910', 'hmmross', 'happiest', 'characters', 'differences', 'lists', 'antibiotic', 'abdomen', 'gynae', 'infections', '6times', 'exposed', 'chastity', 'device', 'beatings', 'uses', 'gut', 'wrenching', 'tallahassee', 'ou', 'taka', 'pobox202', 'nr31', '7zs', '450pw', 'ritten', 'fold', 'warner', '83118', 'colin', 'farrell', 'swat', 'kiosk', 'mre', 'solihull', 'nhs', '2b', 'terminated', 'inconvenience', 'dentists', 'henry', 'yards', 'bergkamp', 'margin', '78', 'parent', 'snot', 'unintentional', 'nonetheless', 'hooch', 'toaday', 'splat', 'grazed', 'knees', 'deny', 'hearin', 'yah', 'torture', 'hopeing', 'sisters', 'sexychat', 'lips', 'congratulation', 'court', 'chapel', 'frontierville', 'mountain', 'deer', 'mailed', 'varma', 'secure', 'parties', 'farting', 'ortxt', 'select', 'trained', 'advisors', 'dialling', '402', 'woot', 'stuffing', 'ahhhh', 'dining', 'experiencehttp', 'vouch4me', 'etlp', 'kaila', '09058094507', 'donate', 'unicef', 'asian', 'tsunami', 'disaster', 'fund', '864233', 'cme', 'hos', 'parking', 'collapsed', 'cumming', 'jade', 'paul', 'barmed', 'thinkthis', 'dangerous', 'goldviking', '762', 'rushing', 'coulda', 'phony', 'okday', 'hmph', 'baller', 'punto', 'ayo', 'travelled', '125', 'freeentry', 'xt', 'toyota', 'camry', 'olayiwola', 'mileage', 'landing', 'clover', 'achan', 'amma', 'rencontre', 'mountains', '08714712412', 'nìâte', 'puppy', 'noise', 'sarasota', 'meg', '08715203685', '4xx26', '13', 'crossing', 'deepest', 'darkest', '09094646631', 'inconvenient', 'adsense', 'approved', 'dudette', 'perumbavoor', 'stage', 'cherish', 'clarify', 'preponed', 'natalie', '165', 'natalie2k9', 'younger', 'wallpaper', '08701213186', 'liver', 'opener', 'guides', 'watched', 'loneliness', 'skyving', 'onwords', 'mtnl', 'mumbai', '83039', '62735', '450', 'accommodationvouchers', 'mustprovide', '15541', 'rajitha', 'ranju', 'styles', 'tscs08714740323', '1winawk', '50perweeksub', 'slp', 'muah', '09066361921', 'disagreeable', 'afterwards', 'uawake', 'feellikw', 'justfound', 'aletter', 'thatmum', 'gotmarried', '4thnov', 'ourbacks', 'fuckinnice', 'rearrange', 'dormitory', 'astronomer', 'starer', 'election', 'recount', 'hitler', 'eleven', 'worms', 'suffering', 'dysentry', 'andre', 'virgil', 'gokila', 'shanil', 'exchanged', 'uncut', 'diamond', 'dino', 'kotees', 'panther', 'sugababes', 'zebra', 'animation', 'badass', 'hoody', 'resent', 'queries', 'customersqueries', 'netvision', 'hassling', 'andres', 'haughaighgtujhyguj', 'fassyole', 'blacko', 'londn', '4eva', 'responsibilities', '08715205273', 'vco', 'humanities', 'reassurance', 'aslamalaikkum', 'tohar', 'beeen', 'muht', 'albi', 'mufti', 'mahfuuz', '078', 'enufcredeit', 'tocall', 'ileave', 'treats', 'okors', 'ibored', 'adding', 'zeros', 'savings', 'goigng', 'perfume', 'sday', 'grocers', 'pubs', 'frankie', 'bennys', 'changing', 'diapers', 'owed', 'unlike', 'patients', 'turkeys', 'helens', 'princes', 'unintentionally', 'garden', 'bulbs', 'seeds', 'scotsman', 'go2', 'notxt', 'wenever', 'stability', 'tranquility', 'vibrant', 'colourful', 'bawling', 'failure', 'failing', 'velusamy', 'facilities', 'karnan', 'bluray', 'salt', 'wounds', 'logging', 'geoenvironmental', 'implications', 'fuuuuck', 'salmon', 'uploaded', 'wrkin', 'ree', 'compensation', 'awkward', 'splash', 'leg', 'musta', 'overdid', 'telediscount', 'gastroenteritis', 'replace', 'reduce', 'limiting', 'illness', 'foned', 'chuck', 'port', 'step', 'stuffs', 'juswoke', 'boatin', 'docks', 'spinout', '08715203656', '42049', 'uworld', 'qbank', 'assessment', 'someonone', '09064015307', 'tke', 'temales', 'finishd', '09061213237', '177', 'm227xy', 'dull', 'studies', 'anyones', 'treadmill', 'craigslist', 'absolutely', 'swan', 'lamp', 'foward', '09061790126', 'misundrstud', '2u2', 'genes', 'com1win150ppmx3age16subscription', 'resuming', 'reapply', 'treatin', 'treacle', 'mumhas', 'beendropping', 'theplace', 'adress', 'favorite', 'oyster', 'sashimi', 'rumbling', 'marandratha', 'correctly', 'alaikkum', 'pride', 'respectful', 'heaven', 'pisces', 'aquarius', '2yrs', 'steyn', 'wicket', 'sterm', 'resolved', 'jam', 'hannaford', 'wheat', 'chex', 'grownup', 'costume', 'jerk', 'stink', 'follows', 'subsequent', 'openings', 'upcharge', 'guai', 'bottle', 'amused', 'astrology', 'slacking', 'mentor', 'percent', '09095350301', 'erotic', 'ecstacy', 'dept', '08717507382', 'coincidence', 'sane', 'helping', 'leading', '151', 'pause', 'gr8prizes', '8800', 'psp', 'spacebucks', '083', '6089', 'squeezed', 'maintaining', 'dreading', 'thou', 'suggestion', 'lands', 'helps', 'forgt', 'ajith', 'ooooooh', 'yoville', 'mega', 'asda', 'counts', 'officer', 'bffs', 'carly', 'seperated', 'ud', 'brolly', 'franxx', 'prometazine', 'syrup', '5mls', 'feed', 'shu', 'singapore', 'victoria', 'island', 'pocay', 'wocay', '2morrowxxxx', 'broth', 'ramen', 'fowler', 'tats', 'flew', '09058094583', 'attention', 'tix', 'fne', 'youdoing', 'worc', 'foregate', 'shrub', 'get4an18th', '32000', 'legitimat', 'efreefone', 'pendent', 'toilet', 'stolen', 'cops', 'hu', 'navigate', 'choosing', 'require', 'guidance', 'chick', 'boobs', 'revealing', 'sparkling', 'breaks', '45', '0121', '2025050', 'shortbreaks', 'org', 'gyno', 'belong', 'gamb', 'treasure', '820554ad0a1705572711', 'trueåác', 'ringtoneåá', '09050000332', 'positive', 'negative', 'hmmmm', 'command', 'stressful', 'holby', '09064017295', 'li', 'lecturer', 'repeating', 'yeovil', 'motor', 'max', 'rhode', 'bong', 'ofcourse', '2p', '08448350055', 'planettalkinstant', 'marvel', 'ultimate', 'spider', '83338', '8ball', 'tamilnadu', 'tip', '07808247860', '08719899229', '40411', 'identification', 'limit', 'boundaries', 'endless', 'reassuring', 'young', 'referin', 'saibaba', 'colany', 'chic', 'declare', '49557', 'disappointment', 'irritation', 'tantrum', 'compliments', 'adventuring', 'chief', 'gsex', '2667', 'wc1n', '3xx', '3mobile', 'chatlines', 'inclu', 'servs', 'l8er', 'bailiff', 'mouse', 'desk', 'childporn', 'jumpers', 'hat', 'belt', 'cribbs', 'spiritual', 'barring', 'sudden', 'influx', 'kane', 'shud', 'pshew', 'units', 'accent', '4years', 'dental', 'nmde', 'dump', 'heap', 'lowes', 'salesman', '087187272008', 'now1', 'pity', 'suggestions', 'bitching'])"
      ]
     },
     "execution_count": 14,
     "metadata": {},
     "output_type": "execute_result"
    }
   ],
   "source": [
    "cv.keys()"
   ]
  },
  {
   "cell_type": "markdown",
   "metadata": {},
   "source": [
    "#### 각각의 문서들을 숫자 벡터로 변환합니다."
   ]
  },
  {
   "cell_type": "code",
   "execution_count": 15,
   "metadata": {},
   "outputs": [
    {
     "data": {
      "text/plain": [
       "array([[0, 0, 0, ..., 0, 0, 0],\n",
       "       [0, 0, 0, ..., 0, 0, 0],\n",
       "       [0, 0, 0, ..., 0, 0, 0],\n",
       "       ...,\n",
       "       [0, 0, 0, ..., 0, 0, 0],\n",
       "       [0, 0, 0, ..., 0, 0, 0],\n",
       "       [0, 0, 0, ..., 0, 0, 0]], dtype=int64)"
      ]
     },
     "execution_count": 15,
     "metadata": {},
     "output_type": "execute_result"
    }
   ],
   "source": [
    "vector_doc_array = count_vector.transform(documents).toarray()\n",
    "vector_doc_array\n",
    "\n",
    "# 결과값이 0으로만 이루어진 것처럼 보이지만, 실제로는 그렇지 않다. (생략된 부분에서 0이 아닌 값들이 나온다.)"
   ]
  },
  {
   "cell_type": "code",
   "execution_count": 16,
   "metadata": {},
   "outputs": [
    {
     "data": {
      "text/plain": [
       "5169.0"
      ]
     },
     "execution_count": 16,
     "metadata": {},
     "output_type": "execute_result"
    }
   ],
   "source": [
    "vector_doc_array.size/len(cv)"
   ]
  },
  {
   "cell_type": "markdown",
   "metadata": {},
   "source": [
    "#### Dataset을 training set과 testing set으로 나누어 놓습니다."
   ]
  },
  {
   "cell_type": "code",
   "execution_count": 17,
   "metadata": {},
   "outputs": [],
   "source": [
    "from sklearn.model_selection import train_test_split"
   ]
  },
  {
   "cell_type": "code",
   "execution_count": 18,
   "metadata": {},
   "outputs": [
    {
     "name": "stdout",
     "output_type": "stream",
     "text": [
      "Our original set contains 5169 observations\n",
      "Our training set contains 3876 observations\n",
      "Our testing set contains 1293 observations\n"
     ]
    }
   ],
   "source": [
    "X_train, X_test, y_train, y_test = train_test_split(refined_sms_collection[\"sms_message\"],refined_sms_collection['label'], random_state=1)\n",
    "\n",
    "print(\"Our original set contains\", refined_sms_collection.shape[0], \"observations\")\n",
    "print(\"Our training set contains\", X_train.shape[0], \"observations\")\n",
    "print(\"Our testing set contains\", X_test.shape[0], \"observations\")"
   ]
  },
  {
   "cell_type": "code",
   "execution_count": 19,
   "metadata": {},
   "outputs": [
    {
     "data": {
      "text/plain": [
       "1                           Ok lar... Joking wif u oni...\n",
       "4982    I'm in inside office..still filling forms.don ...\n",
       "3275    All day working day:)except saturday and sunday..\n",
       "2727                        Smith waste da.i wanna gayle.\n",
       "3558                      How r ? going to send it to me?\n",
       "                              ...                        \n",
       "2763    Ha. You donÛ? know either. I did a a clever b...\n",
       "905          K, wait chikku..il send aftr  &lt;#&gt; mins\n",
       "3980                              How much for an eighth?\n",
       "235     U 447801259231 have a secret admirer who is lo...\n",
       "5157                    Anything lor. Juz both of us lor.\n",
       "Name: sms_message, Length: 3876, dtype: object"
      ]
     },
     "execution_count": 19,
     "metadata": {},
     "output_type": "execute_result"
    }
   ],
   "source": [
    "X_train"
   ]
  },
  {
   "cell_type": "code",
   "execution_count": 20,
   "metadata": {},
   "outputs": [
    {
     "data": {
      "text/plain": [
       "2971    I've been barred from all B and Q stores for l...\n",
       "3830                  Gam gone after outstanding innings.\n",
       "3066             Am okay. Will soon be over. All the best\n",
       "3231    Welcome! Please reply with your AGE and GENDER...\n",
       "2139    Alrite jod hows the revision goin? Keris bin d...\n",
       "                              ...                        \n",
       "3095    K actually can you guys meet me at the sunoco ...\n",
       "2064                            So can collect ur laptop?\n",
       "234     New Theory: Argument wins d SITUATION, but los...\n",
       "2896    Please leave this topic..sorry for telling that..\n",
       "1291                          Aight no rush, I'll ask jay\n",
       "Name: sms_message, Length: 1293, dtype: object"
      ]
     },
     "execution_count": 20,
     "metadata": {},
     "output_type": "execute_result"
    }
   ],
   "source": [
    "X_test"
   ]
  },
  {
   "cell_type": "code",
   "execution_count": 21,
   "metadata": {},
   "outputs": [
    {
     "data": {
      "text/plain": [
       "1       0\n",
       "4982    0\n",
       "3275    0\n",
       "2727    0\n",
       "3558    0\n",
       "       ..\n",
       "2763    0\n",
       "905     0\n",
       "3980    0\n",
       "235     1\n",
       "5157    0\n",
       "Name: label, Length: 3876, dtype: int64"
      ]
     },
     "execution_count": 21,
     "metadata": {},
     "output_type": "execute_result"
    }
   ],
   "source": [
    "y_train"
   ]
  },
  {
   "cell_type": "code",
   "execution_count": 22,
   "metadata": {},
   "outputs": [
    {
     "data": {
      "text/plain": [
       "2971    0\n",
       "3830    0\n",
       "3066    0\n",
       "3231    1\n",
       "2139    0\n",
       "       ..\n",
       "3095    0\n",
       "2064    0\n",
       "234     0\n",
       "2896    0\n",
       "1291    0\n",
       "Name: label, Length: 1293, dtype: int64"
      ]
     },
     "execution_count": 22,
     "metadata": {},
     "output_type": "execute_result"
    }
   ],
   "source": [
    "y_test"
   ]
  },
  {
   "cell_type": "markdown",
   "metadata": {},
   "source": [
    "#### X_train과 X_test를 다루기 쉬운 형태로 변환합니다."
   ]
  },
  {
   "cell_type": "code",
   "execution_count": 23,
   "metadata": {},
   "outputs": [],
   "source": [
    "X_train_array = count_vector.transform(X_train).toarray()\n",
    "X_test_array = count_vector.transform(X_test).toarray()"
   ]
  },
  {
   "cell_type": "code",
   "execution_count": 24,
   "metadata": {},
   "outputs": [
    {
     "data": {
      "text/plain": [
       "array([[0, 0, 0, ..., 0, 0, 0],\n",
       "       [0, 0, 0, ..., 0, 0, 0],\n",
       "       [0, 0, 0, ..., 0, 0, 0],\n",
       "       ...,\n",
       "       [0, 0, 0, ..., 0, 0, 0],\n",
       "       [0, 0, 0, ..., 0, 0, 0],\n",
       "       [0, 0, 0, ..., 0, 0, 0]], dtype=int64)"
      ]
     },
     "execution_count": 24,
     "metadata": {},
     "output_type": "execute_result"
    }
   ],
   "source": [
    "X_train_array"
   ]
  },
  {
   "cell_type": "code",
   "execution_count": 25,
   "metadata": {},
   "outputs": [
    {
     "data": {
      "text/plain": [
       "array([[0, 0, 0, ..., 0, 0, 0],\n",
       "       [0, 0, 0, ..., 0, 0, 0],\n",
       "       [0, 0, 0, ..., 0, 0, 0],\n",
       "       ...,\n",
       "       [0, 0, 0, ..., 0, 0, 0],\n",
       "       [0, 0, 0, ..., 0, 0, 0],\n",
       "       [0, 0, 0, ..., 0, 0, 0]], dtype=int64)"
      ]
     },
     "execution_count": 25,
     "metadata": {},
     "output_type": "execute_result"
    }
   ],
   "source": [
    "X_test_array"
   ]
  },
  {
   "cell_type": "markdown",
   "metadata": {},
   "source": [
    "#### 아래의 값들은 직접 제작한 모델에서 입력값으로 사용됩니다."
   ]
  },
  {
   "cell_type": "code",
   "execution_count": 26,
   "metadata": {},
   "outputs": [],
   "source": [
    "import numpy as np\n",
    "\n",
    "class_set = np.unique(y_train)\n",
    "class_count = np.zeros(class_set.size)\n",
    "\n",
    "for i in range(class_set.size):\n",
    "    \n",
    "    count = 0\n",
    "    \n",
    "    for j in range(y_train.size):\n",
    "        if class_set[i] == y_train.values[j]:\n",
    "            count = count + 1\n",
    "            \n",
    "    class_count[i] = count\n",
    "\n",
    "# 아래의 두 값은 '직접' 제작한 모델에서 입력값으로 사용\n",
    "\n",
    "train_ham_size = int(class_count[0])\n",
    "train_spam_size = int(class_count[1])"
   ]
  },
  {
   "cell_type": "markdown",
   "metadata": {},
   "source": [
    "## 2. Bernoulli 모델을 '직접' 제작하기"
   ]
  },
  {
   "cell_type": "markdown",
   "metadata": {},
   "source": [
    "#### Bernoulli 모델을 '직접' 제작하기 위해 사용되는 함수들은 다음과 같습니다."
   ]
  },
  {
   "cell_type": "code",
   "execution_count": 27,
   "metadata": {},
   "outputs": [],
   "source": [
    "## training set에 대한 ham과 spam의 개수를 구하는 함수\n",
    "\n",
    "def B_class_count(y_train):\n",
    "        \n",
    "    class_set = np.unique(y_train)\n",
    "    class_count = np.zeros(class_set.size)\n",
    "    count_ham = 0\n",
    "    count_spam = 0\n",
    "        \n",
    "    for i in range(y_train.size):\n",
    "        if y_train.values[i] == 0:\n",
    "            count_ham = count_ham + 1\n",
    "        else:\n",
    "            count_spam = count_spam + 1\n",
    "                \n",
    "    class_count[0] = count_ham\n",
    "    class_count[1] = count_spam\n",
    "        \n",
    "    return class_count"
   ]
  },
  {
   "cell_type": "code",
   "execution_count": 28,
   "metadata": {},
   "outputs": [],
   "source": [
    "## X_train의 ham에 대한 np.array를 구하는 함수\n",
    "\n",
    "def B_ham_doc_list(train_ham_size, y_train, X_train_array):\n",
    "        \n",
    "    ham_doc_list = np.zeros((train_ham_size, len(cv)))\n",
    "    ind = -1\n",
    "        \n",
    "    for i in range(y_train.size):\n",
    "        if y_train.values[i] == 0:\n",
    "            ind = ind + 1\n",
    "            ham_doc_list[ind] = X_train_array[i]\n",
    "                \n",
    "    return ham_doc_list"
   ]
  },
  {
   "cell_type": "code",
   "execution_count": 29,
   "metadata": {},
   "outputs": [],
   "source": [
    "## X_train의 spam에 대한 np.array를 구하는 함수\n",
    "\n",
    "def B_spam_doc_list(train_spam_size, y_train, X_train_array):\n",
    "        \n",
    "    spam_doc_list = np.zeros((train_spam_size, len(cv)))   \n",
    "    ind = -1\n",
    "        \n",
    "    for i in range(y_train.size):\n",
    "        if y_train.values[i] == 1:\n",
    "            ind = ind + 1\n",
    "            spam_doc_list[ind] = X_train_array[i]\n",
    "                \n",
    "    return spam_doc_list"
   ]
  },
  {
   "cell_type": "code",
   "execution_count": 30,
   "metadata": {},
   "outputs": [],
   "source": [
    "## ham, spam 각각에 대한 단어의 개수를 구하는 함수\n",
    "\n",
    "def B_count_words(ham_doc_list, spam_doc_list):\n",
    "        \n",
    "    count_words = np.zeros((2, ham_doc_list[0].size))\n",
    "    feature_size = ham_doc_list[0].size\n",
    "        \n",
    "    for i in range(len(cv)):\n",
    "        count = 0\n",
    "        for j in range(int(ham_doc_list.size/feature_size)):\n",
    "            if ham_doc_list[j][i] >= 1:\n",
    "                count = count + 1\n",
    "        count_words[0][i] = count\n",
    "            \n",
    "    for i in range(len(cv)):\n",
    "        count = 0\n",
    "        for j in range(int(spam_doc_list.size/feature_size)):\n",
    "            if spam_doc_list[j][i] >= 1:\n",
    "                count = count + 1\n",
    "        count_words[1][i] = count\n",
    "            \n",
    "    return count_words"
   ]
  },
  {
   "cell_type": "code",
   "execution_count": 31,
   "metadata": {},
   "outputs": [],
   "source": [
    "## 각각의 단어의 확률을 구하는 함수\n",
    "\n",
    "def B_prob_count_words(count_words, train_ham_size, train_spam_size):\n",
    "        \n",
    "    prob_count_words = np.zeros((2, count_words[0].size))\n",
    "    prob_count_words[0] = count_words[0]/train_ham_size\n",
    "    prob_count_words[1] = count_words[1]/train_spam_size\n",
    "        \n",
    "    return prob_count_words"
   ]
  },
  {
   "cell_type": "code",
   "execution_count": 32,
   "metadata": {},
   "outputs": [],
   "source": [
    "## smmothing 과정을 거친 후에, 각각의 단어의 확률을 구하는 함수\n",
    "## 가중치는 k = 1 을 사용\n",
    "\n",
    "def B_smooth_prob_count_words(count_words, train_ham_size, train_spam_size):\n",
    "    \n",
    "    smooth_prob_count_words = np.zeros((2, count_words[0].size))\n",
    "    smooth_prob_count_words[0] = (count_words[0] + 1)/(train_ham_size + 2)\n",
    "    smooth_prob_count_words[1] = (count_words[1] + 1)/(train_spam_size + 2)\n",
    "    \n",
    "    return smooth_prob_count_words"
   ]
  },
  {
   "cell_type": "code",
   "execution_count": 33,
   "metadata": {},
   "outputs": [],
   "source": [
    "## 입력된 문서가 ham 인지 spam 인지 판정하는 함수\n",
    "\n",
    "def B_evaluation_class(count_words, train_ham_size, train_spam_size, X_test_array, class_count):\n",
    "        \n",
    "    list = np.zeros((int(X_test_array.size/len(cv)), int(class_count.size)))\n",
    "    p_H = train_ham_size/(train_ham_size + train_spam_size)\n",
    "    p_S = train_spam_size/(train_ham_size + train_spam_size)\n",
    "        \n",
    "    for i in range(int(list.size/2)):\n",
    "            \n",
    "        sentence = X_test_array[i]\n",
    "        sum_H = math.log(p_H)\n",
    "            \n",
    "        for j in range(B_prob_count_words[0].size):\n",
    "            if sentence[j] == 1:\n",
    "                sum_H = sum_H + math.log(B_prob_count_words[0][j])\n",
    "            else:\n",
    "                sum_H = sum_H + math.log(1 - B_prob_count_words[0][j])\n",
    "                \n",
    "        list[i][0] = math.exp(sum_H)\n",
    "                \n",
    "    for i in range(int(list.size/2)):\n",
    "            \n",
    "        sentence = X_test_array[i]\n",
    "        sum_S = math.log(p_S)    \n",
    "            \n",
    "        for j in range(B_prob_count_words[1].size):\n",
    "            if sentence[j] == 1:\n",
    "                sum_S = sum_S + math.log(B_prob_count_words[1][j])\n",
    "            else:\n",
    "                sum_S = sum_S + math.log(1 - B_prob_count_words[1][j])\n",
    "\n",
    "        list[i][1] = math.exp(sum_S)\n",
    "    \n",
    "    \n",
    "    result_list = np.zeros((int(X_test_array.size/len(cv)), int(class_count.size)))\n",
    "    \n",
    "    for i in range(int(list.size/2)):\n",
    "        real_H = list[i][0]/(list[i][0] + list[i][1])\n",
    "        real_S = list[i][1]/(list[i][0] + list[i][1])\n",
    "        \n",
    "        result_list[i][0] = real_H\n",
    "        result_list[i][1] = real_S\n",
    "        \n",
    "    return result_list"
   ]
  },
  {
   "cell_type": "code",
   "execution_count": 34,
   "metadata": {},
   "outputs": [],
   "source": [
    "## smoothing된 확률을 이용하여, 입력된 문서가 ham 인지 spam 인지 판정하는 함수\n",
    "## 가중치는 k = 1 을 사용\n",
    "\n",
    "def B_smooth_evaluation_class(count_words, train_ham_size, train_spam_size, X_test_array, class_count):\n",
    "        \n",
    "    list = np.zeros((int(X_test_array.size/len(cv)), int(class_count.size)))\n",
    "    p_H = train_ham_size/(train_ham_size + train_spam_size)\n",
    "    p_S = train_spam_size/(train_ham_size + train_spam_size)\n",
    "      \n",
    "    for i in range(int(list.size/2)):\n",
    "            \n",
    "        sentence = X_test_array[i]\n",
    "        sum_H = math.log(p_H)\n",
    "            \n",
    "        for j in range(B_smooth_prob_count_words[0].size):\n",
    "            if sentence[j] == 1:\n",
    "                sum_H = sum_H + math.log(B_smooth_prob_count_words[0][j])\n",
    "            else:\n",
    "                sum_H = sum_H + math.log(1 - B_smooth_prob_count_words[0][j])\n",
    "                \n",
    "        list[i][0] = math.exp(sum_H)\n",
    "                \n",
    "    for i in range(int(list.size/2)):\n",
    "            \n",
    "        sentence = X_test_array[i]\n",
    "        sum_S = math.log(p_S)    \n",
    "            \n",
    "        for j in range(B_smooth_prob_count_words[1].size):\n",
    "            if sentence[j] == 1:\n",
    "                sum_S = sum_S + math.log(B_smooth_prob_count_words[1][j])\n",
    "            else:\n",
    "                sum_S = sum_S + math.log(1 - B_smooth_prob_count_words[1][j])\n",
    "\n",
    "        list[i][1] = math.exp(sum_S)\n",
    "    \n",
    "    \n",
    "    result_list = np.zeros((int(X_test_array.size/len(cv)), int(class_count.size)))\n",
    "    \n",
    "    for i in range(int(list.size/2)):\n",
    "        real_H = list[i][0]/(list[i][0] + list[i][1])\n",
    "        real_S = list[i][1]/(list[i][0] + list[i][1])\n",
    "        \n",
    "        result_list[i][0] = real_H\n",
    "        result_list[i][1] = real_S\n",
    "        \n",
    "    return result_list"
   ]
  },
  {
   "cell_type": "markdown",
   "metadata": {},
   "source": [
    "#### 직접 제작한 모델과 Sklearn의 BernoulliNB 모듈의 결과를 비교할 것입니다.\n",
    "#### Sklearn의 모듈 BernoulliNB를 불러옵니다."
   ]
  },
  {
   "cell_type": "code",
   "execution_count": 35,
   "metadata": {},
   "outputs": [
    {
     "data": {
      "text/plain": [
       "BernoulliNB()"
      ]
     },
     "execution_count": 35,
     "metadata": {},
     "output_type": "execute_result"
    }
   ],
   "source": [
    "from sklearn.naive_bayes import BernoulliNB\n",
    "\n",
    "sklearn_BernoulliNB = BernoulliNB()\n",
    "sklearn_BernoulliNB.fit(X_train_array, y_train)"
   ]
  },
  {
   "cell_type": "markdown",
   "metadata": {},
   "source": [
    "#### 1. training set의 ham과 spam의 개수는 다음과 같습니다."
   ]
  },
  {
   "cell_type": "code",
   "execution_count": 36,
   "metadata": {},
   "outputs": [
    {
     "data": {
      "text/plain": [
       "array([3388.,  488.])"
      ]
     },
     "execution_count": 36,
     "metadata": {},
     "output_type": "execute_result"
    }
   ],
   "source": [
    "B_class_count = B_class_count(y_train)\n",
    "B_class_count"
   ]
  },
  {
   "cell_type": "code",
   "execution_count": 37,
   "metadata": {},
   "outputs": [
    {
     "data": {
      "text/plain": [
       "array([3388.,  488.])"
      ]
     },
     "execution_count": 37,
     "metadata": {},
     "output_type": "execute_result"
    }
   ],
   "source": [
    "sklearn_BernoulliNB.class_count_"
   ]
  },
  {
   "cell_type": "markdown",
   "metadata": {},
   "source": [
    "#### 2. ham과 spam에 대한 각각의 단어의 개수는 다음과 같습니다."
   ]
  },
  {
   "cell_type": "code",
   "execution_count": 38,
   "metadata": {},
   "outputs": [],
   "source": [
    "B_ham_doc_list = B_ham_doc_list(train_ham_size, y_train, X_train_array)\n",
    "B_spam_doc_list = B_spam_doc_list(train_spam_size, y_train, X_train_array)"
   ]
  },
  {
   "cell_type": "code",
   "execution_count": 39,
   "metadata": {},
   "outputs": [
    {
     "data": {
      "text/plain": [
       "array([[ 0.,  0.,  1., ...,  1.,  1.,  0.],\n",
       "       [ 4., 17.,  0., ...,  0.,  0.,  1.]])"
      ]
     },
     "execution_count": 39,
     "metadata": {},
     "output_type": "execute_result"
    }
   ],
   "source": [
    "B_count_words = B_count_words(B_ham_doc_list, B_spam_doc_list)\n",
    "B_count_words"
   ]
  },
  {
   "cell_type": "code",
   "execution_count": 40,
   "metadata": {},
   "outputs": [
    {
     "data": {
      "text/plain": [
       "array([[ 0.,  0.,  1., ...,  1.,  1.,  0.],\n",
       "       [ 4., 17.,  0., ...,  0.,  0.,  1.]])"
      ]
     },
     "execution_count": 40,
     "metadata": {},
     "output_type": "execute_result"
    }
   ],
   "source": [
    "sklearn_BernoulliNB.feature_count_"
   ]
  },
  {
   "cell_type": "markdown",
   "metadata": {},
   "source": [
    "#### 3. 각각의 단어에 대한 확률은 다음과 같습니다."
   ]
  },
  {
   "cell_type": "code",
   "execution_count": 41,
   "metadata": {},
   "outputs": [],
   "source": [
    "B_train_ham_size = int(B_class_count[0])\n",
    "B_train_spam_size = int(B_class_count[1])"
   ]
  },
  {
   "cell_type": "code",
   "execution_count": 42,
   "metadata": {},
   "outputs": [
    {
     "data": {
      "text/plain": [
       "array([[0.        , 0.        , 0.00029516, ..., 0.00029516, 0.00029516,\n",
       "        0.        ],\n",
       "       [0.00819672, 0.03483607, 0.        , ..., 0.        , 0.        ,\n",
       "        0.00204918]])"
      ]
     },
     "execution_count": 42,
     "metadata": {},
     "output_type": "execute_result"
    }
   ],
   "source": [
    "B_prob_count_words = B_prob_count_words(B_count_words, B_train_ham_size, B_train_spam_size)\n",
    "B_prob_count_words"
   ]
  },
  {
   "cell_type": "code",
   "execution_count": 43,
   "metadata": {},
   "outputs": [],
   "source": [
    "sklearn_BernoulliNB_fc = sklearn_BernoulliNB.feature_count_"
   ]
  },
  {
   "cell_type": "code",
   "execution_count": 44,
   "metadata": {},
   "outputs": [
    {
     "data": {
      "text/plain": [
       "array([[0.        , 0.        , 0.00029516, ..., 0.00029516, 0.00029516,\n",
       "        0.        ],\n",
       "       [0.00819672, 0.03483607, 0.        , ..., 0.        , 0.        ,\n",
       "        0.00204918]])"
      ]
     },
     "execution_count": 44,
     "metadata": {},
     "output_type": "execute_result"
    }
   ],
   "source": [
    "sklearn_BernoulliNB_fc/np.repeat(sklearn_BernoulliNB.class_count_[:, np.newaxis], 8668, axis = 1)"
   ]
  },
  {
   "cell_type": "markdown",
   "metadata": {},
   "source": [
    "#### 4. (smoothing 과정을 거친 후의) 각각의 단어에 대한 확률은 다음과 같습니다."
   ]
  },
  {
   "cell_type": "code",
   "execution_count": 45,
   "metadata": {},
   "outputs": [
    {
     "data": {
      "text/plain": [
       "array([[0.00029499, 0.00029499, 0.00058997, ..., 0.00058997, 0.00058997,\n",
       "        0.00029499],\n",
       "       [0.01020408, 0.03673469, 0.00204082, ..., 0.00204082, 0.00204082,\n",
       "        0.00408163]])"
      ]
     },
     "execution_count": 45,
     "metadata": {},
     "output_type": "execute_result"
    }
   ],
   "source": [
    "B_smooth_prob_count_words = B_smooth_prob_count_words(B_count_words, B_train_ham_size, B_train_spam_size)\n",
    "B_smooth_prob_count_words"
   ]
  },
  {
   "cell_type": "code",
   "execution_count": 46,
   "metadata": {},
   "outputs": [
    {
     "data": {
      "text/plain": [
       "array([[0.00029499, 0.00029499, 0.00058997, ..., 0.00058997, 0.00058997,\n",
       "        0.00029499],\n",
       "       [0.01020408, 0.03673469, 0.00204082, ..., 0.00204082, 0.00204082,\n",
       "        0.00408163]])"
      ]
     },
     "execution_count": 46,
     "metadata": {},
     "output_type": "execute_result"
    }
   ],
   "source": [
    "np.exp(sklearn_BernoulliNB.feature_log_prob_)"
   ]
  },
  {
   "cell_type": "markdown",
   "metadata": {},
   "source": [
    "#### 5. 각각의 문서에 대한 'ham일 확률'과 'spam일 확률'은 다음과 같습니다."
   ]
  },
  {
   "cell_type": "code",
   "execution_count": 47,
   "metadata": {},
   "outputs": [
    {
     "data": {
      "text/plain": [
       "array([[9.99997528e-01, 2.47222704e-06],\n",
       "       [1.00000000e+00, 8.62460433e-12],\n",
       "       [1.00000000e+00, 8.15629382e-14],\n",
       "       ...,\n",
       "       [1.00000000e+00, 3.35025704e-10],\n",
       "       [1.00000000e+00, 3.49311578e-12],\n",
       "       [1.00000000e+00, 5.20550378e-15]])"
      ]
     },
     "execution_count": 47,
     "metadata": {},
     "output_type": "execute_result"
    }
   ],
   "source": [
    "import math\n",
    "\n",
    "B_smooth_evaluation_class = B_smooth_evaluation_class(B_count_words, B_train_ham_size, B_train_spam_size, X_test_array, B_class_count)\n",
    "B_smooth_evaluation_class"
   ]
  },
  {
   "cell_type": "code",
   "execution_count": 48,
   "metadata": {},
   "outputs": [
    {
     "data": {
      "text/plain": [
       "array([[9.99998728e-01, 1.27228586e-06],\n",
       "       [1.00000000e+00, 8.62460433e-12],\n",
       "       [1.00000000e+00, 8.15629382e-14],\n",
       "       ...,\n",
       "       [1.00000000e+00, 3.35025704e-10],\n",
       "       [1.00000000e+00, 3.49311578e-12],\n",
       "       [1.00000000e+00, 5.20550378e-15]])"
      ]
     },
     "execution_count": 48,
     "metadata": {},
     "output_type": "execute_result"
    }
   ],
   "source": [
    "sklearn_BernoulliNB.predict_proba(X_test_array)"
   ]
  },
  {
   "cell_type": "markdown",
   "metadata": {},
   "source": [
    "#### 참고 : smoothing 과정이 없는 경우, ValueError가 발생합니다. (값이 '0'이되는 경우가 존재하기 때문)"
   ]
  },
  {
   "cell_type": "code",
   "execution_count": 49,
   "metadata": {},
   "outputs": [],
   "source": [
    "## 전체 코딩을 돌리게 되는 경우 이 단계에서 멈추게 되므로, 각주의 형태로 코딩을 적어두었습니다.\n",
    "\n",
    "# B_evaluation_class = B_evaluation_class(B_count_words, B_train_ham_size, B_train_spam_size, X_test_array, B_class_count)\n",
    "# B_evaluation_class"
   ]
  },
  {
   "cell_type": "markdown",
   "metadata": {},
   "source": [
    "#### 참고 : sklearn의 BernoulliNB 모듈에서 smoothing 과정에 사용된 k의 값은 1입니다."
   ]
  },
  {
   "cell_type": "code",
   "execution_count": 50,
   "metadata": {},
   "outputs": [
    {
     "data": {
      "text/plain": [
       "1.0"
      ]
     },
     "execution_count": 50,
     "metadata": {},
     "output_type": "execute_result"
    }
   ],
   "source": [
    "sklearn_BernoulliNB.alpha"
   ]
  },
  {
   "cell_type": "markdown",
   "metadata": {},
   "source": [
    "## 3. Multinomial 모델을 '직접' 제작하기"
   ]
  },
  {
   "cell_type": "markdown",
   "metadata": {},
   "source": [
    "#### Multinomial 모델을 '직접' 제작하기 위해 사용되는 함수들은 다음과 같습니다."
   ]
  },
  {
   "cell_type": "code",
   "execution_count": 51,
   "metadata": {},
   "outputs": [],
   "source": [
    "## training set에 대한 ham과 spam의 개수를 구하는 함수\n",
    "\n",
    "def M_class_count(y_train):\n",
    "    \n",
    "    calss_set = np.unique(y_train)\n",
    "    class_count = np.zeros(class_set.size)\n",
    "    count_ham = 0\n",
    "    count_spam = 0\n",
    "    \n",
    "    for i in range(y_train.size):\n",
    "        if y_train.values[i] == 0:\n",
    "            count_ham = count_ham + 1\n",
    "        else:\n",
    "            count_spam = count_spam + 1\n",
    "    \n",
    "    class_count[0] = count_ham\n",
    "    class_count[1] = count_spam\n",
    "    \n",
    "    return class_count"
   ]
  },
  {
   "cell_type": "code",
   "execution_count": 52,
   "metadata": {},
   "outputs": [],
   "source": [
    "## X_train의 ham에 대한 np.array를 구하는 함수\n",
    "\n",
    "def M_ham_doc_list(train_ham_size, y_train, X_train_array):\n",
    "    \n",
    "    ham_doc_list = np.zeros((train_ham_size, len(cv)))\n",
    "    ind = -1\n",
    "    \n",
    "    for i in range(y_train.size):\n",
    "        if y_train.values[i] == 0:\n",
    "            ind = ind + 1\n",
    "            ham_doc_list[ind] = X_train_array[i]\n",
    "            \n",
    "    return ham_doc_list"
   ]
  },
  {
   "cell_type": "code",
   "execution_count": 53,
   "metadata": {},
   "outputs": [],
   "source": [
    "## X_train의 spam에 대한 np.array를 구하는 함수\n",
    "\n",
    "def M_spam_doc_list(train_spam_size, y_train, X_train_array):\n",
    "    \n",
    "    spam_doc_list = np.zeros((train_spam_size, len(cv)))\n",
    "    ind = -1\n",
    "    \n",
    "    for i in range(y_train.size):\n",
    "        if y_train.values[i] == 1:\n",
    "            ind = ind + 1\n",
    "            spam_doc_list[ind] = X_train_array[i]\n",
    "            \n",
    "    return spam_doc_list"
   ]
  },
  {
   "cell_type": "code",
   "execution_count": 54,
   "metadata": {},
   "outputs": [],
   "source": [
    "## ham, spam 각각에 대한 단어의 개수를 구하는 함수\n",
    "\n",
    "def M_count_words(ham_doc_list, spam_doc_list):\n",
    "    \n",
    "    count_words = np.zeros((2, ham_doc_list[0].size))\n",
    "    feature_size = ham_doc_list[0].size\n",
    "    \n",
    "    for i in range(len(cv)):\n",
    "        count = 0\n",
    "        for j in range(int(ham_doc_list.size/feature_size)):\n",
    "            count = count + ham_doc_list[j][i]\n",
    "        count_words[0][i] = count\n",
    "        \n",
    "    for i in range(len(cv)):\n",
    "        count = 0\n",
    "        for j in range(int(spam_doc_list.size/feature_size)):\n",
    "            count = count + spam_doc_list[j][i]\n",
    "        count_words[1][i] = count\n",
    "        \n",
    "    return count_words"
   ]
  },
  {
   "cell_type": "code",
   "execution_count": 55,
   "metadata": {},
   "outputs": [],
   "source": [
    "## 각각의 단어의 확률을 구하는 함수\n",
    "\n",
    "def M_prob_count_words(count_words, train_ham_size, train_spam_size):\n",
    "    \n",
    "    prob_count_words = np.zeros((2, count_words[0].size))\n",
    "    prob_count_words[0] = count_words[0]/train_ham_size\n",
    "    prob_count_words[1] = count_words[1]/train_spam_size\n",
    "    \n",
    "    return prob_count_words"
   ]
  },
  {
   "cell_type": "code",
   "execution_count": 56,
   "metadata": {},
   "outputs": [],
   "source": [
    "## smmothing 과정을 거친 후에, 각각의 단어의 확률을 구하는 함수\n",
    "## 가중치는 k = 1 을 사용\n",
    "\n",
    "def M_smooth_prob_count_words(count_words):\n",
    "    \n",
    "    smooth_prob_count_words = np.zeros((2, count_words[0].size))\n",
    "    count_words = count_words + 1\n",
    "    smooth_prob_count_words[0] = count_words[0]/np.sum(count_words[0])\n",
    "    smooth_prob_count_words[1] = count_words[1]/np.sum(count_words[1])\n",
    "    \n",
    "    return smooth_prob_count_words"
   ]
  },
  {
   "cell_type": "code",
   "execution_count": 57,
   "metadata": {},
   "outputs": [],
   "source": [
    "## 입력된 문서가 ham 인지 spam 인지 판정하는 함수\n",
    "\n",
    "def M_smooth_evaluation_class(count_words, train_ham_size, train_spam_size, X_test_array, class_count):\n",
    "    \n",
    "    list = np.zeros((int(X_test_array.size/len(cv)), int(class_count.size)))\n",
    "    p_H = train_ham_size/(train_ham_size + train_spam_size)\n",
    "    p_S = train_spam_size/(train_ham_size + train_spam_size)\n",
    "    \n",
    "    for i in range(int(list.size/2)):\n",
    "        \n",
    "        sentence = X_test_array[i]\n",
    "        sum_H = math.log(p_H)\n",
    "        \n",
    "        for j in range(M_prob_count_words[0].size):\n",
    "            if sentence[j] == 1:\n",
    "                sum_H = sum_H + math.log(B_prob_count_words[0][j])\n",
    "            else:\n",
    "                sum_H = sum_H + math.log(1 - B_prob_count_words[0][j])\n",
    "                \n",
    "        list[i][0] = math.exp(sum_H)\n",
    "    \n",
    "    for i in range(int(list.size/2)):\n",
    "        \n",
    "        sentence = X_test_array[i]\n",
    "        sum_S = math.log(p_S)\n",
    "        \n",
    "        for j in range(M_prob_count_words[1].size):\n",
    "            if sentence[j] == 1:\n",
    "                sum_S = sum_S + math.log(M_prob_count_words[1][j])\n",
    "            else:\n",
    "                sum_S = sum_S + math.log(1 - M_prob_count_words[1][j])\n",
    "        \n",
    "        list[i][1] = math.exp(sum_S)\n",
    "        \n",
    "        \n",
    "    result_list = np.zeros((int(X_test_array.size/len(cv)), int(class_count.size)))\n",
    "    \n",
    "    for i in range(int(list.size/2)):\n",
    "        real_H = list[i][0]/(list[i][0] + list[i][1])\n",
    "        real_S = list[i][1]/(list[i][0] + list[i][1])\n",
    "        \n",
    "        result_list[i][0] = real_H\n",
    "        result_list[i][1] = real_S\n",
    "        \n",
    "    return result_list"
   ]
  },
  {
   "cell_type": "code",
   "execution_count": 58,
   "metadata": {},
   "outputs": [],
   "source": [
    "## smoothing된 확률을 이용하여, 입력된 문서가 ham 인지 spam 인지 판정하는 함수\n",
    "## 가중치는 k = 1 을 사용\n",
    "\n",
    "def M_smooth_evaluation_class(count_words, train_ham_size, train_spam_size, X_test_array, class_count):\n",
    "    \n",
    "    list = np.zeros((int(X_test_array.size/len(cv)), int(class_count.size)))\n",
    "    p_H = train_ham_size/(train_ham_size + train_spam_size)\n",
    "    p_S = train_spam_size/(train_ham_size + train_spam_size)\n",
    "    \n",
    "    for i in range(int(list.size/2)):\n",
    "        \n",
    "        sentence = X_test_array[i]\n",
    "        sum_H = math.log(p_H)\n",
    "        \n",
    "        for j in range(M_smooth_prob_count_words[0].size):\n",
    "            if sentence[j] == 1:\n",
    "                sum_H = sum_H + math.log(B_smooth_prob_count_words[0][j])\n",
    "            else:\n",
    "                sum_H = sum_H + math.log(1 - B_smooth_prob_count_words[0][j])\n",
    "                \n",
    "        list[i][0] = math.exp(sum_H)\n",
    "    \n",
    "    for i in range(int(list.size/2)):\n",
    "        \n",
    "        sentence = X_test_array[i]\n",
    "        sum_S = math.log(p_S)\n",
    "        \n",
    "        for j in range(M_smooth_prob_count_words[1].size):\n",
    "            if sentence[j] == 1:\n",
    "                sum_S = sum_S + math.log(M_smooth_prob_count_words[1][j])\n",
    "            else:\n",
    "                sum_S = sum_S + math.log(1 - M_smooth_prob_count_words[1][j])\n",
    "        \n",
    "        list[i][1] = math.exp(sum_S)\n",
    "        \n",
    "        \n",
    "    result_list = np.zeros((int(X_test_array.size/len(cv)), int(class_count.size)))\n",
    "    \n",
    "    for i in range(int(list.size/2)):\n",
    "        real_H = list[i][0]/(list[i][0] + list[i][1])\n",
    "        real_S = list[i][1]/(list[i][0] + list[i][1])\n",
    "        \n",
    "        result_list[i][0] = real_H\n",
    "        result_list[i][1] = real_S\n",
    "        \n",
    "    return result_list"
   ]
  },
  {
   "cell_type": "markdown",
   "metadata": {},
   "source": [
    "#### 직접 제작한 모델과 Sklearn의 MultinomialNB 모듈의 결과를 비교할 것입니다.\n",
    "#### Sklearn의 모듈 MultinomialNB를 불러옵니다."
   ]
  },
  {
   "cell_type": "code",
   "execution_count": 59,
   "metadata": {},
   "outputs": [
    {
     "data": {
      "text/plain": [
       "MultinomialNB()"
      ]
     },
     "execution_count": 59,
     "metadata": {},
     "output_type": "execute_result"
    }
   ],
   "source": [
    "from sklearn.naive_bayes import MultinomialNB\n",
    "\n",
    "sklearn_MultinomialNB = MultinomialNB()\n",
    "sklearn_MultinomialNB.fit(X_train_array, y_train)"
   ]
  },
  {
   "cell_type": "markdown",
   "metadata": {},
   "source": [
    "#### 1. training set의 ham과 spam의 개수는 다음과 같습니다."
   ]
  },
  {
   "cell_type": "code",
   "execution_count": 60,
   "metadata": {},
   "outputs": [
    {
     "data": {
      "text/plain": [
       "array([3388.,  488.])"
      ]
     },
     "execution_count": 60,
     "metadata": {},
     "output_type": "execute_result"
    }
   ],
   "source": [
    "M_class_count = M_class_count(y_train)\n",
    "M_class_count"
   ]
  },
  {
   "cell_type": "code",
   "execution_count": 61,
   "metadata": {},
   "outputs": [
    {
     "data": {
      "text/plain": [
       "array([3388.,  488.])"
      ]
     },
     "execution_count": 61,
     "metadata": {},
     "output_type": "execute_result"
    }
   ],
   "source": [
    "sklearn_MultinomialNB.class_count_"
   ]
  },
  {
   "cell_type": "markdown",
   "metadata": {},
   "source": [
    "#### 2. ham과 spam에 대한 각각의 단어의 개수는 다음과 같습니다."
   ]
  },
  {
   "cell_type": "code",
   "execution_count": 62,
   "metadata": {},
   "outputs": [],
   "source": [
    "M_ham_doc_list = M_ham_doc_list(train_ham_size, y_train, X_train_array)\n",
    "M_spam_doc_list = M_spam_doc_list(train_spam_size, y_train, X_train_array)"
   ]
  },
  {
   "cell_type": "code",
   "execution_count": 63,
   "metadata": {},
   "outputs": [
    {
     "data": {
      "text/plain": [
       "array([[ 0.,  0.,  1., ...,  1.,  1.,  0.],\n",
       "       [ 4., 18.,  0., ...,  0.,  0.,  1.]])"
      ]
     },
     "execution_count": 63,
     "metadata": {},
     "output_type": "execute_result"
    }
   ],
   "source": [
    "M_count_words = M_count_words(M_ham_doc_list, M_spam_doc_list)\n",
    "M_count_words"
   ]
  },
  {
   "cell_type": "code",
   "execution_count": 64,
   "metadata": {},
   "outputs": [
    {
     "data": {
      "text/plain": [
       "array([[ 0.,  0.,  1., ...,  1.,  1.,  0.],\n",
       "       [ 4., 18.,  0., ...,  0.,  0.,  1.]])"
      ]
     },
     "execution_count": 64,
     "metadata": {},
     "output_type": "execute_result"
    }
   ],
   "source": [
    "sklearn_MultinomialNB.feature_count_"
   ]
  },
  {
   "cell_type": "markdown",
   "metadata": {},
   "source": [
    "#### 3. 각각의 단어에 대한 확률은 다음과 같습니다."
   ]
  },
  {
   "cell_type": "code",
   "execution_count": 65,
   "metadata": {},
   "outputs": [],
   "source": [
    "M_train_ham_size = int(M_class_count[0])\n",
    "M_train_spam_size = int(M_class_count[1])"
   ]
  },
  {
   "cell_type": "code",
   "execution_count": 66,
   "metadata": {},
   "outputs": [
    {
     "data": {
      "text/plain": [
       "array([[0.        , 0.        , 0.00029516, ..., 0.00029516, 0.00029516,\n",
       "        0.        ],\n",
       "       [0.00819672, 0.03688525, 0.        , ..., 0.        , 0.        ,\n",
       "        0.00204918]])"
      ]
     },
     "execution_count": 66,
     "metadata": {},
     "output_type": "execute_result"
    }
   ],
   "source": [
    "M_prob_count_words = M_prob_count_words(M_count_words, M_train_ham_size, M_train_spam_size)\n",
    "M_prob_count_words"
   ]
  },
  {
   "cell_type": "code",
   "execution_count": 67,
   "metadata": {},
   "outputs": [],
   "source": [
    "sklearn_MultinomialNB_fc = sklearn_MultinomialNB.feature_count_"
   ]
  },
  {
   "cell_type": "code",
   "execution_count": 68,
   "metadata": {},
   "outputs": [
    {
     "data": {
      "text/plain": [
       "array([[0.        , 0.        , 0.00029516, ..., 0.00029516, 0.00029516,\n",
       "        0.        ],\n",
       "       [0.00819672, 0.03688525, 0.        , ..., 0.        , 0.        ,\n",
       "        0.00204918]])"
      ]
     },
     "execution_count": 68,
     "metadata": {},
     "output_type": "execute_result"
    }
   ],
   "source": [
    "sklearn_MultinomialNB_fc/np.repeat(sklearn_MultinomialNB.class_count_[:, np.newaxis], 8668, axis = 1)"
   ]
  },
  {
   "cell_type": "markdown",
   "metadata": {},
   "source": [
    "#### 4. (smoothing 과정을 거친 후의) 각각의 단어에 대한 확률은 다음과 같습니다."
   ]
  },
  {
   "cell_type": "code",
   "execution_count": 69,
   "metadata": {},
   "outputs": [
    {
     "data": {
      "text/plain": [
       "array([[1.90110454e-05, 1.90110454e-05, 3.80220908e-05, ...,\n",
       "        3.80220908e-05, 3.80220908e-05, 1.90110454e-05],\n",
       "       [2.47463499e-04, 9.40361297e-04, 4.94926998e-05, ...,\n",
       "        4.94926998e-05, 4.94926998e-05, 9.89853997e-05]])"
      ]
     },
     "execution_count": 69,
     "metadata": {},
     "output_type": "execute_result"
    }
   ],
   "source": [
    "M_smooth_prob_count_words = M_smooth_prob_count_words(M_count_words)\n",
    "M_smooth_prob_count_words"
   ]
  },
  {
   "cell_type": "code",
   "execution_count": 70,
   "metadata": {},
   "outputs": [
    {
     "data": {
      "text/plain": [
       "array([[1.90110454e-05, 1.90110454e-05, 3.80220908e-05, ...,\n",
       "        3.80220908e-05, 3.80220908e-05, 1.90110454e-05],\n",
       "       [2.47463499e-04, 9.40361297e-04, 4.94926998e-05, ...,\n",
       "        4.94926998e-05, 4.94926998e-05, 9.89853997e-05]])"
      ]
     },
     "execution_count": 70,
     "metadata": {},
     "output_type": "execute_result"
    }
   ],
   "source": [
    "np.exp(sklearn_MultinomialNB.feature_log_prob_)"
   ]
  },
  {
   "cell_type": "markdown",
   "metadata": {},
   "source": [
    "#### 5. 각각의 문서에 대한 'ham일 확률'과 'spam일 확률'은 다음과 같습니다."
   ]
  },
  {
   "cell_type": "code",
   "execution_count": 71,
   "metadata": {},
   "outputs": [
    {
     "data": {
      "text/plain": [
       "array([[1.00000000e+00, 7.76545382e-30],\n",
       "       [9.83165211e-01, 1.68347889e-02],\n",
       "       [1.00000000e+00, 4.75594762e-11],\n",
       "       ...,\n",
       "       [1.00000000e+00, 1.69136998e-28],\n",
       "       [9.99999932e-01, 6.84273584e-08],\n",
       "       [9.99999767e-01, 2.33052219e-07]])"
      ]
     },
     "execution_count": 71,
     "metadata": {},
     "output_type": "execute_result"
    }
   ],
   "source": [
    "import math\n",
    "\n",
    "M_smooth_evaluation_class = M_smooth_evaluation_class(M_count_words, M_train_ham_size, M_train_spam_size, X_test_array, M_class_count)\n",
    "M_smooth_evaluation_class"
   ]
  },
  {
   "cell_type": "code",
   "execution_count": 72,
   "metadata": {},
   "outputs": [
    {
     "data": {
      "text/plain": [
       "array([[9.99999990e-01, 1.03241721e-08],\n",
       "       [9.83986312e-01, 1.60136885e-02],\n",
       "       [9.99997911e-01, 2.08850102e-06],\n",
       "       ...,\n",
       "       [9.99999985e-01, 1.51455183e-08],\n",
       "       [9.99810349e-01, 1.89650619e-04],\n",
       "       [9.99996857e-01, 3.14281479e-06]])"
      ]
     },
     "execution_count": 72,
     "metadata": {},
     "output_type": "execute_result"
    }
   ],
   "source": [
    "sklearn_MultinomialNB.predict_proba(X_test_array)"
   ]
  },
  {
   "cell_type": "markdown",
   "metadata": {},
   "source": [
    "#### sklearn의 모듈에서는 더 정확한 계산값을 구하는 방법이 적용된 것 같습니다."
   ]
  },
  {
   "cell_type": "markdown",
   "metadata": {},
   "source": [
    "#### 참고 : smoothing 과정이 없는 경우, ValueError가 발생합니다. (값이 '0'이되는 경우가 존재하기 때문)"
   ]
  },
  {
   "cell_type": "code",
   "execution_count": 73,
   "metadata": {},
   "outputs": [],
   "source": [
    "## 전체 코딩을 돌리게 되는 경우 이 단계에서 멈추게 되므로, 각주의 형태로 코딩을 적어두었습니다.\n",
    "\n",
    "# M_evaluation_class = M_evaluation_class(M_count_words, M_train_ham_size, M_train_spam_size, X_test_array, M_class_count)\n",
    "# M_evaluation_class"
   ]
  },
  {
   "cell_type": "markdown",
   "metadata": {},
   "source": [
    "#### 참고 : sklearn의 MultinomialNB 모듈에서 smoothing 과정에 사용된 k의 값은 1입니다."
   ]
  },
  {
   "cell_type": "code",
   "execution_count": 74,
   "metadata": {},
   "outputs": [
    {
     "data": {
      "text/plain": [
       "1.0"
      ]
     },
     "execution_count": 74,
     "metadata": {},
     "output_type": "execute_result"
    }
   ],
   "source": [
    "sklearn_MultinomialNB.alpha"
   ]
  }
 ],
 "metadata": {
  "kernelspec": {
   "display_name": "Python 3",
   "language": "python",
   "name": "python3"
  },
  "language_info": {
   "codemirror_mode": {
    "name": "ipython",
    "version": 3
   },
   "file_extension": ".py",
   "mimetype": "text/x-python",
   "name": "python",
   "nbconvert_exporter": "python",
   "pygments_lexer": "ipython3",
   "version": "3.8.3"
  }
 },
 "nbformat": 4,
 "nbformat_minor": 4
}
